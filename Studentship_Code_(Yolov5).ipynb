{
  "nbformat": 4,
  "nbformat_minor": 0,
  "metadata": {
    "colab": {
      "provenance": [],
      "collapsed_sections": [],
      "authorship_tag": "ABX9TyNJ4T0SSA4XhD8uhSs6IH4a",
      "include_colab_link": true
    },
    "kernelspec": {
      "name": "python3",
      "display_name": "Python 3"
    },
    "language_info": {
      "name": "python"
    },
    "accelerator": "GPU",
    "gpuClass": "standard"
  },
  "cells": [
    {
      "cell_type": "markdown",
      "metadata": {
        "id": "view-in-github",
        "colab_type": "text"
      },
      "source": [
        "<a href=\"https://colab.research.google.com/github/KieranPereira/SkinBurnClassification/blob/main/Studentship_Code_(Yolov5).ipynb\" target=\"_parent\"><img src=\"https://colab.research.google.com/assets/colab-badge.svg\" alt=\"Open In Colab\"/></a>"
      ]
    },
    {
      "cell_type": "markdown",
      "source": [
        "# **Introduction**"
      ],
      "metadata": {
        "id": "E7gfwSWuCR2Q"
      }
    },
    {
      "cell_type": "markdown",
      "source": [
        "**Aim:**\n",
        "\n",
        "With medical clinics and hospitals being under constant strain, the need for on-demand medical advice has never been greater. This has led many people to seek health advice on the internet, something that was usually dismissed due to unreliable or conflicting answers. Today, apps like Ada, a symptom checker, are only increasing in demand, with 5 million + downloads on the android store to date. Inevitably, these solutions for quick health advice will only increase due it its anonymity and data from these sources being verified by qualified doctors.\n",
        "\n",
        "Last term, I had several disappointing experiences with NHS response times. One of my friends received 2nd-degree burns on her leg after spilling boiling tea, after calling for an ambulance, she was told that there would be a 5 hour waiting period before an ambulance could be dispatched. She was unfortunately on her own and had to find out how to appropriately treat the burn before the doctors could come. I understand that the NHS is underfunded but was shocked by the slow response to such a serious injury and decided to do something about this. I am interested in using image recognition software to give a basic diagnosis for burns, rashes and wounds.\n",
        "\n",
        "**NOTE:**\n",
        "\n",
        "**The following notebook is work created during a summer research project sponsored by UCL**\n",
        "\n",
        "\n",
        "Prerequisites: Must have kaggle API token downloaded (see below for instructions)"
      ],
      "metadata": {
        "id": "zgTeZU45CO4w"
      }
    },
    {
      "cell_type": "markdown",
      "source": [
        "# **Installing Dependencies & Imports**"
      ],
      "metadata": {
        "id": "JAq2iEaNbkkp"
      }
    },
    {
      "cell_type": "markdown",
      "source": [
        "Installing Dependencies"
      ],
      "metadata": {
        "id": "CkulsjSkbqGw"
      }
    },
    {
      "cell_type": "code",
      "execution_count": 1,
      "metadata": {
        "colab": {
          "base_uri": "https://localhost:8080/"
        },
        "id": "wlVLI6B38FIU",
        "outputId": "f1a800f5-cdf5-4f05-940e-52b94d6c332f"
      },
      "outputs": [
        {
          "output_type": "stream",
          "name": "stdout",
          "text": [
            "Looking in indexes: https://pypi.org/simple, https://us-python.pkg.dev/colab-wheels/public/simple/\n",
            "Requirement already satisfied: kaggle in /usr/local/lib/python3.7/dist-packages (1.5.12)\n",
            "Requirement already satisfied: six>=1.10 in /usr/local/lib/python3.7/dist-packages (from kaggle) (1.15.0)\n",
            "Requirement already satisfied: urllib3 in /usr/local/lib/python3.7/dist-packages (from kaggle) (1.24.3)\n",
            "Requirement already satisfied: python-dateutil in /usr/local/lib/python3.7/dist-packages (from kaggle) (2.8.2)\n",
            "Requirement already satisfied: tqdm in /usr/local/lib/python3.7/dist-packages (from kaggle) (4.64.1)\n",
            "Requirement already satisfied: python-slugify in /usr/local/lib/python3.7/dist-packages (from kaggle) (6.1.2)\n",
            "Requirement already satisfied: requests in /usr/local/lib/python3.7/dist-packages (from kaggle) (2.23.0)\n",
            "Requirement already satisfied: certifi in /usr/local/lib/python3.7/dist-packages (from kaggle) (2022.9.24)\n",
            "Requirement already satisfied: text-unidecode>=1.3 in /usr/local/lib/python3.7/dist-packages (from python-slugify->kaggle) (1.3)\n",
            "Requirement already satisfied: idna<3,>=2.5 in /usr/local/lib/python3.7/dist-packages (from requests->kaggle) (2.10)\n",
            "Requirement already satisfied: chardet<4,>=3.0.2 in /usr/local/lib/python3.7/dist-packages (from requests->kaggle) (3.0.4)\n"
          ]
        }
      ],
      "source": [
        "import torch\n",
        "import os\n",
        "import shutil\n",
        "import zipfile\n",
        "import time\n",
        "import yaml\n",
        "%pip install kaggle"
      ]
    },
    {
      "cell_type": "markdown",
      "source": [
        "Cloning yolov5 repo and installing additional dependencies"
      ],
      "metadata": {
        "id": "rfU5QGWIbx0d"
      }
    },
    {
      "cell_type": "code",
      "source": [
        "#Cloning Yolov5 Repository\n",
        "if os.path.exists(\"yolov5\")==False:\n",
        "\n",
        "    print(\"preparing to clone yolov5 repository\")\n",
        "    time.sleep(1)\n",
        "\n",
        "    !git clone https://github.com/ultralytics/yolov5\n",
        "    os.chdir(\"yolov5\")\n",
        "    #Installing Dependencies\n",
        "\n",
        "    print(\"preparing to install dependencies\")\n",
        "    time.sleep(1)\n",
        "\n",
        "    %pip install -r requirements.txt\n",
        "    os.chdir(\"..\")\n"
      ],
      "metadata": {
        "id": "d2yYNZNl_PTA",
        "colab": {
          "base_uri": "https://localhost:8080/"
        },
        "outputId": "909aa142-cb50-4acb-fb51-f2d6feff1e3f"
      },
      "execution_count": 2,
      "outputs": [
        {
          "output_type": "stream",
          "name": "stdout",
          "text": [
            "preparing to clone yolov5 repository\n",
            "Cloning into 'yolov5'...\n",
            "remote: Enumerating objects: 13687, done.\u001b[K\n",
            "remote: Counting objects: 100% (489/489), done.\u001b[K\n",
            "remote: Compressing objects: 100% (179/179), done.\u001b[K\n",
            "remote: Total 13687 (delta 354), reused 435 (delta 310), pack-reused 13198\u001b[K\n",
            "Receiving objects: 100% (13687/13687), 13.29 MiB | 30.17 MiB/s, done.\n",
            "Resolving deltas: 100% (9413/9413), done.\n",
            "preparing to install dependencies\n",
            "Looking in indexes: https://pypi.org/simple, https://us-python.pkg.dev/colab-wheels/public/simple/\n",
            "Requirement already satisfied: matplotlib>=3.2.2 in /usr/local/lib/python3.7/dist-packages (from -r requirements.txt (line 5)) (3.2.2)\n",
            "Requirement already satisfied: numpy>=1.18.5 in /usr/local/lib/python3.7/dist-packages (from -r requirements.txt (line 6)) (1.21.6)\n",
            "Requirement already satisfied: opencv-python>=4.1.1 in /usr/local/lib/python3.7/dist-packages (from -r requirements.txt (line 7)) (4.6.0.66)\n",
            "Requirement already satisfied: Pillow>=7.1.2 in /usr/local/lib/python3.7/dist-packages (from -r requirements.txt (line 8)) (7.1.2)\n",
            "Requirement already satisfied: PyYAML>=5.3.1 in /usr/local/lib/python3.7/dist-packages (from -r requirements.txt (line 9)) (6.0)\n",
            "Requirement already satisfied: requests>=2.23.0 in /usr/local/lib/python3.7/dist-packages (from -r requirements.txt (line 10)) (2.23.0)\n",
            "Requirement already satisfied: scipy>=1.4.1 in /usr/local/lib/python3.7/dist-packages (from -r requirements.txt (line 11)) (1.7.3)\n",
            "Requirement already satisfied: torch>=1.7.0 in /usr/local/lib/python3.7/dist-packages (from -r requirements.txt (line 12)) (1.12.1+cu113)\n",
            "Requirement already satisfied: torchvision>=0.8.1 in /usr/local/lib/python3.7/dist-packages (from -r requirements.txt (line 13)) (0.13.1+cu113)\n",
            "Requirement already satisfied: tqdm>=4.64.0 in /usr/local/lib/python3.7/dist-packages (from -r requirements.txt (line 14)) (4.64.1)\n",
            "Requirement already satisfied: tensorboard>=2.4.1 in /usr/local/lib/python3.7/dist-packages (from -r requirements.txt (line 18)) (2.8.0)\n",
            "Requirement already satisfied: pandas>=1.1.4 in /usr/local/lib/python3.7/dist-packages (from -r requirements.txt (line 23)) (1.3.5)\n",
            "Requirement already satisfied: seaborn>=0.11.0 in /usr/local/lib/python3.7/dist-packages (from -r requirements.txt (line 24)) (0.11.2)\n",
            "Requirement already satisfied: ipython in /usr/local/lib/python3.7/dist-packages (from -r requirements.txt (line 41)) (7.9.0)\n",
            "Requirement already satisfied: psutil in /usr/local/lib/python3.7/dist-packages (from -r requirements.txt (line 42)) (5.4.8)\n",
            "Collecting thop>=0.1.1\n",
            "  Downloading thop-0.1.1.post2209072238-py3-none-any.whl (15 kB)\n",
            "Requirement already satisfied: python-dateutil>=2.1 in /usr/local/lib/python3.7/dist-packages (from matplotlib>=3.2.2->-r requirements.txt (line 5)) (2.8.2)\n",
            "Requirement already satisfied: cycler>=0.10 in /usr/local/lib/python3.7/dist-packages (from matplotlib>=3.2.2->-r requirements.txt (line 5)) (0.11.0)\n",
            "Requirement already satisfied: kiwisolver>=1.0.1 in /usr/local/lib/python3.7/dist-packages (from matplotlib>=3.2.2->-r requirements.txt (line 5)) (1.4.4)\n",
            "Requirement already satisfied: pyparsing!=2.0.4,!=2.1.2,!=2.1.6,>=2.0.1 in /usr/local/lib/python3.7/dist-packages (from matplotlib>=3.2.2->-r requirements.txt (line 5)) (3.0.9)\n",
            "Requirement already satisfied: chardet<4,>=3.0.2 in /usr/local/lib/python3.7/dist-packages (from requests>=2.23.0->-r requirements.txt (line 10)) (3.0.4)\n",
            "Requirement already satisfied: certifi>=2017.4.17 in /usr/local/lib/python3.7/dist-packages (from requests>=2.23.0->-r requirements.txt (line 10)) (2022.9.24)\n",
            "Requirement already satisfied: idna<3,>=2.5 in /usr/local/lib/python3.7/dist-packages (from requests>=2.23.0->-r requirements.txt (line 10)) (2.10)\n",
            "Requirement already satisfied: urllib3!=1.25.0,!=1.25.1,<1.26,>=1.21.1 in /usr/local/lib/python3.7/dist-packages (from requests>=2.23.0->-r requirements.txt (line 10)) (1.24.3)\n",
            "Requirement already satisfied: typing-extensions in /usr/local/lib/python3.7/dist-packages (from torch>=1.7.0->-r requirements.txt (line 12)) (4.1.1)\n",
            "Requirement already satisfied: google-auth-oauthlib<0.5,>=0.4.1 in /usr/local/lib/python3.7/dist-packages (from tensorboard>=2.4.1->-r requirements.txt (line 18)) (0.4.6)\n",
            "Requirement already satisfied: werkzeug>=0.11.15 in /usr/local/lib/python3.7/dist-packages (from tensorboard>=2.4.1->-r requirements.txt (line 18)) (1.0.1)\n",
            "Requirement already satisfied: markdown>=2.6.8 in /usr/local/lib/python3.7/dist-packages (from tensorboard>=2.4.1->-r requirements.txt (line 18)) (3.4.1)\n",
            "Requirement already satisfied: google-auth<3,>=1.6.3 in /usr/local/lib/python3.7/dist-packages (from tensorboard>=2.4.1->-r requirements.txt (line 18)) (1.35.0)\n",
            "Requirement already satisfied: grpcio>=1.24.3 in /usr/local/lib/python3.7/dist-packages (from tensorboard>=2.4.1->-r requirements.txt (line 18)) (1.49.1)\n",
            "Requirement already satisfied: protobuf>=3.6.0 in /usr/local/lib/python3.7/dist-packages (from tensorboard>=2.4.1->-r requirements.txt (line 18)) (3.17.3)\n",
            "Requirement already satisfied: tensorboard-plugin-wit>=1.6.0 in /usr/local/lib/python3.7/dist-packages (from tensorboard>=2.4.1->-r requirements.txt (line 18)) (1.8.1)\n",
            "Requirement already satisfied: tensorboard-data-server<0.7.0,>=0.6.0 in /usr/local/lib/python3.7/dist-packages (from tensorboard>=2.4.1->-r requirements.txt (line 18)) (0.6.1)\n",
            "Requirement already satisfied: absl-py>=0.4 in /usr/local/lib/python3.7/dist-packages (from tensorboard>=2.4.1->-r requirements.txt (line 18)) (1.2.0)\n",
            "Requirement already satisfied: wheel>=0.26 in /usr/local/lib/python3.7/dist-packages (from tensorboard>=2.4.1->-r requirements.txt (line 18)) (0.37.1)\n",
            "Requirement already satisfied: setuptools>=41.0.0 in /usr/local/lib/python3.7/dist-packages (from tensorboard>=2.4.1->-r requirements.txt (line 18)) (57.4.0)\n",
            "Requirement already satisfied: pytz>=2017.3 in /usr/local/lib/python3.7/dist-packages (from pandas>=1.1.4->-r requirements.txt (line 23)) (2022.4)\n",
            "Requirement already satisfied: rsa<5,>=3.1.4 in /usr/local/lib/python3.7/dist-packages (from google-auth<3,>=1.6.3->tensorboard>=2.4.1->-r requirements.txt (line 18)) (4.9)\n",
            "Requirement already satisfied: six>=1.9.0 in /usr/local/lib/python3.7/dist-packages (from google-auth<3,>=1.6.3->tensorboard>=2.4.1->-r requirements.txt (line 18)) (1.15.0)\n",
            "Requirement already satisfied: pyasn1-modules>=0.2.1 in /usr/local/lib/python3.7/dist-packages (from google-auth<3,>=1.6.3->tensorboard>=2.4.1->-r requirements.txt (line 18)) (0.2.8)\n",
            "Requirement already satisfied: cachetools<5.0,>=2.0.0 in /usr/local/lib/python3.7/dist-packages (from google-auth<3,>=1.6.3->tensorboard>=2.4.1->-r requirements.txt (line 18)) (4.2.4)\n",
            "Requirement already satisfied: requests-oauthlib>=0.7.0 in /usr/local/lib/python3.7/dist-packages (from google-auth-oauthlib<0.5,>=0.4.1->tensorboard>=2.4.1->-r requirements.txt (line 18)) (1.3.1)\n",
            "Requirement already satisfied: importlib-metadata>=4.4 in /usr/local/lib/python3.7/dist-packages (from markdown>=2.6.8->tensorboard>=2.4.1->-r requirements.txt (line 18)) (5.0.0)\n",
            "Requirement already satisfied: zipp>=0.5 in /usr/local/lib/python3.7/dist-packages (from importlib-metadata>=4.4->markdown>=2.6.8->tensorboard>=2.4.1->-r requirements.txt (line 18)) (3.8.1)\n",
            "Requirement already satisfied: pyasn1<0.5.0,>=0.4.6 in /usr/local/lib/python3.7/dist-packages (from pyasn1-modules>=0.2.1->google-auth<3,>=1.6.3->tensorboard>=2.4.1->-r requirements.txt (line 18)) (0.4.8)\n",
            "Requirement already satisfied: oauthlib>=3.0.0 in /usr/local/lib/python3.7/dist-packages (from requests-oauthlib>=0.7.0->google-auth-oauthlib<0.5,>=0.4.1->tensorboard>=2.4.1->-r requirements.txt (line 18)) (3.2.1)\n",
            "Requirement already satisfied: backcall in /usr/local/lib/python3.7/dist-packages (from ipython->-r requirements.txt (line 41)) (0.2.0)\n",
            "Requirement already satisfied: prompt-toolkit<2.1.0,>=2.0.0 in /usr/local/lib/python3.7/dist-packages (from ipython->-r requirements.txt (line 41)) (2.0.10)\n",
            "Requirement already satisfied: pygments in /usr/local/lib/python3.7/dist-packages (from ipython->-r requirements.txt (line 41)) (2.6.1)\n",
            "Requirement already satisfied: traitlets>=4.2 in /usr/local/lib/python3.7/dist-packages (from ipython->-r requirements.txt (line 41)) (5.1.1)\n",
            "Requirement already satisfied: pickleshare in /usr/local/lib/python3.7/dist-packages (from ipython->-r requirements.txt (line 41)) (0.7.5)\n",
            "Requirement already satisfied: decorator in /usr/local/lib/python3.7/dist-packages (from ipython->-r requirements.txt (line 41)) (4.4.2)\n",
            "Requirement already satisfied: pexpect in /usr/local/lib/python3.7/dist-packages (from ipython->-r requirements.txt (line 41)) (4.8.0)\n",
            "Collecting jedi>=0.10\n",
            "  Downloading jedi-0.18.1-py2.py3-none-any.whl (1.6 MB)\n",
            "\u001b[K     |████████████████████████████████| 1.6 MB 41.0 MB/s \n",
            "\u001b[?25hRequirement already satisfied: parso<0.9.0,>=0.8.0 in /usr/local/lib/python3.7/dist-packages (from jedi>=0.10->ipython->-r requirements.txt (line 41)) (0.8.3)\n",
            "Requirement already satisfied: wcwidth in /usr/local/lib/python3.7/dist-packages (from prompt-toolkit<2.1.0,>=2.0.0->ipython->-r requirements.txt (line 41)) (0.2.5)\n",
            "Requirement already satisfied: ptyprocess>=0.5 in /usr/local/lib/python3.7/dist-packages (from pexpect->ipython->-r requirements.txt (line 41)) (0.7.0)\n",
            "Installing collected packages: jedi, thop\n",
            "Successfully installed jedi-0.18.1 thop-0.1.1.post2209072238\n"
          ]
        }
      ]
    },
    {
      "cell_type": "markdown",
      "source": [
        "# **Dataset Paths and formatting**"
      ],
      "metadata": {
        "id": "V9g_wZLscA4K"
      }
    },
    {
      "cell_type": "markdown",
      "source": [
        "Creating Dataset Paths for Training, Validation and Testing. Creating Subdirectories for images and labels in each folder."
      ],
      "metadata": {
        "id": "8SMjP4L3cFT1"
      }
    },
    {
      "cell_type": "code",
      "source": [
        "#Creating dataset paths\n",
        "if os.path.exists(\"BurnsDataset\")==False:\n",
        "    \n",
        "    print(\"Preparing to create dataset paths\")\n",
        "    \n",
        "  \n",
        "    os.makedirs(\"BurnsDataset\")\n",
        "    os.chdir(\"BurnsDataset\")\n",
        "    os.makedirs(\"test/images\")\n",
        "    os.makedirs(\"test/labels\")\n",
        "    os.makedirs(\"train/images\")\n",
        "    os.makedirs(\"train/labels\")\n",
        "    os.makedirs(\"val/images\")\n",
        "    os.makedirs(\"val/labels\")\n",
        "    os.chdir(\"..\")"
      ],
      "metadata": {
        "colab": {
          "base_uri": "https://localhost:8080/"
        },
        "id": "GiodCHFUBS8x",
        "outputId": "6ad05b95-b770-4b8b-d5b0-0bda4eb9ae29"
      },
      "execution_count": null,
      "outputs": [
        {
          "output_type": "stream",
          "name": "stdout",
          "text": [
            "Preparing to create dataset paths\n"
          ]
        }
      ]
    },
    {
      "cell_type": "code",
      "source": [
        "#Navigating to home directory\n",
        "while os.getcwd()!=\"/content\":\n",
        "  os.chdir(\"..\")\n",
        "print(os.getcwd())"
      ],
      "metadata": {
        "colab": {
          "base_uri": "https://localhost:8080/"
        },
        "id": "S9w2w5NKCzzR",
        "outputId": "46df9e87-5341-4e20-bded-18d168395720"
      },
      "execution_count": null,
      "outputs": [
        {
          "output_type": "stream",
          "name": "stdout",
          "text": [
            "/content\n"
          ]
        }
      ]
    },
    {
      "cell_type": "markdown",
      "source": [
        "Downloading Dataset from kaggle.com. Requires API token to be downloaded and uploaded to drive. Instructions for downloading API token can be found here: https://www.kaggle.com/docs/api"
      ],
      "metadata": {
        "id": "BZUU9-43cOdw"
      }
    },
    {
      "cell_type": "code",
      "source": [
        "\n",
        "if os.path.exists(\"..\\.kaggle\\kaggle.json\")==False:\n",
        "    \n",
        "    print(\"preparing to download dataset\")\n",
        "    time.sleep(2)\n",
        "    !mkdir ~/.kaggle\n",
        "    from google.colab import files\n",
        "    files.upload()\n",
        "    shutil.move(\"kaggle.json\",\"../root/.kaggle/kaggle.json\")\n",
        "    !chmod 600 ~/.kaggle/kaggle.json\n",
        "    !kaggle datasets download -d shubhambaid/skin-burn-dataset\n",
        "    with zipfile.ZipFile(\"skin-burn-dataset.zip\",\"r\") as zip_ref:\n",
        "        zip_ref.extractall(\"BurnsDataset\")\n",
        "    os.remove(\"skin-burn-dataset.zip\")"
      ],
      "metadata": {
        "colab": {
          "base_uri": "https://localhost:8080/",
          "height": 142
        },
        "id": "Xs78t6OtCBRC",
        "outputId": "154857a4-5cc4-4986-a365-047e8ea3795d"
      },
      "execution_count": null,
      "outputs": [
        {
          "output_type": "stream",
          "name": "stdout",
          "text": [
            "preparing to download dataset\n"
          ]
        },
        {
          "output_type": "display_data",
          "data": {
            "text/plain": [
              "<IPython.core.display.HTML object>"
            ],
            "text/html": [
              "\n",
              "     <input type=\"file\" id=\"files-b937509f-831c-481d-8440-7e467beb11ba\" name=\"files[]\" multiple disabled\n",
              "        style=\"border:none\" />\n",
              "     <output id=\"result-b937509f-831c-481d-8440-7e467beb11ba\">\n",
              "      Upload widget is only available when the cell has been executed in the\n",
              "      current browser session. Please rerun this cell to enable.\n",
              "      </output>\n",
              "      <script>// Copyright 2017 Google LLC\n",
              "//\n",
              "// Licensed under the Apache License, Version 2.0 (the \"License\");\n",
              "// you may not use this file except in compliance with the License.\n",
              "// You may obtain a copy of the License at\n",
              "//\n",
              "//      http://www.apache.org/licenses/LICENSE-2.0\n",
              "//\n",
              "// Unless required by applicable law or agreed to in writing, software\n",
              "// distributed under the License is distributed on an \"AS IS\" BASIS,\n",
              "// WITHOUT WARRANTIES OR CONDITIONS OF ANY KIND, either express or implied.\n",
              "// See the License for the specific language governing permissions and\n",
              "// limitations under the License.\n",
              "\n",
              "/**\n",
              " * @fileoverview Helpers for google.colab Python module.\n",
              " */\n",
              "(function(scope) {\n",
              "function span(text, styleAttributes = {}) {\n",
              "  const element = document.createElement('span');\n",
              "  element.textContent = text;\n",
              "  for (const key of Object.keys(styleAttributes)) {\n",
              "    element.style[key] = styleAttributes[key];\n",
              "  }\n",
              "  return element;\n",
              "}\n",
              "\n",
              "// Max number of bytes which will be uploaded at a time.\n",
              "const MAX_PAYLOAD_SIZE = 100 * 1024;\n",
              "\n",
              "function _uploadFiles(inputId, outputId) {\n",
              "  const steps = uploadFilesStep(inputId, outputId);\n",
              "  const outputElement = document.getElementById(outputId);\n",
              "  // Cache steps on the outputElement to make it available for the next call\n",
              "  // to uploadFilesContinue from Python.\n",
              "  outputElement.steps = steps;\n",
              "\n",
              "  return _uploadFilesContinue(outputId);\n",
              "}\n",
              "\n",
              "// This is roughly an async generator (not supported in the browser yet),\n",
              "// where there are multiple asynchronous steps and the Python side is going\n",
              "// to poll for completion of each step.\n",
              "// This uses a Promise to block the python side on completion of each step,\n",
              "// then passes the result of the previous step as the input to the next step.\n",
              "function _uploadFilesContinue(outputId) {\n",
              "  const outputElement = document.getElementById(outputId);\n",
              "  const steps = outputElement.steps;\n",
              "\n",
              "  const next = steps.next(outputElement.lastPromiseValue);\n",
              "  return Promise.resolve(next.value.promise).then((value) => {\n",
              "    // Cache the last promise value to make it available to the next\n",
              "    // step of the generator.\n",
              "    outputElement.lastPromiseValue = value;\n",
              "    return next.value.response;\n",
              "  });\n",
              "}\n",
              "\n",
              "/**\n",
              " * Generator function which is called between each async step of the upload\n",
              " * process.\n",
              " * @param {string} inputId Element ID of the input file picker element.\n",
              " * @param {string} outputId Element ID of the output display.\n",
              " * @return {!Iterable<!Object>} Iterable of next steps.\n",
              " */\n",
              "function* uploadFilesStep(inputId, outputId) {\n",
              "  const inputElement = document.getElementById(inputId);\n",
              "  inputElement.disabled = false;\n",
              "\n",
              "  const outputElement = document.getElementById(outputId);\n",
              "  outputElement.innerHTML = '';\n",
              "\n",
              "  const pickedPromise = new Promise((resolve) => {\n",
              "    inputElement.addEventListener('change', (e) => {\n",
              "      resolve(e.target.files);\n",
              "    });\n",
              "  });\n",
              "\n",
              "  const cancel = document.createElement('button');\n",
              "  inputElement.parentElement.appendChild(cancel);\n",
              "  cancel.textContent = 'Cancel upload';\n",
              "  const cancelPromise = new Promise((resolve) => {\n",
              "    cancel.onclick = () => {\n",
              "      resolve(null);\n",
              "    };\n",
              "  });\n",
              "\n",
              "  // Wait for the user to pick the files.\n",
              "  const files = yield {\n",
              "    promise: Promise.race([pickedPromise, cancelPromise]),\n",
              "    response: {\n",
              "      action: 'starting',\n",
              "    }\n",
              "  };\n",
              "\n",
              "  cancel.remove();\n",
              "\n",
              "  // Disable the input element since further picks are not allowed.\n",
              "  inputElement.disabled = true;\n",
              "\n",
              "  if (!files) {\n",
              "    return {\n",
              "      response: {\n",
              "        action: 'complete',\n",
              "      }\n",
              "    };\n",
              "  }\n",
              "\n",
              "  for (const file of files) {\n",
              "    const li = document.createElement('li');\n",
              "    li.append(span(file.name, {fontWeight: 'bold'}));\n",
              "    li.append(span(\n",
              "        `(${file.type || 'n/a'}) - ${file.size} bytes, ` +\n",
              "        `last modified: ${\n",
              "            file.lastModifiedDate ? file.lastModifiedDate.toLocaleDateString() :\n",
              "                                    'n/a'} - `));\n",
              "    const percent = span('0% done');\n",
              "    li.appendChild(percent);\n",
              "\n",
              "    outputElement.appendChild(li);\n",
              "\n",
              "    const fileDataPromise = new Promise((resolve) => {\n",
              "      const reader = new FileReader();\n",
              "      reader.onload = (e) => {\n",
              "        resolve(e.target.result);\n",
              "      };\n",
              "      reader.readAsArrayBuffer(file);\n",
              "    });\n",
              "    // Wait for the data to be ready.\n",
              "    let fileData = yield {\n",
              "      promise: fileDataPromise,\n",
              "      response: {\n",
              "        action: 'continue',\n",
              "      }\n",
              "    };\n",
              "\n",
              "    // Use a chunked sending to avoid message size limits. See b/62115660.\n",
              "    let position = 0;\n",
              "    do {\n",
              "      const length = Math.min(fileData.byteLength - position, MAX_PAYLOAD_SIZE);\n",
              "      const chunk = new Uint8Array(fileData, position, length);\n",
              "      position += length;\n",
              "\n",
              "      const base64 = btoa(String.fromCharCode.apply(null, chunk));\n",
              "      yield {\n",
              "        response: {\n",
              "          action: 'append',\n",
              "          file: file.name,\n",
              "          data: base64,\n",
              "        },\n",
              "      };\n",
              "\n",
              "      let percentDone = fileData.byteLength === 0 ?\n",
              "          100 :\n",
              "          Math.round((position / fileData.byteLength) * 100);\n",
              "      percent.textContent = `${percentDone}% done`;\n",
              "\n",
              "    } while (position < fileData.byteLength);\n",
              "  }\n",
              "\n",
              "  // All done.\n",
              "  yield {\n",
              "    response: {\n",
              "      action: 'complete',\n",
              "    }\n",
              "  };\n",
              "}\n",
              "\n",
              "scope.google = scope.google || {};\n",
              "scope.google.colab = scope.google.colab || {};\n",
              "scope.google.colab._files = {\n",
              "  _uploadFiles,\n",
              "  _uploadFilesContinue,\n",
              "};\n",
              "})(self);\n",
              "</script> "
            ]
          },
          "metadata": {}
        },
        {
          "output_type": "stream",
          "name": "stdout",
          "text": [
            "Saving kaggle.json to kaggle.json\n",
            "Downloading skin-burn-dataset.zip to /content\n",
            "  0% 0.00/16.6M [00:00<?, ?B/s]\n",
            "100% 16.6M/16.6M [00:00<00:00, 195MB/s]\n"
          ]
        }
      ]
    },
    {
      "cell_type": "code",
      "source": [
        "os.chdir(\"/content\")"
      ],
      "metadata": {
        "id": "Y7VWAtXqgIzI"
      },
      "execution_count": null,
      "outputs": []
    },
    {
      "cell_type": "markdown",
      "source": [
        "Finding number of valid/usable images in the dataset."
      ],
      "metadata": {
        "id": "f0MmdJf0G2Li"
      }
    },
    {
      "cell_type": "code",
      "source": [
        "#Dataset formatting\n",
        "temp_len= int(len(os.listdir(\"BurnsDataset\")))\n",
        "print(temp_len)\n",
        "#Dataset formatting\n",
        "os.chdir(\"BurnsDataset\")\n",
        "print(\"preparing to format data\")\n",
        "#Removing unlabelled images from dataset\n",
        "#Counting number of images in new dataset\n",
        "number_img = 0\n",
        "text_img =0\n",
        "for i in range (0,int(temp_len)+1):\n",
        "  string1= str(i)\n",
        "  if os.path.exists(\"img\"+string1+\".jpg\")==True:\n",
        "      number_img=number_img+1\n",
        "\n",
        "print(\"There are {} images in your dataset\".format(str(number_img)))"
      ],
      "metadata": {
        "id": "VvF4RoWVc_gz",
        "colab": {
          "base_uri": "https://localhost:8080/"
        },
        "outputId": "a05100c0-c850-419e-953c-a39a109476bd"
      },
      "execution_count": null,
      "outputs": [
        {
          "output_type": "stream",
          "name": "stdout",
          "text": [
            "2671\n",
            "preparing to format data\n",
            "There are 1225 images in your dataset\n"
          ]
        }
      ]
    },
    {
      "cell_type": "markdown",
      "source": [
        "Defining Ratios for Test:Validation:Train data. \n",
        "\n",
        "*Note: For improved training results, increase the ratio for 'Train' data.*"
      ],
      "metadata": {
        "id": "8D78gz0jcecm"
      }
    },
    {
      "cell_type": "code",
      "source": [
        "    print(\"preparing to format data\")\n",
        "    test_ratio=float(input(\"Please enter the ratio for your test data (note test, val, train data must sum to 10)\"))\n",
        "    val_ratio=float(input(\"Please enter the ratio for your val data (note test, val, train data must sum to 10)\"))\n",
        "    train_ratio=float(input(\"Please enter the ratio for your train data (note test, val, train data must sum to 10)\"))\n",
        "    while test_ratio+val_ratio+train_ratio !=10:\n",
        "        print(\" test, val, train data must sum to 10\")\n",
        "        test_ratio=float(input(\"Please enter the ratio for your test data (note test, val, train data must sum to 10)\"))\n",
        "        val_ratio=float(input(\"Please enter the ratio for your val data (note test, val, train data must sum to 10)\"))\n",
        "        train_ratio=float(input(\"Please enter the ratio for your train data (note test, val, train data must sum to 10)\"))\n",
        "    print(\"splitting into \" +str(test_ratio)+\":\"+str(val_ratio)+\":\" +str(train_ratio)+\" for test:val:train\")\n",
        "    time.sleep(2)\n",
        "    test_num= number_img//(float(1/(test_ratio/10)))\n",
        "    val_num= number_img//(float(1/(val_ratio/10)))\n",
        "    train_num= number_img//(float(1/(train_ratio/10)))"
      ],
      "metadata": {
        "id": "n-gcSaZYFlZp",
        "colab": {
          "base_uri": "https://localhost:8080/"
        },
        "outputId": "0584c6a0-f998-45fe-d7d3-9a56f9fe3d50"
      },
      "execution_count": null,
      "outputs": [
        {
          "output_type": "stream",
          "name": "stdout",
          "text": [
            "preparing to format data\n",
            "Please enter the ratio for your test data (note test, val, train data must sum to 10)0.5\n",
            "Please enter the ratio for your val data (note test, val, train data must sum to 10)1.5\n",
            "Please enter the ratio for your train data (note test, val, train data must sum to 10)8\n",
            "splitting into 0.5:1.5:8.0 for test:val:train\n"
          ]
        }
      ]
    },
    {
      "cell_type": "markdown",
      "source": [
        "Moving images and associated labels to test,train and validation folders"
      ],
      "metadata": {
        "id": "KMQRk04JPWKo"
      }
    },
    {
      "cell_type": "code",
      "source": [
        "    while os.getcwd()!=\"/content\":\n",
        "      os.chdir(\"..\")\n",
        "    print(os.getcwd())\n",
        "# create a list of files in burns dataset and appending it to a .txt file. This allows  \n",
        "    allFiles=[]\n",
        "    for entry in os.listdir(\"BurnsDataset\"):\n",
        "        if \".jpg\" in entry:\n",
        "            allFiles.append(entry)\n",
        "        if \".jpeg\" in entry:\n",
        "            allFiles.append(entry)\n",
        "    with open(\"allfiles.txt\",\"w\") as w:\n",
        "        w.write(str(allFiles))\n",
        "    w.close\n",
        "    te_num=0\n",
        "    va_num=0\n",
        "    tr_num=0\n",
        "    os.chdir(\"BurnsDataset\")\n",
        "    print(\"appending files to test folder: \\n {}\".format(os.getcwd()))\n",
        "    time.sleep(2)\n",
        "    for i in range(0,len(allFiles)):\n",
        "        if i in range(0,int(test_num)):\n",
        "            te_num=te_num+1\n",
        "            entry_file= allFiles[i]\n",
        "            if \".jpg\" in entry_file:\n",
        "                shutil.move(entry_file, \"test\")\n",
        "                shutil.move(str(entry_file).replace(\".jpg\",\".txt\"), \"test\")\n",
        "            elif \".jpeg\" in entry_file:\n",
        "                shutil.move(entry_file, \"test\")\n",
        "                shutil.move(str(entry_file).replace(\".jpeg\",\".txt\"),\"test\")\n",
        "        os.chdir(\"test\")\n",
        "        for filename in os.listdir():\n",
        "            if \".jpg\" in filename:\n",
        "                shutil.move(filename,\"images\")\n",
        "            elif \".txt\" in filename:\n",
        "                shutil.move(filename,\"labels\")\n",
        "            elif \".jpeg\" in filename:\n",
        "                shutil.move(filename,\"images\")\n",
        "        os.chdir(\"..\")\n",
        "    print(\"te_num={}\".format(te_num))\n",
        "    print(\"appending files to validation folder: \\n {}\".format(os.getcwd()))\n",
        "    time.sleep(2)\n",
        "    for i in range(0,len(allFiles)):\n",
        "        if i in range(int(test_num),int(val_num*2)):\n",
        "            va_num=va_num+1\n",
        "            entry_file= allFiles[i]\n",
        "            if \".jpg\" in entry_file:\n",
        "                shutil.move(entry_file, \"val\")\n",
        "                shutil.move(str(entry_file).replace(\".jpg\",\".txt\"), \"val\")\n",
        "            elif \".jpeg\" in entry_file:\n",
        "                shutil.move(entry_file, \"val\")\n",
        "                shutil.move(str(entry_file).replace(\".jpeg\",\".txt\"), \"val\")\n",
        "        os.chdir(\"val\")\n",
        "        for filename in os.listdir():\n",
        "            if \".jpg\" in filename:\n",
        "                shutil.move(filename,\"images\")\n",
        "            elif \".txt\" in filename:\n",
        "                shutil.move(filename,\"labels\")\n",
        "            elif \".jpeg\" in filename:\n",
        "                shutil.move(filename,\"images\")\n",
        "        os.chdir(\"..\")\n",
        "    print(\"va_num={}\".format(va_num))\n",
        "    print(\"appending files to train folder: \\n {}\".format(os.getcwd()))\n",
        "    time.sleep(2)\n",
        "    for i in range(0,len(allFiles)):\n",
        "        if i in range(int(val_num*2),len(allFiles)):\n",
        "            tr_num=tr_num+1\n",
        "            entry_file= allFiles[i]\n",
        "            if \".jpg\" in entry_file:\n",
        "                shutil.move(entry_file, \"train\")\n",
        "                shutil.move(str(entry_file).replace(\".jpg\",\".txt\"), \"train\")\n",
        "            elif \".jpeg\" in entry_file:\n",
        "                shutil.move(entry_file, \"train\")\n",
        "                shutil.move(str(entry_file).replace(\".jpeg\",\".txt\"), \"train\")\n",
        "        os.chdir(\"train\")\n",
        "        for filename in os.listdir():\n",
        "            if \".jpg\" in filename:\n",
        "                shutil.move(filename,\"images\")\n",
        "            elif \".txt\" in filename:\n",
        "                shutil.move(filename,\"labels\")\n",
        "            elif \".jpeg\" in filename:\n",
        "                shutil.move(filename,\"images\")\n",
        "        os.chdir(\"..\")\n",
        "    for file in os.listdir():\n",
        "        if \".txt\" in file:\n",
        "            os.remove(file)\n",
        "    print(\"Dataset Successfully Sorted\")"
      ],
      "metadata": {
        "id": "1eZXsFAsMz4R",
        "colab": {
          "base_uri": "https://localhost:8080/"
        },
        "outputId": "124671b6-b512-48bb-a59f-5ffc172297f8"
      },
      "execution_count": null,
      "outputs": [
        {
          "output_type": "stream",
          "name": "stdout",
          "text": [
            "/content\n",
            "appending files to test folder: \n",
            " /content/BurnsDataset\n",
            "te_num=61\n",
            "appending files to validation folder: \n",
            " /content/BurnsDataset\n",
            "va_num=305\n",
            "appending files to train folder: \n",
            " /content/BurnsDataset\n",
            "Dataset Successfully Sorted\n"
          ]
        }
      ]
    },
    {
      "cell_type": "markdown",
      "source": [
        "#**Defining Custom Architecture and defining data pathways**"
      ],
      "metadata": {
        "id": "ibcfknxXHcBl"
      }
    },
    {
      "cell_type": "markdown",
      "source": [
        "Creating Custom Yaml file for data paths"
      ],
      "metadata": {
        "id": "8X7nmmA8TTIH"
      }
    },
    {
      "cell_type": "code",
      "source": [
        "\n",
        "while os.getcwd()!=\"/content\":\n",
        "  os.chdir(\"..\")\n",
        "print(os.getcwd())\n",
        "if os.path.exists(\"yolov5/data/custom.yaml\") == False:\n",
        "    print(\"Creating custom yaml file:\")\n",
        "    time.sleep(2)\n",
        "    with open('custom.yaml', 'w+') as file:\n",
        "        file.write(\n",
        "\"\"\"\n",
        "path: ../BurnsDataset\n",
        "train: train/images\n",
        "test: test/images\n",
        "val: val/images\n",
        "nc: 3\n",
        "names: [\"1st Degree\",\"2nd Degree\",\"3rd Degree\"]\n",
        "\"\"\"\n",
        "        )\n",
        "        file.close()\n",
        "    shutil.move(\"custom.yaml\",\"yolov5/data/custom.yaml\")"
      ],
      "metadata": {
        "id": "defa4rhqJXo2",
        "colab": {
          "base_uri": "https://localhost:8080/"
        },
        "outputId": "7820ae4f-07d6-4ebb-c02e-5f904b0437cd"
      },
      "execution_count": null,
      "outputs": [
        {
          "output_type": "stream",
          "name": "stdout",
          "text": [
            "/content\n",
            "Creating custom yaml file:\n"
          ]
        }
      ]
    },
    {
      "cell_type": "markdown",
      "source": [
        "Defining Custom Architecture in a yaml file"
      ],
      "metadata": {
        "id": "l2mfgGTFILW-"
      }
    },
    {
      "cell_type": "code",
      "source": [
        "num_classes = 3\n",
        "##write custom model .yaml\n",
        "with open('custom_yolov5s.yaml', 'w') as f:\n",
        "  # parameters\n",
        "  f.write('nc: ' + str(num_classes) + '\\n')\n",
        "  #f.write('nc: ' + str(len(class_labels)) + '\\n')\n",
        "  f.write('depth_multiple: 0.33'  + '\\n') # model depth multiple\n",
        "  f.write('width_multiple: 0.50'  + '\\n')  # layer channel multiple\n",
        "  f.write('\\n')\n",
        "  f.write('anchors:' + '\\n')\n",
        "  f.write('  - [10,13, 16,30, 33,23] ' + '\\n')\n",
        "  f.write('  - [30,61, 62,45, 59,119]' + '\\n')\n",
        "  f.write('  - [116,90, 156,198, 373,326] ' + '\\n')\n",
        "  f.write('\\n')\n",
        "\n",
        "  f.write('backbone:' + '\\n')\n",
        "  f.write('  [[-1, 1, Focus, [64, 3]],' + '\\n') #0-P1/2\n",
        "  f.write('   [-1, 1, Conv, [128, 3, 2]],' + '\\n')# 1-P2/4\n",
        "  f.write('   [-1, 3, BottleneckCSP, [128]],' + '\\n')\n",
        "  f.write('   [-1, 1, Conv, [256, 3, 2]],' + '\\n')# 3-P3/8\n",
        "  f.write('   [-1, 9, BottleneckCSP, [128]],' + '\\n')\n",
        "  f.write('   [-1, 1, Conv, [512, 3, 2]], ' + '\\n')# 5-P4/16\n",
        "  f.write('   [-1, 9, BottleneckCSP, [256]],' + '\\n')\n",
        "  f.write('   [-1, 1, Conv, [1024, 3, 2]],' + '\\n')# 7-P5/32\n",
        "  f.write('   [-1, 1, SPP, [1024, [5, 9, 13]]],' + '\\n')\n",
        "  f.write('   [-1, 3, BottleneckCSP, [1024,False]],' + '\\n') # 9\n",
        "  f.write('  ]' + '\\n')\n",
        "  f.write('\\n')\n",
        "\n",
        "  f.write('head:'  + '\\n')\n",
        "  f.write('  [[-1, 1, Conv, [512, 1, 1]],'  + '\\n')\n",
        "  f.write('   [-1, 1, nn.Upsample, [None, 2,\\'nearest\\']],' + '\\n')\n",
        "  f.write('   [[-1, 6], 1, Concat, [1]],' + '\\n')#Cat Backbone P4\n",
        "  f.write('   [-1, 3, BottleneckCSP, [512, False]],' + '\\n')# 13\n",
        "  f.write('\\n' )\n",
        "  f.write('   [-1, 1, Conv, [256, 1, 1]],'  + '\\n')\n",
        "  f.write('   [-1, 1, nn.Upsample, [None, 2, \\'nearest\\']],' + '\\n')\n",
        "  f.write('   [[-1, 4], 1, Concat, [1]],' + '\\n')# cat backbone P3\n",
        "  f.write('   [-1, 3, BottleneckCSP, [256, False]],' + '\\n') # 17 (P3/8-small)\n",
        "  f.write('\\n' )\n",
        "  f.write('   [-1, 1, Conv, [256, 3, 2]],' + '\\n')\n",
        "  f.write('   [[-1, 14], 1, Concat, [1]],' + '\\n')# cat head P4\n",
        "  f.write('   [-1, 3, BottleneckCSP, [512, False]],' + '\\n')# 23 (P5/32-large)\n",
        "  f.write('\\n' )\n",
        "  f.write('   [-1, 1, Conv, [512, 3, 2]],' + '\\n')\n",
        "  f.write('   [[-1, 10], 1, Concat, [1]],' + '\\n')# cat head P5\n",
        "  f.write('   [-1, 3, BottleneckCSP, [1024, False]],' + '\\n')# 23 (P5/32-large)\n",
        "  f.write('\\n' )\n",
        "  f.write('   [[17, 20, 23], 1, Detect, [nc, anchors]],' + '\\n')# Detect(P3, P4, P5)\n",
        "  f.write('  ]' + '\\n')\n",
        "\n",
        "print('custom model config written')\n",
        "shutil.move(\"custom_yolov5s.yaml\", \"/content/yolov5/models/custom_yolov5s.yaml\")"
      ],
      "metadata": {
        "id": "mf7Ix_YuPCG8",
        "colab": {
          "base_uri": "https://localhost:8080/",
          "height": 53
        },
        "outputId": "2611be52-2b2e-44cc-a913-891f91869a17"
      },
      "execution_count": null,
      "outputs": [
        {
          "output_type": "stream",
          "name": "stdout",
          "text": [
            "custom model config written!\n"
          ]
        },
        {
          "output_type": "execute_result",
          "data": {
            "text/plain": [
              "'/content/yolov5/models/custom_yolov5s.yaml'"
            ],
            "application/vnd.google.colaboratory.intrinsic+json": {
              "type": "string"
            }
          },
          "metadata": {},
          "execution_count": 11
        }
      ]
    },
    {
      "cell_type": "code",
      "source": [
        "print(os.getcwd())"
      ],
      "metadata": {
        "id": "GuGZ2QiAYKAR",
        "colab": {
          "base_uri": "https://localhost:8080/"
        },
        "outputId": "c88fbc8d-0315-44bf-f90d-9411e466e1ea"
      },
      "execution_count": null,
      "outputs": [
        {
          "output_type": "stream",
          "name": "stdout",
          "text": [
            "/content\n"
          ]
        }
      ]
    },
    {
      "cell_type": "code",
      "source": [
        "#Changing Directory to facilitate training\n",
        "while os.getcwd()!=\"/content\":\n",
        "  os.chdir(\"..\")\n",
        "os.chdir(\"yolov5\")\n",
        "print(os.getcwd())"
      ],
      "metadata": {
        "id": "guAv2vtPx31D",
        "colab": {
          "base_uri": "https://localhost:8080/"
        },
        "outputId": "bf90b300-174d-4810-9ca3-b646fd6ae8c7"
      },
      "execution_count": null,
      "outputs": [
        {
          "output_type": "stream",
          "name": "stdout",
          "text": [
            "/content/yolov5\n"
          ]
        }
      ]
    },
    {
      "cell_type": "markdown",
      "source": [
        "# **Training Model**"
      ],
      "metadata": {
        "id": "WuYmGiqlIfoF"
      }
    },
    {
      "cell_type": "code",
      "source": [
        "#Training custom model\n",
        "!python train.py --data custom.yaml --cfg custom_yolov5s.yaml --weights '' --batch-size 32 --epochs 600 --img 640 --cache "
      ],
      "metadata": {
        "id": "7oa-iPKvXhWU",
        "colab": {
          "base_uri": "https://localhost:8080/"
        },
        "outputId": "1ccd746d-1d6c-456d-8334-2689daa728d4"
      },
      "execution_count": null,
      "outputs": [
        {
          "output_type": "stream",
          "name": "stdout",
          "text": [
            "\u001b[34m\u001b[1mtrain: \u001b[0mweights=, cfg=custom_yolov5s.yaml, data=custom.yaml, hyp=data/hyps/hyp.scratch-low.yaml, epochs=10, batch_size=32, imgsz=640, rect=False, resume=False, nosave=False, noval=False, noautoanchor=False, noplots=False, evolve=None, bucket=, cache=ram, image_weights=False, device=, multi_scale=False, single_cls=False, optimizer=SGD, sync_bn=False, workers=8, project=runs/train, name=exp, exist_ok=False, quad=False, cos_lr=False, label_smoothing=0.0, patience=100, freeze=[0], save_period=-1, seed=0, local_rank=-1, entity=None, upload_dataset=False, bbox_interval=-1, artifact_alias=latest\n",
            "\u001b[34m\u001b[1mgithub: \u001b[0mup to date with https://github.com/ultralytics/yolov5 ✅\n",
            "YOLOv5 🚀 v6.2-155-g489920a Python-3.7.14 torch-1.12.1+cu113 CUDA:0 (Tesla T4, 15110MiB)\n",
            "\n",
            "\u001b[34m\u001b[1mhyperparameters: \u001b[0mlr0=0.01, lrf=0.01, momentum=0.937, weight_decay=0.0005, warmup_epochs=3.0, warmup_momentum=0.8, warmup_bias_lr=0.1, box=0.05, cls=0.5, cls_pw=1.0, obj=1.0, obj_pw=1.0, iou_t=0.2, anchor_t=4.0, fl_gamma=0.0, hsv_h=0.015, hsv_s=0.7, hsv_v=0.4, degrees=0.0, translate=0.1, scale=0.5, shear=0.0, perspective=0.0, flipud=0.0, fliplr=0.5, mosaic=1.0, mixup=0.0, copy_paste=0.0\n",
            "\u001b[34m\u001b[1mWeights & Biases: \u001b[0mrun 'pip install wandb' to automatically track and visualize YOLOv5 🚀 runs in Weights & Biases\n",
            "\u001b[34m\u001b[1mClearML: \u001b[0mrun 'pip install clearml' to automatically track, visualize and remotely train YOLOv5 🚀 in ClearML\n",
            "\u001b[34m\u001b[1mComet: \u001b[0mrun 'pip install comet_ml' to automatically track and visualize YOLOv5 🚀 runs in Comet\n",
            "\u001b[34m\u001b[1mTensorBoard: \u001b[0mStart with 'tensorboard --logdir runs/train', view at http://localhost:6006/\n",
            "Downloading https://ultralytics.com/assets/Arial.ttf to /root/.config/Ultralytics/Arial.ttf...\n",
            "100% 755k/755k [00:00<00:00, 148MB/s]\n",
            "\n",
            "                 from  n    params  module                                  arguments                     \n",
            "  0                -1  1      3520  models.common.Focus                     [3, 32, 3]                    \n",
            "  1                -1  1     18560  models.common.Conv                      [32, 64, 3, 2]                \n",
            "  2                -1  1     19904  models.common.BottleneckCSP             [64, 64, 1]                   \n",
            "  3                -1  1     73984  models.common.Conv                      [64, 128, 3, 2]               \n",
            "  4                -1  3     44736  models.common.BottleneckCSP             [128, 64, 3]                  \n",
            "  5                -1  1    147968  models.common.Conv                      [64, 256, 3, 2]               \n",
            "  6                -1  3    177536  models.common.BottleneckCSP             [256, 128, 3]                 \n",
            "  7                -1  1    590848  models.common.Conv                      [128, 512, 3, 2]              \n",
            "  8                -1  1    656896  models.common.SPP                       [512, 512, [5, 9, 13]]        \n",
            "  9                -1  1   1248768  models.common.BottleneckCSP             [512, 512, 1, False]          \n",
            " 10                -1  1    131584  models.common.Conv                      [512, 256, 1, 1]              \n",
            " 11                -1  1         0  torch.nn.modules.upsampling.Upsample    [None, 2, 'nearest']          \n",
            " 12           [-1, 6]  1         0  models.common.Concat                    [1]                           \n",
            " 13                -1  1    345856  models.common.BottleneckCSP             [384, 256, 1, False]          \n",
            " 14                -1  1     33024  models.common.Conv                      [256, 128, 1, 1]              \n",
            " 15                -1  1         0  torch.nn.modules.upsampling.Upsample    [None, 2, 'nearest']          \n",
            " 16           [-1, 4]  1         0  models.common.Concat                    [1]                           \n",
            " 17                -1  1     86912  models.common.BottleneckCSP             [192, 128, 1, False]          \n",
            " 18                -1  1    147712  models.common.Conv                      [128, 128, 3, 2]              \n",
            " 19          [-1, 14]  1         0  models.common.Concat                    [1]                           \n",
            " 20                -1  1    313088  models.common.BottleneckCSP             [256, 256, 1, False]          \n",
            " 21                -1  1    590336  models.common.Conv                      [256, 256, 3, 2]              \n",
            " 22          [-1, 10]  1         0  models.common.Concat                    [1]                           \n",
            " 23                -1  1   1248768  models.common.BottleneckCSP             [512, 512, 1, False]          \n",
            " 24      [17, 20, 23]  1     21576  models.yolo.Detect                      [3, [[10, 13, 16, 30, 33, 23], [30, 61, 62, 45, 59, 119], [116, 90, 156, 198, 373, 326]], [128, 256, 512]]\n",
            "custom_YOLOv5s summary: 233 layers, 5901576 parameters, 5901576 gradients\n",
            "\n",
            "\u001b[34m\u001b[1mAMP: \u001b[0mchecks passed ✅\n",
            "\u001b[34m\u001b[1moptimizer:\u001b[0m SGD(lr=0.01) with parameter groups 59 weight(decay=0.0), 70 weight(decay=0.0005), 62 bias\n",
            "\u001b[34m\u001b[1malbumentations: \u001b[0mBlur(p=0.01, blur_limit=(3, 7)), MedianBlur(p=0.01, blur_limit=(3, 7)), ToGray(p=0.01), CLAHE(p=0.01, clip_limit=(1, 4.0), tile_grid_size=(8, 8))\n",
            "\u001b[34m\u001b[1mtrain: \u001b[0mScanning '/content/BurnsDataset/train/labels' images and labels...861 found, 0 missing, 3 empty, 0 corrupt: 100% 861/861 [00:00<00:00, 2217.65it/s]\n",
            "\u001b[34m\u001b[1mtrain: \u001b[0mNew cache created: /content/BurnsDataset/train/labels.cache\n",
            "\u001b[34m\u001b[1mtrain: \u001b[0mCaching images (0.7GB ram): 100% 861/861 [00:02<00:00, 339.96it/s]\n",
            "\u001b[34m\u001b[1mval: \u001b[0mScanning '/content/BurnsDataset/val/labels' images and labels...305 found, 0 missing, 1 empty, 0 corrupt: 100% 305/305 [00:00<00:00, 833.57it/s]\n",
            "\u001b[34m\u001b[1mval: \u001b[0mNew cache created: /content/BurnsDataset/val/labels.cache\n",
            "\u001b[34m\u001b[1mval: \u001b[0mCaching images (0.3GB ram): 100% 305/305 [00:02<00:00, 133.76it/s]\n",
            "\n",
            "\u001b[34m\u001b[1mAutoAnchor: \u001b[0m4.74 anchors/target, 1.000 Best Possible Recall (BPR). Current anchors are a good fit to dataset ✅\n",
            "Plotting labels to runs/train/exp/labels.jpg... \n",
            "Image sizes 640 train, 640 val\n",
            "Using 2 dataloader workers\n",
            "Logging results to \u001b[1mruns/train/exp\u001b[0m\n",
            "Starting training for 10 epochs...\n",
            "\n",
            "      Epoch    GPU_mem   box_loss   obj_loss   cls_loss  Instances       Size\n",
            "        0/9      6.61G     0.1045    0.03969    0.03781        123        640: 100% 27/27 [00:14<00:00,  1.86it/s]\n",
            "                 Class     Images  Instances          P          R      mAP50   mAP50-95: 100% 5/5 [00:05<00:00,  1.09s/it]\n",
            "                   all        305        574    0.00031      0.126   0.000235   6.38e-05\n",
            "\n",
            "      Epoch    GPU_mem   box_loss   obj_loss   cls_loss  Instances       Size\n",
            "        1/9      10.2G     0.0959     0.0391    0.03743        112        640: 100% 27/27 [00:11<00:00,  2.45it/s]\n",
            "                 Class     Images  Instances          P          R      mAP50   mAP50-95: 100% 5/5 [00:02<00:00,  2.05it/s]\n",
            "                   all        305        574   0.000317      0.129    0.00024   6.88e-05\n",
            "\n",
            "      Epoch    GPU_mem   box_loss   obj_loss   cls_loss  Instances       Size\n",
            "        2/9      10.2G    0.09197    0.03958    0.03684        116        640: 100% 27/27 [00:11<00:00,  2.34it/s]\n",
            "                 Class     Images  Instances          P          R      mAP50   mAP50-95: 100% 5/5 [00:02<00:00,  1.96it/s]\n",
            "                   all        305        574   0.000321      0.131   0.000245   7.18e-05\n",
            "\n",
            "      Epoch    GPU_mem   box_loss   obj_loss   cls_loss  Instances       Size\n",
            "        3/9      10.2G    0.08892    0.03851     0.0362         92        640: 100% 27/27 [00:10<00:00,  2.50it/s]\n",
            "                 Class     Images  Instances          P          R      mAP50   mAP50-95: 100% 5/5 [00:02<00:00,  1.91it/s]\n",
            "                   all        305        574    0.00178       0.17    0.00134   0.000307\n",
            "\n",
            "      Epoch    GPU_mem   box_loss   obj_loss   cls_loss  Instances       Size\n",
            "        4/9      10.2G    0.08651    0.03882    0.03528         83        640: 100% 27/27 [00:10<00:00,  2.57it/s]\n",
            "                 Class     Images  Instances          P          R      mAP50   mAP50-95: 100% 5/5 [00:02<00:00,  1.87it/s]\n",
            "                   all        305        574    0.00153       0.23    0.00113   0.000297\n",
            "\n",
            "      Epoch    GPU_mem   box_loss   obj_loss   cls_loss  Instances       Size\n",
            "        5/9      10.2G    0.08473    0.04046    0.03427        121        640: 100% 27/27 [00:10<00:00,  2.53it/s]\n",
            "                 Class     Images  Instances          P          R      mAP50   mAP50-95: 100% 5/5 [00:02<00:00,  1.96it/s]\n",
            "                   all        305        574    0.00247      0.275    0.00195   0.000522\n",
            "\n",
            "      Epoch    GPU_mem   box_loss   obj_loss   cls_loss  Instances       Size\n",
            "        6/9      10.2G    0.08379    0.03785    0.03285         89        640: 100% 27/27 [00:10<00:00,  2.57it/s]\n",
            "                 Class     Images  Instances          P          R      mAP50   mAP50-95: 100% 5/5 [00:02<00:00,  1.71it/s]\n",
            "                   all        305        574    0.00255      0.304    0.00261   0.000764\n",
            "\n",
            "      Epoch    GPU_mem   box_loss   obj_loss   cls_loss  Instances       Size\n",
            "        7/9      10.2G    0.08287    0.03822     0.0322        110        640: 100% 27/27 [00:10<00:00,  2.55it/s]\n",
            "                 Class     Images  Instances          P          R      mAP50   mAP50-95: 100% 5/5 [00:02<00:00,  1.78it/s]\n",
            "                   all        305        574    0.00285      0.405    0.00351   0.000909\n",
            "\n",
            "      Epoch    GPU_mem   box_loss   obj_loss   cls_loss  Instances       Size\n",
            "        8/9      10.2G     0.0825    0.03876    0.03149        119        640: 100% 27/27 [00:10<00:00,  2.55it/s]\n",
            "                 Class     Images  Instances          P          R      mAP50   mAP50-95: 100% 5/5 [00:03<00:00,  1.64it/s]\n",
            "                   all        305        574    0.00297      0.384    0.00472    0.00112\n",
            "\n",
            "      Epoch    GPU_mem   box_loss   obj_loss   cls_loss  Instances       Size\n",
            "        9/9      10.2G    0.08156    0.03776    0.03146        112        640: 100% 27/27 [00:10<00:00,  2.55it/s]\n",
            "                 Class     Images  Instances          P          R      mAP50   mAP50-95: 100% 5/5 [00:02<00:00,  1.67it/s]\n",
            "                   all        305        574     0.0044      0.411     0.0067    0.00181\n",
            "\n",
            "10 epochs completed in 0.041 hours.\n",
            "Optimizer stripped from runs/train/exp/weights/last.pt, 12.2MB\n",
            "Optimizer stripped from runs/train/exp/weights/best.pt, 12.2MB\n",
            "\n",
            "Validating runs/train/exp/weights/best.pt...\n",
            "Fusing layers... \n",
            "custom_YOLOv5s summary: 182 layers, 5893864 parameters, 0 gradients\n",
            "                 Class     Images  Instances          P          R      mAP50   mAP50-95: 100% 5/5 [00:04<00:00,  1.23it/s]\n",
            "                   all        305        574    0.00439      0.408    0.00664    0.00182\n",
            "            1st Degree        305        219    0.00312      0.612    0.00851    0.00234\n",
            "            2nd Degree        305        231    0.00229       0.45    0.00457     0.0011\n",
            "            3rd Degree        305        124    0.00776      0.161    0.00683    0.00201\n",
            "Results saved to \u001b[1mruns/train/exp\u001b[0m\n"
          ]
        }
      ]
    },
    {
      "cell_type": "code",
      "source": [
        "#Hyperparameter optimisation of custom model (must be done after initial training has completed)\n",
        "!python train.py --data custom.yaml --resume /content/yolov5/runs/train/exp5/weights/last.pt --batch-size 32 --epochs 20 --img 640 --cache --hyp hyp.scratch-high.yaml --evolve"
      ],
      "metadata": {
        "id": "pxMCVyCvtPi5",
        "colab": {
          "base_uri": "https://localhost:8080/"
        },
        "outputId": "1d75ab53-fb13-4054-d440-37340ebff469"
      },
      "execution_count": null,
      "outputs": [
        {
          "output_type": "stream",
          "name": "stdout",
          "text": [
            "\u001b[34m\u001b[1mtrain: \u001b[0mweights=yolov5s.pt, cfg=, data=custom.yaml, hyp=hyp.scratch-high.yaml, epochs=1, batch_size=16, imgsz=640, rect=False, resume=/content/yolov5/runs/train/exp5/weights/last.pt, nosave=False, noval=False, noautoanchor=False, noplots=False, evolve=300, bucket=, cache=ram, image_weights=False, device=, multi_scale=False, single_cls=False, optimizer=SGD, sync_bn=False, workers=8, project=runs/train, name=exp, exist_ok=False, quad=False, cos_lr=False, label_smoothing=0.0, patience=100, freeze=[0], save_period=-1, seed=0, local_rank=-1, entity=None, upload_dataset=False, bbox_interval=-1, artifact_alias=latest\n",
            "\u001b[34m\u001b[1mgithub: \u001b[0mup to date with https://github.com/ultralytics/yolov5 ✅\n",
            "YOLOv5 🚀 v6.2-155-g489920a Python-3.7.14 torch-1.12.1+cu113 CUDA:0 (Tesla T4, 15110MiB)\n",
            "\n",
            "\u001b[34m\u001b[1mhyperparameters: \u001b[0mlr0=0.01, lrf=0.1, momentum=0.937, weight_decay=0.0005, warmup_epochs=3.0, warmup_momentum=0.8, warmup_bias_lr=0.1, box=0.05, cls=0.3, cls_pw=1.0, obj=0.7, obj_pw=1.0, iou_t=0.2, anchor_t=4.0, fl_gamma=0.0, hsv_h=0.015, hsv_s=0.7, hsv_v=0.4, degrees=0.0, translate=0.1, scale=0.9, shear=0.0, perspective=0.0, flipud=0.0, fliplr=0.5, mosaic=1.0, mixup=0.1, copy_paste=0.1, anchors=3\n",
            "\u001b[34m\u001b[1mWeights & Biases: \u001b[0mrun 'pip install wandb' to automatically track and visualize YOLOv5 🚀 runs in Weights & Biases\n",
            "\u001b[34m\u001b[1mClearML: \u001b[0mrun 'pip install clearml' to automatically track, visualize and remotely train YOLOv5 🚀 in ClearML\n",
            "\u001b[34m\u001b[1mComet: \u001b[0mrun 'pip install comet_ml' to automatically track and visualize YOLOv5 🚀 runs in Comet\n",
            "Downloading https://github.com/ultralytics/yolov5/releases/download/v6.2/yolov5s.pt to yolov5s.pt...\n",
            "100% 14.1M/14.1M [00:01<00:00, 12.8MB/s]\n",
            "\n",
            "Overriding model.yaml nc=80 with nc=3\n",
            "Overriding model.yaml anchors with anchors=3\n",
            "\n",
            "                 from  n    params  module                                  arguments                     \n",
            "  0                -1  1      3520  models.common.Conv                      [3, 32, 6, 2, 2]              \n",
            "  1                -1  1     18560  models.common.Conv                      [32, 64, 3, 2]                \n",
            "  2                -1  1     18816  models.common.C3                        [64, 64, 1]                   \n",
            "  3                -1  1     73984  models.common.Conv                      [64, 128, 3, 2]               \n",
            "  4                -1  2    115712  models.common.C3                        [128, 128, 2]                 \n",
            "  5                -1  1    295424  models.common.Conv                      [128, 256, 3, 2]              \n",
            "  6                -1  3    625152  models.common.C3                        [256, 256, 3]                 \n",
            "  7                -1  1   1180672  models.common.Conv                      [256, 512, 3, 2]              \n",
            "  8                -1  1   1182720  models.common.C3                        [512, 512, 1]                 \n",
            "  9                -1  1    656896  models.common.SPPF                      [512, 512, 5]                 \n",
            " 10                -1  1    131584  models.common.Conv                      [512, 256, 1, 1]              \n",
            " 11                -1  1         0  torch.nn.modules.upsampling.Upsample    [None, 2, 'nearest']          \n",
            " 12           [-1, 6]  1         0  models.common.Concat                    [1]                           \n",
            " 13                -1  1    361984  models.common.C3                        [512, 256, 1, False]          \n",
            " 14                -1  1     33024  models.common.Conv                      [256, 128, 1, 1]              \n",
            " 15                -1  1         0  torch.nn.modules.upsampling.Upsample    [None, 2, 'nearest']          \n",
            " 16           [-1, 4]  1         0  models.common.Concat                    [1]                           \n",
            " 17                -1  1     90880  models.common.C3                        [256, 128, 1, False]          \n",
            " 18                -1  1    147712  models.common.Conv                      [128, 128, 3, 2]              \n",
            " 19          [-1, 14]  1         0  models.common.Concat                    [1]                           \n",
            " 20                -1  1    296448  models.common.C3                        [256, 256, 1, False]          \n",
            " 21                -1  1    590336  models.common.Conv                      [256, 256, 3, 2]              \n",
            " 22          [-1, 10]  1         0  models.common.Concat                    [1]                           \n",
            " 23                -1  1   1182720  models.common.C3                        [512, 512, 1, False]          \n",
            " 24      [17, 20, 23]  1     21576  models.yolo.Detect                      [3, [[0, 1, 2, 3, 4, 5], [0, 1, 2, 3, 4, 5], [0, 1, 2, 3, 4, 5]], [128, 256, 512]]\n",
            "Model summary: 214 layers, 7027720 parameters, 7027720 gradients, 16.0 GFLOPs\n",
            "\n",
            "Transferred 342/349 items from yolov5s.pt\n",
            "\u001b[34m\u001b[1mAMP: \u001b[0mchecks passed ✅\n",
            "\u001b[34m\u001b[1moptimizer:\u001b[0m SGD(lr=0.01) with parameter groups 57 weight(decay=0.0), 60 weight(decay=0.0005), 60 bias\n",
            "\u001b[34m\u001b[1malbumentations: \u001b[0mBlur(p=0.01, blur_limit=(3, 7)), MedianBlur(p=0.01, blur_limit=(3, 7)), ToGray(p=0.01), CLAHE(p=0.01, clip_limit=(1, 4.0), tile_grid_size=(8, 8))\n",
            "\u001b[34m\u001b[1mtrain: \u001b[0mScanning '/content/BurnsDataset/train/labels.cache' images and labels... 861 found, 0 missing, 3 empty, 0 corrupt: 100% 861/861 [00:00<?, ?it/s]\n",
            "\u001b[34m\u001b[1mtrain: \u001b[0mCaching images (0.7GB ram): 100% 861/861 [00:02<00:00, 330.25it/s]\n",
            "\u001b[34m\u001b[1mval: \u001b[0mScanning '/content/BurnsDataset/val/labels.cache' images and labels... 305 found, 0 missing, 1 empty, 0 corrupt: 100% 305/305 [00:00<?, ?it/s]\n",
            "\n",
            "\u001b[34m\u001b[1mAutoAnchor: \u001b[0m0.00 anchors/target, 0.001 Best Possible Recall (BPR). Anchors are a poor fit to dataset ⚠️, attempting to improve...\n",
            "\u001b[34m\u001b[1mAutoAnchor: \u001b[0mRunning kmeans for 9 anchors on 1536 points...\n",
            "\u001b[34m\u001b[1mAutoAnchor: \u001b[0mEvolving anchors with Genetic Algorithm: fitness = 0.7891: 100% 1000/1000 [00:01<00:00, 830.32it/s]\n",
            "\u001b[34m\u001b[1mAutoAnchor: \u001b[0mthr=0.25: 1.0000 best possible recall, 7.23 anchors past thr\n",
            "\u001b[34m\u001b[1mAutoAnchor: \u001b[0mn=9, img_size=640, metric_all=0.446/0.789-mean/best, past_thr=0.511-mean: 51,51, 94,69, 76,129, 124,115, 148,190, 225,141, 224,253, 371,247, 306,408\n",
            "\u001b[34m\u001b[1mAutoAnchor: \u001b[0mDone ✅ (optional: update model *.yaml to use these anchors in the future)\n",
            "Plotting labels to runs/evolve/exp/labels.jpg... \n",
            "Image sizes 640 train, 640 val\n",
            "Using 2 dataloader workers\n",
            "Logging results to \u001b[1mruns/evolve/exp\u001b[0m\n",
            "Starting training for 1 epochs...\n",
            "\n",
            "      Epoch    GPU_mem   box_loss   obj_loss   cls_loss  Instances       Size\n",
            "        0/0      3.68G     0.1008    0.03024    0.02381         55        640: 100% 54/54 [00:14<00:00,  3.70it/s]\n",
            "                 Class     Images  Instances          P          R      mAP50   mAP50-95: 100% 10/10 [00:03<00:00,  3.18it/s]\n",
            "                   all        305        574    0.00294      0.459    0.00614    0.00148\n",
            "\n",
            "1 epochs completed in 0.005 hours.\n",
            "Results saved to \u001b[1mruns/evolve/exp\u001b[0m\n",
            "\u001b[34m\u001b[1mevolve: \u001b[0m1 generations finished, current result:\n",
            "\u001b[34m\u001b[1mevolve: \u001b[0m   metrics/precision,       metrics/recall,      metrics/mAP_0.5, metrics/mAP_0.5:0.95,         val/box_loss,         val/obj_loss,         val/cls_loss,                  lr0,                  lrf,             momentum,         weight_decay,        warmup_epochs,      warmup_momentum,       warmup_bias_lr,                  box,                  cls,               cls_pw,                  obj,               obj_pw,                iou_t,             anchor_t,             fl_gamma,                hsv_h,                hsv_s,                hsv_v,              degrees,            translate,                scale,                shear,          perspective,               flipud,               fliplr,               mosaic,                mixup,           copy_paste,              anchors\n",
            "\u001b[34m\u001b[1mevolve: \u001b[0m           0.0029398,                0.459,            0.0061353,             0.001484,             0.086547,             0.024174,             0.021898,                 0.01,                  0.1,                0.937,               0.0005,                    3,                  0.8,                  0.1,                 0.05,                  0.3,                    1,                  0.7,                    1,                  0.2,                    4,                    0,                0.015,                  0.7,                  0.4,                    0,                  0.1,                  0.9,                    0,                    0,                    0,                  0.5,                    1,                  0.1,                  0.1,                    3\n",
            "\n",
            "\n",
            "\u001b[34m\u001b[1mhyperparameters: \u001b[0mlr0=0.01065, lrf=0.10491, momentum=0.937, weight_decay=0.00044, warmup_epochs=2.65968, warmup_momentum=0.7485, warmup_bias_lr=0.10118, box=0.04013, cls=0.3334, cls_pw=0.92663, obj=0.60006, obj_pw=0.98828, iou_t=0.2, anchor_t=3.99559, fl_gamma=0.0, hsv_h=0.01774, hsv_s=0.72242, hsv_v=0.37318, degrees=0.0, translate=0.1, scale=0.88598, shear=0.0, perspective=0.0, flipud=0.0, fliplr=0.5, mosaic=0.98562, mixup=0.11346, copy_paste=0.1, anchors=2.69902\n",
            "\u001b[34m\u001b[1mWeights & Biases: \u001b[0mrun 'pip install wandb' to automatically track and visualize YOLOv5 🚀 runs in Weights & Biases\n",
            "\u001b[34m\u001b[1mClearML: \u001b[0mrun 'pip install clearml' to automatically track, visualize and remotely train YOLOv5 🚀 in ClearML\n",
            "\u001b[34m\u001b[1mComet: \u001b[0mrun 'pip install comet_ml' to automatically track and visualize YOLOv5 🚀 runs in Comet\n",
            "Overriding model.yaml nc=80 with nc=3\n",
            "Overriding model.yaml anchors with anchors=2.69902\n",
            "\n",
            "                 from  n    params  module                                  arguments                     \n",
            "  0                -1  1      3520  models.common.Conv                      [3, 32, 6, 2, 2]              \n",
            "  1                -1  1     18560  models.common.Conv                      [32, 64, 3, 2]                \n",
            "  2                -1  1     18816  models.common.C3                        [64, 64, 1]                   \n",
            "  3                -1  1     73984  models.common.Conv                      [64, 128, 3, 2]               \n",
            "  4                -1  2    115712  models.common.C3                        [128, 128, 2]                 \n",
            "  5                -1  1    295424  models.common.Conv                      [128, 256, 3, 2]              \n",
            "  6                -1  3    625152  models.common.C3                        [256, 256, 3]                 \n",
            "  7                -1  1   1180672  models.common.Conv                      [256, 512, 3, 2]              \n",
            "  8                -1  1   1182720  models.common.C3                        [512, 512, 1]                 \n",
            "  9                -1  1    656896  models.common.SPPF                      [512, 512, 5]                 \n",
            " 10                -1  1    131584  models.common.Conv                      [512, 256, 1, 1]              \n",
            " 11                -1  1         0  torch.nn.modules.upsampling.Upsample    [None, 2, 'nearest']          \n",
            " 12           [-1, 6]  1         0  models.common.Concat                    [1]                           \n",
            " 13                -1  1    361984  models.common.C3                        [512, 256, 1, False]          \n",
            " 14                -1  1     33024  models.common.Conv                      [256, 128, 1, 1]              \n",
            " 15                -1  1         0  torch.nn.modules.upsampling.Upsample    [None, 2, 'nearest']          \n",
            " 16           [-1, 4]  1         0  models.common.Concat                    [1]                           \n",
            " 17                -1  1     90880  models.common.C3                        [256, 128, 1, False]          \n",
            " 18                -1  1    147712  models.common.Conv                      [128, 128, 3, 2]              \n",
            " 19          [-1, 14]  1         0  models.common.Concat                    [1]                           \n",
            " 20                -1  1    296448  models.common.C3                        [256, 256, 1, False]          \n",
            " 21                -1  1    590336  models.common.Conv                      [256, 256, 3, 2]              \n",
            " 22          [-1, 10]  1         0  models.common.Concat                    [1]                           \n",
            " 23                -1  1   1182720  models.common.C3                        [512, 512, 1, False]          \n",
            " 24      [17, 20, 23]  1     21576  models.yolo.Detect                      [3, [[0, 1, 2, 3, 4, 5], [0, 1, 2, 3, 4, 5], [0, 1, 2, 3, 4, 5]], [128, 256, 512]]\n",
            "Model summary: 214 layers, 7027720 parameters, 7027720 gradients, 16.0 GFLOPs\n",
            "\n",
            "Transferred 342/349 items from yolov5s.pt\n",
            "\u001b[34m\u001b[1mAMP: \u001b[0mchecks passed ✅\n",
            "\u001b[34m\u001b[1moptimizer:\u001b[0m SGD(lr=0.01065) with parameter groups 57 weight(decay=0.0), 60 weight(decay=0.00044), 60 bias\n",
            "\u001b[34m\u001b[1malbumentations: \u001b[0mBlur(p=0.01, blur_limit=(3, 7)), MedianBlur(p=0.01, blur_limit=(3, 7)), ToGray(p=0.01), CLAHE(p=0.01, clip_limit=(1, 4.0), tile_grid_size=(8, 8))\n",
            "\u001b[34m\u001b[1mtrain: \u001b[0mScanning '/content/BurnsDataset/train/labels.cache' images and labels... 861 found, 0 missing, 3 empty, 0 corrupt: 100% 861/861 [00:00<?, ?it/s]\n",
            "\u001b[34m\u001b[1mtrain: \u001b[0mCaching images (0.7GB ram): 100% 861/861 [00:02<00:00, 400.19it/s]\n",
            "\u001b[34m\u001b[1mval: \u001b[0mScanning '/content/BurnsDataset/val/labels.cache' images and labels... 305 found, 0 missing, 1 empty, 0 corrupt: 100% 305/305 [00:00<?, ?it/s]\n",
            "\n",
            "\u001b[34m\u001b[1mAutoAnchor: \u001b[0m0.00 anchors/target, 0.001 Best Possible Recall (BPR). Anchors are a poor fit to dataset ⚠️, attempting to improve...\n",
            "\u001b[34m\u001b[1mAutoAnchor: \u001b[0mRunning kmeans for 9 anchors on 1536 points...\n",
            "\u001b[34m\u001b[1mAutoAnchor: \u001b[0mEvolving anchors with Genetic Algorithm: fitness = 0.7891: 100% 1000/1000 [00:01<00:00, 715.08it/s]\n",
            "\u001b[34m\u001b[1mAutoAnchor: \u001b[0mthr=0.25: 1.0000 best possible recall, 7.22 anchors past thr\n",
            "\u001b[34m\u001b[1mAutoAnchor: \u001b[0mn=9, img_size=640, metric_all=0.446/0.789-mean/best, past_thr=0.511-mean: 51,51, 94,69, 76,129, 124,115, 148,190, 225,141, 224,253, 371,247, 306,408\n",
            "\u001b[34m\u001b[1mAutoAnchor: \u001b[0mDone ✅ (optional: update model *.yaml to use these anchors in the future)\n",
            "Plotting labels to runs/evolve/exp/labels.jpg... \n",
            "Image sizes 640 train, 640 val\n",
            "Using 2 dataloader workers\n",
            "Logging results to \u001b[1mruns/evolve/exp\u001b[0m\n",
            "Starting training for 1 epochs...\n",
            "\n",
            "      Epoch    GPU_mem   box_loss   obj_loss   cls_loss  Instances       Size\n",
            "        0/0      3.69G    0.08242    0.02575    0.02515         60        640: 100% 54/54 [00:14<00:00,  3.62it/s]\n",
            "                 Class     Images  Instances          P          R      mAP50   mAP50-95: 100% 10/10 [00:03<00:00,  3.05it/s]\n",
            "                   all        305        574    0.00268      0.392    0.00481    0.00104\n",
            "\n",
            "1 epochs completed in 0.005 hours.\n",
            "Results saved to \u001b[1mruns/evolve/exp\u001b[0m\n",
            "\u001b[34m\u001b[1mevolve: \u001b[0m2 generations finished, current result:\n",
            "\u001b[34m\u001b[1mevolve: \u001b[0m   metrics/precision,       metrics/recall,      metrics/mAP_0.5, metrics/mAP_0.5:0.95,         val/box_loss,         val/obj_loss,         val/cls_loss,                  lr0,                  lrf,             momentum,         weight_decay,        warmup_epochs,      warmup_momentum,       warmup_bias_lr,                  box,                  cls,               cls_pw,                  obj,               obj_pw,                iou_t,             anchor_t,             fl_gamma,                hsv_h,                hsv_s,                hsv_v,              degrees,            translate,                scale,                shear,          perspective,               flipud,               fliplr,               mosaic,                mixup,           copy_paste,              anchors\n",
            "\u001b[34m\u001b[1mevolve: \u001b[0m           0.0026827,              0.39227,            0.0048138,              0.00104,             0.070754,             0.020301,             0.023101,              0.01065,              0.10491,                0.937,              0.00044,               2.6597,               0.7485,              0.10118,              0.04013,               0.3334,              0.92663,              0.60006,              0.98828,                  0.2,               3.9956,                    0,              0.01774,              0.72242,              0.37318,                    0,                  0.1,              0.88598,                    0,                    0,                    0,                  0.5,              0.98562,              0.11346,                  0.1,                2.699\n",
            "\n",
            "\n",
            "\u001b[34m\u001b[1mhyperparameters: \u001b[0mlr0=0.00995, lrf=0.0992, momentum=0.93221, weight_decay=0.0005, warmup_epochs=2.95345, warmup_momentum=0.78245, warmup_bias_lr=0.098, box=0.04966, cls=0.2927, cls_pw=0.97495, obj=0.71503, obj_pw=0.98322, iou_t=0.2, anchor_t=3.97641, fl_gamma=0.0, hsv_h=0.01507, hsv_s=0.6943, hsv_v=0.39355, degrees=0.0, translate=0.09992, scale=0.9, shear=0.0, perspective=0.0, flipud=0.0, fliplr=0.5, mosaic=0.99413, mixup=0.09826, copy_paste=0.10016, anchors=2.96033\n",
            "\u001b[34m\u001b[1mWeights & Biases: \u001b[0mrun 'pip install wandb' to automatically track and visualize YOLOv5 🚀 runs in Weights & Biases\n",
            "\u001b[34m\u001b[1mClearML: \u001b[0mrun 'pip install clearml' to automatically track, visualize and remotely train YOLOv5 🚀 in ClearML\n",
            "\u001b[34m\u001b[1mComet: \u001b[0mrun 'pip install comet_ml' to automatically track and visualize YOLOv5 🚀 runs in Comet\n",
            "Overriding model.yaml nc=80 with nc=3\n",
            "Overriding model.yaml anchors with anchors=2.96033\n",
            "\n",
            "                 from  n    params  module                                  arguments                     \n",
            "  0                -1  1      3520  models.common.Conv                      [3, 32, 6, 2, 2]              \n",
            "  1                -1  1     18560  models.common.Conv                      [32, 64, 3, 2]                \n",
            "  2                -1  1     18816  models.common.C3                        [64, 64, 1]                   \n",
            "  3                -1  1     73984  models.common.Conv                      [64, 128, 3, 2]               \n",
            "  4                -1  2    115712  models.common.C3                        [128, 128, 2]                 \n",
            "  5                -1  1    295424  models.common.Conv                      [128, 256, 3, 2]              \n",
            "  6                -1  3    625152  models.common.C3                        [256, 256, 3]                 \n",
            "  7                -1  1   1180672  models.common.Conv                      [256, 512, 3, 2]              \n",
            "  8                -1  1   1182720  models.common.C3                        [512, 512, 1]                 \n",
            "  9                -1  1    656896  models.common.SPPF                      [512, 512, 5]                 \n",
            " 10                -1  1    131584  models.common.Conv                      [512, 256, 1, 1]              \n",
            " 11                -1  1         0  torch.nn.modules.upsampling.Upsample    [None, 2, 'nearest']          \n",
            " 12           [-1, 6]  1         0  models.common.Concat                    [1]                           \n",
            " 13                -1  1    361984  models.common.C3                        [512, 256, 1, False]          \n",
            " 14                -1  1     33024  models.common.Conv                      [256, 128, 1, 1]              \n",
            " 15                -1  1         0  torch.nn.modules.upsampling.Upsample    [None, 2, 'nearest']          \n",
            " 16           [-1, 4]  1         0  models.common.Concat                    [1]                           \n",
            " 17                -1  1     90880  models.common.C3                        [256, 128, 1, False]          \n",
            " 18                -1  1    147712  models.common.Conv                      [128, 128, 3, 2]              \n",
            " 19          [-1, 14]  1         0  models.common.Concat                    [1]                           \n",
            " 20                -1  1    296448  models.common.C3                        [256, 256, 1, False]          \n",
            " 21                -1  1    590336  models.common.Conv                      [256, 256, 3, 2]              \n",
            " 22          [-1, 10]  1         0  models.common.Concat                    [1]                           \n",
            " 23                -1  1   1182720  models.common.C3                        [512, 512, 1, False]          \n",
            " 24      [17, 20, 23]  1     21576  models.yolo.Detect                      [3, [[0, 1, 2, 3, 4, 5], [0, 1, 2, 3, 4, 5], [0, 1, 2, 3, 4, 5]], [128, 256, 512]]\n",
            "Model summary: 214 layers, 7027720 parameters, 7027720 gradients, 16.0 GFLOPs\n",
            "\n",
            "Transferred 342/349 items from yolov5s.pt\n",
            "\u001b[34m\u001b[1mAMP: \u001b[0mchecks passed ✅\n",
            "\u001b[34m\u001b[1moptimizer:\u001b[0m SGD(lr=0.00995) with parameter groups 57 weight(decay=0.0), 60 weight(decay=0.0005), 60 bias\n",
            "\u001b[34m\u001b[1malbumentations: \u001b[0mBlur(p=0.01, blur_limit=(3, 7)), MedianBlur(p=0.01, blur_limit=(3, 7)), ToGray(p=0.01), CLAHE(p=0.01, clip_limit=(1, 4.0), tile_grid_size=(8, 8))\n",
            "\u001b[34m\u001b[1mtrain: \u001b[0mScanning '/content/BurnsDataset/train/labels.cache' images and labels... 861 found, 0 missing, 3 empty, 0 corrupt: 100% 861/861 [00:00<?, ?it/s]\n",
            "\u001b[34m\u001b[1mtrain: \u001b[0mCaching images (0.7GB ram): 100% 861/861 [00:02<00:00, 387.37it/s]\n",
            "\u001b[34m\u001b[1mval: \u001b[0mScanning '/content/BurnsDataset/val/labels.cache' images and labels... 305 found, 0 missing, 1 empty, 0 corrupt: 100% 305/305 [00:00<?, ?it/s]\n",
            "\n",
            "\u001b[34m\u001b[1mAutoAnchor: \u001b[0m0.00 anchors/target, 0.001 Best Possible Recall (BPR). Anchors are a poor fit to dataset ⚠️, attempting to improve...\n",
            "\u001b[34m\u001b[1mAutoAnchor: \u001b[0mRunning kmeans for 9 anchors on 1536 points...\n",
            "\u001b[34m\u001b[1mAutoAnchor: \u001b[0mEvolving anchors with Genetic Algorithm: fitness = 0.7878: 100% 1000/1000 [00:01<00:00, 860.46it/s]\n",
            "\u001b[34m\u001b[1mAutoAnchor: \u001b[0mthr=0.25: 1.0000 best possible recall, 7.13 anchors past thr\n",
            "\u001b[34m\u001b[1mAutoAnchor: \u001b[0mn=9, img_size=640, metric_all=0.443/0.788-mean/best, past_thr=0.512-mean: 52,51, 93,77, 76,127, 133,117, 155,187, 246,148, 221,269, 390,244, 318,433\n",
            "\u001b[34m\u001b[1mAutoAnchor: \u001b[0mDone ✅ (optional: update model *.yaml to use these anchors in the future)\n",
            "Plotting labels to runs/evolve/exp/labels.jpg... \n",
            "Image sizes 640 train, 640 val\n",
            "Using 2 dataloader workers\n",
            "Logging results to \u001b[1mruns/evolve/exp\u001b[0m\n",
            "Starting training for 1 epochs...\n",
            "\n",
            "      Epoch    GPU_mem   box_loss   obj_loss   cls_loss  Instances       Size\n",
            "        0/0      3.69G     0.1007    0.03017      0.023         60        640: 100% 54/54 [00:15<00:00,  3.60it/s]\n",
            "                 Class     Images  Instances          P          R      mAP50   mAP50-95: 100% 10/10 [00:03<00:00,  3.24it/s]\n",
            "                   all        305        574    0.00252      0.394    0.00408    0.00105\n",
            "\n",
            "1 epochs completed in 0.005 hours.\n",
            "Results saved to \u001b[1mruns/evolve/exp\u001b[0m\n",
            "\u001b[34m\u001b[1mevolve: \u001b[0m3 generations finished, current result:\n",
            "\u001b[34m\u001b[1mevolve: \u001b[0m   metrics/precision,       metrics/recall,      metrics/mAP_0.5, metrics/mAP_0.5:0.95,         val/box_loss,         val/obj_loss,         val/cls_loss,                  lr0,                  lrf,             momentum,         weight_decay,        warmup_epochs,      warmup_momentum,       warmup_bias_lr,                  box,                  cls,               cls_pw,                  obj,               obj_pw,                iou_t,             anchor_t,             fl_gamma,                hsv_h,                hsv_s,                hsv_v,              degrees,            translate,                scale,                shear,          perspective,               flipud,               fliplr,               mosaic,                mixup,           copy_paste,              anchors\n",
            "\u001b[34m\u001b[1mevolve: \u001b[0m           0.0025189,              0.39352,             0.004078,             0.001053,             0.087037,             0.023898,             0.021328,              0.00995,               0.0992,              0.93221,               0.0005,               2.9535,              0.78245,                0.098,              0.04966,               0.2927,              0.97495,              0.71503,              0.98322,                  0.2,               3.9764,                    0,              0.01507,               0.6943,              0.39355,                    0,              0.09992,                  0.9,                    0,                    0,                    0,                  0.5,              0.99413,              0.09826,              0.10016,               2.9603\n",
            "\n",
            "\n",
            "\u001b[34m\u001b[1mhyperparameters: \u001b[0mlr0=0.00669, lrf=0.10491, momentum=0.94674, weight_decay=0.00053, warmup_epochs=3.33485, warmup_momentum=0.7485, warmup_bias_lr=0.1411, box=0.03604, cls=0.39252, cls_pw=0.92663, obj=0.58819, obj_pw=1.10016, iou_t=0.2, anchor_t=3.7849, fl_gamma=0.0, hsv_h=0.01997, hsv_s=0.85422, hsv_v=0.2785, degrees=0.0, translate=0.10697, scale=0.88598, shear=0.0, perspective=0.0, flipud=0.0, fliplr=0.5, mosaic=1.0, mixup=0.16312, copy_paste=0.1, anchors=2.05806\n",
            "\u001b[34m\u001b[1mWeights & Biases: \u001b[0mrun 'pip install wandb' to automatically track and visualize YOLOv5 🚀 runs in Weights & Biases\n",
            "\u001b[34m\u001b[1mClearML: \u001b[0mrun 'pip install clearml' to automatically track, visualize and remotely train YOLOv5 🚀 in ClearML\n",
            "\u001b[34m\u001b[1mComet: \u001b[0mrun 'pip install comet_ml' to automatically track and visualize YOLOv5 🚀 runs in Comet\n",
            "Overriding model.yaml nc=80 with nc=3\n",
            "Overriding model.yaml anchors with anchors=2.05806\n",
            "\n",
            "                 from  n    params  module                                  arguments                     \n",
            "  0                -1  1      3520  models.common.Conv                      [3, 32, 6, 2, 2]              \n",
            "  1                -1  1     18560  models.common.Conv                      [32, 64, 3, 2]                \n",
            "  2                -1  1     18816  models.common.C3                        [64, 64, 1]                   \n",
            "  3                -1  1     73984  models.common.Conv                      [64, 128, 3, 2]               \n",
            "  4                -1  2    115712  models.common.C3                        [128, 128, 2]                 \n",
            "  5                -1  1    295424  models.common.Conv                      [128, 256, 3, 2]              \n",
            "  6                -1  3    625152  models.common.C3                        [256, 256, 3]                 \n",
            "  7                -1  1   1180672  models.common.Conv                      [256, 512, 3, 2]              \n",
            "  8                -1  1   1182720  models.common.C3                        [512, 512, 1]                 \n",
            "  9                -1  1    656896  models.common.SPPF                      [512, 512, 5]                 \n",
            " 10                -1  1    131584  models.common.Conv                      [512, 256, 1, 1]              \n",
            " 11                -1  1         0  torch.nn.modules.upsampling.Upsample    [None, 2, 'nearest']          \n",
            " 12           [-1, 6]  1         0  models.common.Concat                    [1]                           \n",
            " 13                -1  1    361984  models.common.C3                        [512, 256, 1, False]          \n",
            " 14                -1  1     33024  models.common.Conv                      [256, 128, 1, 1]              \n",
            " 15                -1  1         0  torch.nn.modules.upsampling.Upsample    [None, 2, 'nearest']          \n",
            " 16           [-1, 4]  1         0  models.common.Concat                    [1]                           \n",
            " 17                -1  1     90880  models.common.C3                        [256, 128, 1, False]          \n",
            " 18                -1  1    147712  models.common.Conv                      [128, 128, 3, 2]              \n",
            " 19          [-1, 14]  1         0  models.common.Concat                    [1]                           \n",
            " 20                -1  1    296448  models.common.C3                        [256, 256, 1, False]          \n",
            " 21                -1  1    590336  models.common.Conv                      [256, 256, 3, 2]              \n",
            " 22          [-1, 10]  1         0  models.common.Concat                    [1]                           \n",
            " 23                -1  1   1182720  models.common.C3                        [512, 512, 1, False]          \n",
            " 24      [17, 20, 23]  1     14384  models.yolo.Detect                      [3, [[0, 1, 2, 3], [0, 1, 2, 3], [0, 1, 2, 3]], [128, 256, 512]]\n",
            "Model summary: 214 layers, 7020528 parameters, 7020528 gradients, 15.9 GFLOPs\n",
            "\n",
            "Transferred 342/349 items from yolov5s.pt\n",
            "\u001b[34m\u001b[1mAMP: \u001b[0mchecks passed ✅\n",
            "\u001b[34m\u001b[1moptimizer:\u001b[0m SGD(lr=0.00669) with parameter groups 57 weight(decay=0.0), 60 weight(decay=0.00053), 60 bias\n",
            "\u001b[34m\u001b[1malbumentations: \u001b[0mBlur(p=0.01, blur_limit=(3, 7)), MedianBlur(p=0.01, blur_limit=(3, 7)), ToGray(p=0.01), CLAHE(p=0.01, clip_limit=(1, 4.0), tile_grid_size=(8, 8))\n",
            "\u001b[34m\u001b[1mtrain: \u001b[0mScanning '/content/BurnsDataset/train/labels.cache' images and labels... 861 found, 0 missing, 3 empty, 0 corrupt: 100% 861/861 [00:00<?, ?it/s]\n",
            "\u001b[34m\u001b[1mtrain: \u001b[0mCaching images (0.7GB ram): 100% 861/861 [00:02<00:00, 399.90it/s]\n",
            "\u001b[34m\u001b[1mval: \u001b[0mScanning '/content/BurnsDataset/val/labels.cache' images and labels... 305 found, 0 missing, 1 empty, 0 corrupt: 100% 305/305 [00:00<?, ?it/s]\n",
            "\n",
            "\u001b[34m\u001b[1mAutoAnchor: \u001b[0m0.00 anchors/target, 0.000 Best Possible Recall (BPR). Anchors are a poor fit to dataset ⚠️, attempting to improve...\n",
            "\u001b[34m\u001b[1mAutoAnchor: \u001b[0mRunning kmeans for 6 anchors on 1536 points...\n",
            "\u001b[34m\u001b[1mAutoAnchor: \u001b[0mEvolving anchors with Genetic Algorithm: fitness = 0.7551: 100% 1000/1000 [00:01<00:00, 718.27it/s]\n",
            "\u001b[34m\u001b[1mAutoAnchor: \u001b[0mthr=0.26: 0.9980 best possible recall, 4.86 anchors past thr\n",
            "\u001b[34m\u001b[1mAutoAnchor: \u001b[0mn=6, img_size=640, metric_all=0.465/0.756-mean/best, past_thr=0.529-mean: 58,52, 82,95, 126,117, 160,191, 265,149, 293,293\n",
            "\u001b[34m\u001b[1mAutoAnchor: \u001b[0mDone ✅ (optional: update model *.yaml to use these anchors in the future)\n",
            "Plotting labels to runs/evolve/exp/labels.jpg... \n",
            "Image sizes 640 train, 640 val\n",
            "Using 2 dataloader workers\n",
            "Logging results to \u001b[1mruns/evolve/exp\u001b[0m\n",
            "Starting training for 1 epochs...\n",
            "\n",
            "      Epoch    GPU_mem   box_loss   obj_loss   cls_loss  Instances       Size\n",
            "        0/0      3.67G    0.07491    0.02858    0.02972         72        640: 100% 54/54 [00:15<00:00,  3.52it/s]\n",
            "                 Class     Images  Instances          P          R      mAP50   mAP50-95: 100% 10/10 [00:03<00:00,  3.24it/s]\n",
            "                   all        305        574    0.00256      0.393    0.00271   0.000705\n",
            "\n",
            "1 epochs completed in 0.005 hours.\n",
            "Results saved to \u001b[1mruns/evolve/exp\u001b[0m\n",
            "\u001b[34m\u001b[1mevolve: \u001b[0m4 generations finished, current result:\n",
            "\u001b[34m\u001b[1mevolve: \u001b[0m   metrics/precision,       metrics/recall,      metrics/mAP_0.5, metrics/mAP_0.5:0.95,         val/box_loss,         val/obj_loss,         val/cls_loss,                  lr0,                  lrf,             momentum,         weight_decay,        warmup_epochs,      warmup_momentum,       warmup_bias_lr,                  box,                  cls,               cls_pw,                  obj,               obj_pw,                iou_t,             anchor_t,             fl_gamma,                hsv_h,                hsv_s,                hsv_v,              degrees,            translate,                scale,                shear,          perspective,               flipud,               fliplr,               mosaic,                mixup,           copy_paste,              anchors\n",
            "\u001b[34m\u001b[1mevolve: \u001b[0m           0.0025566,              0.39279,            0.0027065,           0.00070481,             0.064563,             0.022297,              0.02869,              0.00669,              0.10491,              0.94674,              0.00053,               3.3348,               0.7485,               0.1411,              0.03604,              0.39252,              0.92663,              0.58819,               1.1002,                  0.2,               3.7849,                    0,              0.01997,              0.85422,               0.2785,                    0,              0.10697,              0.88598,                    0,                    0,                    0,                  0.5,                    1,              0.16312,                  0.1,               2.0581\n",
            "\n",
            "\n",
            "\u001b[34m\u001b[1mhyperparameters: \u001b[0mlr0=0.00995, lrf=0.09979, momentum=0.93244, weight_decay=0.0005, warmup_epochs=2.9535, warmup_momentum=0.78051, warmup_bias_lr=0.09795, box=0.04982, cls=0.29255, cls_pw=0.97495, obj=0.71449, obj_pw=0.99078, iou_t=0.2, anchor_t=3.97618, fl_gamma=0.0, hsv_h=0.01507, hsv_s=0.69235, hsv_v=0.39541, degrees=0.0, translate=0.09967, scale=0.9, shear=0.0, perspective=0.0, flipud=0.0, fliplr=0.5, mosaic=0.99396, mixup=0.09845, copy_paste=0.10004, anchors=2.9603\n",
            "\u001b[34m\u001b[1mWeights & Biases: \u001b[0mrun 'pip install wandb' to automatically track and visualize YOLOv5 🚀 runs in Weights & Biases\n",
            "\u001b[34m\u001b[1mClearML: \u001b[0mrun 'pip install clearml' to automatically track, visualize and remotely train YOLOv5 🚀 in ClearML\n",
            "\u001b[34m\u001b[1mComet: \u001b[0mrun 'pip install comet_ml' to automatically track and visualize YOLOv5 🚀 runs in Comet\n",
            "Overriding model.yaml nc=80 with nc=3\n",
            "Overriding model.yaml anchors with anchors=2.9603\n",
            "\n",
            "                 from  n    params  module                                  arguments                     \n",
            "  0                -1  1      3520  models.common.Conv                      [3, 32, 6, 2, 2]              \n",
            "  1                -1  1     18560  models.common.Conv                      [32, 64, 3, 2]                \n",
            "  2                -1  1     18816  models.common.C3                        [64, 64, 1]                   \n",
            "  3                -1  1     73984  models.common.Conv                      [64, 128, 3, 2]               \n",
            "  4                -1  2    115712  models.common.C3                        [128, 128, 2]                 \n",
            "  5                -1  1    295424  models.common.Conv                      [128, 256, 3, 2]              \n",
            "  6                -1  3    625152  models.common.C3                        [256, 256, 3]                 \n",
            "  7                -1  1   1180672  models.common.Conv                      [256, 512, 3, 2]              \n",
            "  8                -1  1   1182720  models.common.C3                        [512, 512, 1]                 \n",
            "  9                -1  1    656896  models.common.SPPF                      [512, 512, 5]                 \n",
            " 10                -1  1    131584  models.common.Conv                      [512, 256, 1, 1]              \n",
            " 11                -1  1         0  torch.nn.modules.upsampling.Upsample    [None, 2, 'nearest']          \n",
            " 12           [-1, 6]  1         0  models.common.Concat                    [1]                           \n",
            " 13                -1  1    361984  models.common.C3                        [512, 256, 1, False]          \n",
            " 14                -1  1     33024  models.common.Conv                      [256, 128, 1, 1]              \n",
            " 15                -1  1         0  torch.nn.modules.upsampling.Upsample    [None, 2, 'nearest']          \n",
            " 16           [-1, 4]  1         0  models.common.Concat                    [1]                           \n",
            " 17                -1  1     90880  models.common.C3                        [256, 128, 1, False]          \n",
            " 18                -1  1    147712  models.common.Conv                      [128, 128, 3, 2]              \n",
            " 19          [-1, 14]  1         0  models.common.Concat                    [1]                           \n",
            " 20                -1  1    296448  models.common.C3                        [256, 256, 1, False]          \n",
            " 21                -1  1    590336  models.common.Conv                      [256, 256, 3, 2]              \n",
            " 22          [-1, 10]  1         0  models.common.Concat                    [1]                           \n",
            " 23                -1  1   1182720  models.common.C3                        [512, 512, 1, False]          \n",
            " 24      [17, 20, 23]  1     21576  models.yolo.Detect                      [3, [[0, 1, 2, 3, 4, 5], [0, 1, 2, 3, 4, 5], [0, 1, 2, 3, 4, 5]], [128, 256, 512]]\n",
            "Model summary: 214 layers, 7027720 parameters, 7027720 gradients, 16.0 GFLOPs\n",
            "\n",
            "Transferred 342/349 items from yolov5s.pt\n",
            "\u001b[34m\u001b[1mAMP: \u001b[0mchecks passed ✅\n",
            "\u001b[34m\u001b[1moptimizer:\u001b[0m SGD(lr=0.00995) with parameter groups 57 weight(decay=0.0), 60 weight(decay=0.0005), 60 bias\n",
            "\u001b[34m\u001b[1malbumentations: \u001b[0mBlur(p=0.01, blur_limit=(3, 7)), MedianBlur(p=0.01, blur_limit=(3, 7)), ToGray(p=0.01), CLAHE(p=0.01, clip_limit=(1, 4.0), tile_grid_size=(8, 8))\n",
            "\u001b[34m\u001b[1mtrain: \u001b[0mScanning '/content/BurnsDataset/train/labels.cache' images and labels... 861 found, 0 missing, 3 empty, 0 corrupt: 100% 861/861 [00:00<?, ?it/s]\n",
            "\u001b[34m\u001b[1mtrain: \u001b[0mCaching images (0.7GB ram): 100% 861/861 [00:02<00:00, 401.21it/s]\n",
            "\u001b[34m\u001b[1mval: \u001b[0mScanning '/content/BurnsDataset/val/labels.cache' images and labels... 305 found, 0 missing, 1 empty, 0 corrupt: 100% 305/305 [00:00<?, ?it/s]\n",
            "\n",
            "\u001b[34m\u001b[1mAutoAnchor: \u001b[0m0.00 anchors/target, 0.001 Best Possible Recall (BPR). Anchors are a poor fit to dataset ⚠️, attempting to improve...\n",
            "\u001b[34m\u001b[1mAutoAnchor: \u001b[0mRunning kmeans for 9 anchors on 1536 points...\n",
            "\u001b[34m\u001b[1mAutoAnchor: \u001b[0mEvolving anchors with Genetic Algorithm: fitness = 0.7878: 100% 1000/1000 [00:01<00:00, 714.11it/s]\n",
            "\u001b[34m\u001b[1mAutoAnchor: \u001b[0mthr=0.25: 1.0000 best possible recall, 7.13 anchors past thr\n",
            "\u001b[34m\u001b[1mAutoAnchor: \u001b[0mn=9, img_size=640, metric_all=0.443/0.788-mean/best, past_thr=0.512-mean: 52,51, 93,77, 76,127, 133,117, 155,187, 246,148, 221,269, 390,244, 318,433\n",
            "\u001b[34m\u001b[1mAutoAnchor: \u001b[0mDone ✅ (optional: update model *.yaml to use these anchors in the future)\n",
            "Plotting labels to runs/evolve/exp/labels.jpg... \n",
            "\n",
            "Image sizes 640 train, 640 val\n",
            "Using 2 dataloader workers\n",
            "Logging results to \u001b[1mruns/evolve/exp\u001b[0m\n",
            "Starting training for 1 epochs...\n",
            "\n",
            "      Epoch    GPU_mem   box_loss   obj_loss   cls_loss  Instances       Size\n",
            "  0% 0/54 [00:00<?, ?it/s]\n",
            "Traceback (most recent call last):\n",
            "  File \"train.py\", line 630, in <module>\n",
            "    main(opt)\n",
            "  File \"train.py\", line 607, in main\n",
            "    results = train(hyp.copy(), opt, device, callbacks)\n",
            "  File \"train.py\", line 307, in train\n",
            "    pred = model(imgs)  # forward\n",
            "  File \"/usr/local/lib/python3.7/dist-packages/torch/nn/modules/module.py\", line 1130, in _call_impl\n",
            "    return forward_call(*input, **kwargs)\n",
            "  File \"/content/yolov5/models/yolo.py\", line 209, in forward\n",
            "    return self._forward_once(x, profile, visualize)  # single-scale inference, train\n",
            "  File \"/content/yolov5/models/yolo.py\", line 121, in _forward_once\n",
            "    x = m(x)  # run\n",
            "  File \"/usr/local/lib/python3.7/dist-packages/torch/nn/modules/module.py\", line 1130, in _call_impl\n",
            "    return forward_call(*input, **kwargs)\n",
            "  File \"/content/yolov5/models/common.py\", line 162, in forward\n",
            "    return self.cv3(torch.cat((self.m(self.cv1(x)), self.cv2(x)), 1))\n",
            "  File \"/usr/local/lib/python3.7/dist-packages/torch/nn/modules/module.py\", line 1130, in _call_impl\n",
            "    return forward_call(*input, **kwargs)\n",
            "  File \"/content/yolov5/models/common.py\", line 51, in forward\n",
            "    return self.act(self.bn(self.conv(x)))\n",
            "  File \"/usr/local/lib/python3.7/dist-packages/torch/nn/modules/module.py\", line 1130, in _call_impl\n",
            "    return forward_call(*input, **kwargs)\n",
            "  File \"/usr/local/lib/python3.7/dist-packages/torch/nn/modules/conv.py\", line 457, in forward\n",
            "    return self._conv_forward(input, self.weight, self.bias)\n",
            "  File \"/usr/local/lib/python3.7/dist-packages/torch/nn/modules/conv.py\", line 454, in _conv_forward\n",
            "    self.padding, self.dilation, self.groups)\n",
            "KeyboardInterrupt\n"
          ]
        }
      ]
    },
    {
      "cell_type": "code",
      "source": [
        "#Training using pre-trained weights from YOLOV5 repository\n",
        "# !python train.py --data custom.yaml --weights yolov5s.pt --batch-size 32 --epochs 100 --img 640 --cache "
      ],
      "metadata": {
        "id": "5GP8hVTRsQEu"
      },
      "execution_count": null,
      "outputs": []
    },
    {
      "cell_type": "markdown",
      "source": [
        "# **Testing model**"
      ],
      "metadata": {
        "id": "fsv_psZwIoGK"
      }
    },
    {
      "cell_type": "markdown",
      "source": [
        "Detecting through webcam. Note: unavailable on colab, must download weights and yolov5 repository locally."
      ],
      "metadata": {
        "id": "fY-XAdCTPzvS"
      }
    },
    {
      "cell_type": "code",
      "source": [
        "!python detect.py --source 0 --weights runs/train/exp/weights/best.pt"
      ],
      "metadata": {
        "id": "i3dh0YWwcNCO",
        "colab": {
          "base_uri": "https://localhost:8080/"
        },
        "outputId": "fecbbd54-d8fd-4c30-944e-5ec88a2e8210"
      },
      "execution_count": null,
      "outputs": [
        {
          "output_type": "stream",
          "name": "stdout",
          "text": [
            "\u001b[34m\u001b[1mdetect: \u001b[0mweights=['runs/train/exp/weights/best.pt'], source=0, data=data/coco128.yaml, imgsz=[640, 640], conf_thres=0.25, iou_thres=0.45, max_det=1000, device=, view_img=False, save_txt=False, save_conf=False, save_crop=False, nosave=False, classes=None, agnostic_nms=False, augment=False, visualize=False, update=False, project=runs/detect, name=exp, exist_ok=False, line_thickness=3, hide_labels=False, hide_conf=False, half=False, dnn=False, vid_stride=1\n",
            "YOLOv5 🚀 v6.2-155-g489920a Python-3.7.14 torch-1.12.1+cu113 CUDA:0 (Tesla T4, 15110MiB)\n",
            "\n",
            "Fusing layers... \n",
            "custom_YOLOv5s summary: 182 layers, 5893864 parameters, 0 gradients\n",
            "WARNING ⚠️ Environment does not support cv2.imshow() or PIL Image.show() image displays\n",
            "cv2.imshow() is disabled in Docker environments\n",
            "Traceback (most recent call last):\n",
            "  File \"detect.py\", line 255, in <module>\n",
            "    main(opt)\n",
            "  File \"detect.py\", line 250, in main\n",
            "    run(**vars(opt))\n",
            "  File \"/usr/local/lib/python3.7/dist-packages/torch/autograd/grad_mode.py\", line 27, in decorate_context\n",
            "    return func(*args, **kwargs)\n",
            "  File \"detect.py\", line 101, in run\n",
            "    dataset = LoadStreams(source, img_size=imgsz, stride=stride, auto=pt, vid_stride=vid_stride)\n",
            "  File \"/content/yolov5/utils/dataloaders.py\", line 310, in __init__\n",
            "    assert not is_colab(), '--source 0 webcam unsupported on Colab. Rerun command in a local environment.'\n",
            "AssertionError: --source 0 webcam unsupported on Colab. Rerun command in a local environment.\n"
          ]
        }
      ]
    },
    {
      "cell_type": "markdown",
      "source": [
        "Detecting a custom image: Image must be downloaded first"
      ],
      "metadata": {
        "id": "xI5FfSAkQxAm"
      }
    },
    {
      "cell_type": "code",
      "source": [
        "if os.path.exists(\"/content/yolov5/Test_images\")==False:\n",
        "  os.mkdir(\"Test_images\")\n",
        "  os.chdir(\"Test_images\")\n",
        "  from google.colab import files\n",
        "  files.upload()\n",
        "  for file in os.listdir():\n",
        "    os.rename(file,\"test_img.jpg\")\n",
        "os.chdir(\"/content/yolov5\")\n",
        "!python detect.py --source /content/yolov5/Test_images/test_img.jpg --weights runs/train/exp/weights/best.pt\n",
        "shutil.rmtree(\"/content/yolov5/Test_images\")"
      ],
      "metadata": {
        "colab": {
          "base_uri": "https://localhost:8080/",
          "height": 232
        },
        "id": "a5Fy4V2HQEN-",
        "outputId": "3f266390-c4da-4f83-db8b-e1399f1db2c4"
      },
      "execution_count": null,
      "outputs": [
        {
          "output_type": "display_data",
          "data": {
            "text/plain": [
              "<IPython.core.display.HTML object>"
            ],
            "text/html": [
              "\n",
              "     <input type=\"file\" id=\"files-8473f0d5-1cf4-45f4-a391-d82c2d0c88c4\" name=\"files[]\" multiple disabled\n",
              "        style=\"border:none\" />\n",
              "     <output id=\"result-8473f0d5-1cf4-45f4-a391-d82c2d0c88c4\">\n",
              "      Upload widget is only available when the cell has been executed in the\n",
              "      current browser session. Please rerun this cell to enable.\n",
              "      </output>\n",
              "      <script>// Copyright 2017 Google LLC\n",
              "//\n",
              "// Licensed under the Apache License, Version 2.0 (the \"License\");\n",
              "// you may not use this file except in compliance with the License.\n",
              "// You may obtain a copy of the License at\n",
              "//\n",
              "//      http://www.apache.org/licenses/LICENSE-2.0\n",
              "//\n",
              "// Unless required by applicable law or agreed to in writing, software\n",
              "// distributed under the License is distributed on an \"AS IS\" BASIS,\n",
              "// WITHOUT WARRANTIES OR CONDITIONS OF ANY KIND, either express or implied.\n",
              "// See the License for the specific language governing permissions and\n",
              "// limitations under the License.\n",
              "\n",
              "/**\n",
              " * @fileoverview Helpers for google.colab Python module.\n",
              " */\n",
              "(function(scope) {\n",
              "function span(text, styleAttributes = {}) {\n",
              "  const element = document.createElement('span');\n",
              "  element.textContent = text;\n",
              "  for (const key of Object.keys(styleAttributes)) {\n",
              "    element.style[key] = styleAttributes[key];\n",
              "  }\n",
              "  return element;\n",
              "}\n",
              "\n",
              "// Max number of bytes which will be uploaded at a time.\n",
              "const MAX_PAYLOAD_SIZE = 100 * 1024;\n",
              "\n",
              "function _uploadFiles(inputId, outputId) {\n",
              "  const steps = uploadFilesStep(inputId, outputId);\n",
              "  const outputElement = document.getElementById(outputId);\n",
              "  // Cache steps on the outputElement to make it available for the next call\n",
              "  // to uploadFilesContinue from Python.\n",
              "  outputElement.steps = steps;\n",
              "\n",
              "  return _uploadFilesContinue(outputId);\n",
              "}\n",
              "\n",
              "// This is roughly an async generator (not supported in the browser yet),\n",
              "// where there are multiple asynchronous steps and the Python side is going\n",
              "// to poll for completion of each step.\n",
              "// This uses a Promise to block the python side on completion of each step,\n",
              "// then passes the result of the previous step as the input to the next step.\n",
              "function _uploadFilesContinue(outputId) {\n",
              "  const outputElement = document.getElementById(outputId);\n",
              "  const steps = outputElement.steps;\n",
              "\n",
              "  const next = steps.next(outputElement.lastPromiseValue);\n",
              "  return Promise.resolve(next.value.promise).then((value) => {\n",
              "    // Cache the last promise value to make it available to the next\n",
              "    // step of the generator.\n",
              "    outputElement.lastPromiseValue = value;\n",
              "    return next.value.response;\n",
              "  });\n",
              "}\n",
              "\n",
              "/**\n",
              " * Generator function which is called between each async step of the upload\n",
              " * process.\n",
              " * @param {string} inputId Element ID of the input file picker element.\n",
              " * @param {string} outputId Element ID of the output display.\n",
              " * @return {!Iterable<!Object>} Iterable of next steps.\n",
              " */\n",
              "function* uploadFilesStep(inputId, outputId) {\n",
              "  const inputElement = document.getElementById(inputId);\n",
              "  inputElement.disabled = false;\n",
              "\n",
              "  const outputElement = document.getElementById(outputId);\n",
              "  outputElement.innerHTML = '';\n",
              "\n",
              "  const pickedPromise = new Promise((resolve) => {\n",
              "    inputElement.addEventListener('change', (e) => {\n",
              "      resolve(e.target.files);\n",
              "    });\n",
              "  });\n",
              "\n",
              "  const cancel = document.createElement('button');\n",
              "  inputElement.parentElement.appendChild(cancel);\n",
              "  cancel.textContent = 'Cancel upload';\n",
              "  const cancelPromise = new Promise((resolve) => {\n",
              "    cancel.onclick = () => {\n",
              "      resolve(null);\n",
              "    };\n",
              "  });\n",
              "\n",
              "  // Wait for the user to pick the files.\n",
              "  const files = yield {\n",
              "    promise: Promise.race([pickedPromise, cancelPromise]),\n",
              "    response: {\n",
              "      action: 'starting',\n",
              "    }\n",
              "  };\n",
              "\n",
              "  cancel.remove();\n",
              "\n",
              "  // Disable the input element since further picks are not allowed.\n",
              "  inputElement.disabled = true;\n",
              "\n",
              "  if (!files) {\n",
              "    return {\n",
              "      response: {\n",
              "        action: 'complete',\n",
              "      }\n",
              "    };\n",
              "  }\n",
              "\n",
              "  for (const file of files) {\n",
              "    const li = document.createElement('li');\n",
              "    li.append(span(file.name, {fontWeight: 'bold'}));\n",
              "    li.append(span(\n",
              "        `(${file.type || 'n/a'}) - ${file.size} bytes, ` +\n",
              "        `last modified: ${\n",
              "            file.lastModifiedDate ? file.lastModifiedDate.toLocaleDateString() :\n",
              "                                    'n/a'} - `));\n",
              "    const percent = span('0% done');\n",
              "    li.appendChild(percent);\n",
              "\n",
              "    outputElement.appendChild(li);\n",
              "\n",
              "    const fileDataPromise = new Promise((resolve) => {\n",
              "      const reader = new FileReader();\n",
              "      reader.onload = (e) => {\n",
              "        resolve(e.target.result);\n",
              "      };\n",
              "      reader.readAsArrayBuffer(file);\n",
              "    });\n",
              "    // Wait for the data to be ready.\n",
              "    let fileData = yield {\n",
              "      promise: fileDataPromise,\n",
              "      response: {\n",
              "        action: 'continue',\n",
              "      }\n",
              "    };\n",
              "\n",
              "    // Use a chunked sending to avoid message size limits. See b/62115660.\n",
              "    let position = 0;\n",
              "    do {\n",
              "      const length = Math.min(fileData.byteLength - position, MAX_PAYLOAD_SIZE);\n",
              "      const chunk = new Uint8Array(fileData, position, length);\n",
              "      position += length;\n",
              "\n",
              "      const base64 = btoa(String.fromCharCode.apply(null, chunk));\n",
              "      yield {\n",
              "        response: {\n",
              "          action: 'append',\n",
              "          file: file.name,\n",
              "          data: base64,\n",
              "        },\n",
              "      };\n",
              "\n",
              "      let percentDone = fileData.byteLength === 0 ?\n",
              "          100 :\n",
              "          Math.round((position / fileData.byteLength) * 100);\n",
              "      percent.textContent = `${percentDone}% done`;\n",
              "\n",
              "    } while (position < fileData.byteLength);\n",
              "  }\n",
              "\n",
              "  // All done.\n",
              "  yield {\n",
              "    response: {\n",
              "      action: 'complete',\n",
              "    }\n",
              "  };\n",
              "}\n",
              "\n",
              "scope.google = scope.google || {};\n",
              "scope.google.colab = scope.google.colab || {};\n",
              "scope.google.colab._files = {\n",
              "  _uploadFiles,\n",
              "  _uploadFilesContinue,\n",
              "};\n",
              "})(self);\n",
              "</script> "
            ]
          },
          "metadata": {}
        },
        {
          "output_type": "stream",
          "name": "stdout",
          "text": [
            "Saving burn_test.jpg to burn_test.jpg\n",
            "\u001b[34m\u001b[1mdetect: \u001b[0mweights=['runs/train/exp/weights/best.pt'], source=/content/yolov5/Test_images/test_img.jpg, data=data/coco128.yaml, imgsz=[640, 640], conf_thres=0.25, iou_thres=0.45, max_det=1000, device=, view_img=False, save_txt=False, save_conf=False, save_crop=False, nosave=False, classes=None, agnostic_nms=False, augment=False, visualize=False, update=False, project=runs/detect, name=exp, exist_ok=False, line_thickness=3, hide_labels=False, hide_conf=False, half=False, dnn=False, vid_stride=1\n",
            "YOLOv5 🚀 v6.2-155-g489920a Python-3.7.14 torch-1.12.1+cu113 CUDA:0 (Tesla T4, 15110MiB)\n",
            "\n",
            "Fusing layers... \n",
            "custom_YOLOv5s summary: 182 layers, 5893864 parameters, 0 gradients\n",
            "image 1/1 /content/yolov5/Test_images/test_img.jpg: 320x640 (no detections), 12.8ms\n",
            "Speed: 0.4ms pre-process, 12.8ms inference, 0.3ms NMS per image at shape (1, 3, 640, 640)\n",
            "Results saved to \u001b[1mruns/detect/exp\u001b[0m\n"
          ]
        }
      ]
    }
  ]
}
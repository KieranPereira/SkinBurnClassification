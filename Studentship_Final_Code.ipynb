{
  "nbformat": 4,
  "nbformat_minor": 0,
  "metadata": {
    "colab": {
      "provenance": [],
      "collapsed_sections": [],
      "authorship_tag": "ABX9TyNaK2SdFtKemEfj/+9O7AJY",
      "include_colab_link": true
    },
    "kernelspec": {
      "name": "python3",
      "display_name": "Python 3"
    },
    "language_info": {
      "name": "python"
    },
    "accelerator": "GPU",
    "gpuClass": "standard"
  },
  "cells": [
    {
      "cell_type": "markdown",
      "metadata": {
        "id": "view-in-github",
        "colab_type": "text"
      },
      "source": [
        "<a href=\"https://colab.research.google.com/github/KieranPereira/SkinBurnClassification/blob/main/Studentship_Final_Code.ipynb\" target=\"_parent\"><img src=\"https://colab.research.google.com/assets/colab-badge.svg\" alt=\"Open In Colab\"/></a>"
      ]
    },
    {
      "cell_type": "markdown",
      "source": [
        "# **Installing Dependencies & Imports**"
      ],
      "metadata": {
        "id": "JAq2iEaNbkkp"
      }
    },
    {
      "cell_type": "markdown",
      "source": [
        "Installing Dependencies"
      ],
      "metadata": {
        "id": "CkulsjSkbqGw"
      }
    },
    {
      "cell_type": "code",
      "execution_count": 1,
      "metadata": {
        "colab": {
          "base_uri": "https://localhost:8080/"
        },
        "id": "wlVLI6B38FIU",
        "outputId": "b1573a30-7b47-4ea5-f43f-73ca0c7b85dc"
      },
      "outputs": [
        {
          "output_type": "stream",
          "name": "stdout",
          "text": [
            "Looking in indexes: https://pypi.org/simple, https://us-python.pkg.dev/colab-wheels/public/simple/\n",
            "Requirement already satisfied: kaggle in /usr/local/lib/python3.7/dist-packages (1.5.12)\n",
            "Requirement already satisfied: requests in /usr/local/lib/python3.7/dist-packages (from kaggle) (2.23.0)\n",
            "Requirement already satisfied: python-dateutil in /usr/local/lib/python3.7/dist-packages (from kaggle) (2.8.2)\n",
            "Requirement already satisfied: urllib3 in /usr/local/lib/python3.7/dist-packages (from kaggle) (1.24.3)\n",
            "Requirement already satisfied: six>=1.10 in /usr/local/lib/python3.7/dist-packages (from kaggle) (1.15.0)\n",
            "Requirement already satisfied: tqdm in /usr/local/lib/python3.7/dist-packages (from kaggle) (4.64.1)\n",
            "Requirement already satisfied: python-slugify in /usr/local/lib/python3.7/dist-packages (from kaggle) (6.1.2)\n",
            "Requirement already satisfied: certifi in /usr/local/lib/python3.7/dist-packages (from kaggle) (2022.6.15)\n",
            "Requirement already satisfied: text-unidecode>=1.3 in /usr/local/lib/python3.7/dist-packages (from python-slugify->kaggle) (1.3)\n",
            "Requirement already satisfied: idna<3,>=2.5 in /usr/local/lib/python3.7/dist-packages (from requests->kaggle) (2.10)\n",
            "Requirement already satisfied: chardet<4,>=3.0.2 in /usr/local/lib/python3.7/dist-packages (from requests->kaggle) (3.0.4)\n"
          ]
        }
      ],
      "source": [
        "import torch\n",
        "import os\n",
        "import shutil\n",
        "import zipfile\n",
        "import time\n",
        "import yaml\n",
        "%pip install kaggle"
      ]
    },
    {
      "cell_type": "markdown",
      "source": [
        "Cloning yolov5 repo and installing additional dependencies"
      ],
      "metadata": {
        "id": "rfU5QGWIbx0d"
      }
    },
    {
      "cell_type": "code",
      "source": [
        "#Cloning Yolov5 Repository\n",
        "if os.path.exists(\"yolov5\")==False:\n",
        "\n",
        "    print(\"preparing to clone yolov5 repository\")\n",
        "    time.sleep(1)\n",
        "\n",
        "    !git clone https://github.com/ultralytics/yolov5\n",
        "    os.chdir(\"yolov5\")\n",
        "    #Installing Dependencies\n",
        "\n",
        "    print(\"preparing to install dependencies\")\n",
        "    time.sleep(1)\n",
        "\n",
        "    %pip install -r requirements.txt\n",
        "    os.chdir(\"..\")\n"
      ],
      "metadata": {
        "id": "d2yYNZNl_PTA",
        "colab": {
          "base_uri": "https://localhost:8080/"
        },
        "outputId": "b4279df4-7763-477c-f5c3-e6b38018d05f"
      },
      "execution_count": 2,
      "outputs": [
        {
          "output_type": "stream",
          "name": "stdout",
          "text": [
            "preparing to clone yolov5 repository\n",
            "Cloning into 'yolov5'...\n",
            "remote: Enumerating objects: 12633, done.\u001b[K\n",
            "remote: Counting objects: 100% (166/166), done.\u001b[K\n",
            "remote: Compressing objects: 100% (99/99), done.\u001b[K\n",
            "remote: Total 12633 (delta 105), reused 113 (delta 67), pack-reused 12467\u001b[K\n",
            "Receiving objects: 100% (12633/12633), 12.77 MiB | 28.62 MiB/s, done.\n",
            "Resolving deltas: 100% (8701/8701), done.\n",
            "preparing to install dependencies\n",
            "Looking in indexes: https://pypi.org/simple, https://us-python.pkg.dev/colab-wheels/public/simple/\n",
            "Requirement already satisfied: matplotlib>=3.2.2 in /usr/local/lib/python3.7/dist-packages (from -r requirements.txt (line 5)) (3.2.2)\n",
            "Requirement already satisfied: numpy>=1.18.5 in /usr/local/lib/python3.7/dist-packages (from -r requirements.txt (line 6)) (1.21.6)\n",
            "Requirement already satisfied: opencv-python>=4.1.1 in /usr/local/lib/python3.7/dist-packages (from -r requirements.txt (line 7)) (4.6.0.66)\n",
            "Requirement already satisfied: Pillow>=7.1.2 in /usr/local/lib/python3.7/dist-packages (from -r requirements.txt (line 8)) (7.1.2)\n",
            "Requirement already satisfied: PyYAML>=5.3.1 in /usr/local/lib/python3.7/dist-packages (from -r requirements.txt (line 9)) (6.0)\n",
            "Requirement already satisfied: requests>=2.23.0 in /usr/local/lib/python3.7/dist-packages (from -r requirements.txt (line 10)) (2.23.0)\n",
            "Requirement already satisfied: scipy>=1.4.1 in /usr/local/lib/python3.7/dist-packages (from -r requirements.txt (line 11)) (1.7.3)\n",
            "Requirement already satisfied: torch>=1.7.0 in /usr/local/lib/python3.7/dist-packages (from -r requirements.txt (line 12)) (1.12.1+cu113)\n",
            "Requirement already satisfied: torchvision>=0.8.1 in /usr/local/lib/python3.7/dist-packages (from -r requirements.txt (line 13)) (0.13.1+cu113)\n",
            "Requirement already satisfied: tqdm>=4.64.0 in /usr/local/lib/python3.7/dist-packages (from -r requirements.txt (line 14)) (4.64.1)\n",
            "Requirement already satisfied: tensorboard>=2.4.1 in /usr/local/lib/python3.7/dist-packages (from -r requirements.txt (line 18)) (2.8.0)\n",
            "Requirement already satisfied: pandas>=1.1.4 in /usr/local/lib/python3.7/dist-packages (from -r requirements.txt (line 23)) (1.3.5)\n",
            "Requirement already satisfied: seaborn>=0.11.0 in /usr/local/lib/python3.7/dist-packages (from -r requirements.txt (line 24)) (0.11.2)\n",
            "Requirement already satisfied: ipython in /usr/local/lib/python3.7/dist-packages (from -r requirements.txt (line 38)) (7.9.0)\n",
            "Requirement already satisfied: psutil in /usr/local/lib/python3.7/dist-packages (from -r requirements.txt (line 39)) (5.4.8)\n",
            "Collecting thop>=0.1.1\n",
            "  Downloading thop-0.1.1.post2209072238-py3-none-any.whl (15 kB)\n",
            "Requirement already satisfied: pyparsing!=2.0.4,!=2.1.2,!=2.1.6,>=2.0.1 in /usr/local/lib/python3.7/dist-packages (from matplotlib>=3.2.2->-r requirements.txt (line 5)) (3.0.9)\n",
            "Requirement already satisfied: cycler>=0.10 in /usr/local/lib/python3.7/dist-packages (from matplotlib>=3.2.2->-r requirements.txt (line 5)) (0.11.0)\n",
            "Requirement already satisfied: kiwisolver>=1.0.1 in /usr/local/lib/python3.7/dist-packages (from matplotlib>=3.2.2->-r requirements.txt (line 5)) (1.4.4)\n",
            "Requirement already satisfied: python-dateutil>=2.1 in /usr/local/lib/python3.7/dist-packages (from matplotlib>=3.2.2->-r requirements.txt (line 5)) (2.8.2)\n",
            "Requirement already satisfied: chardet<4,>=3.0.2 in /usr/local/lib/python3.7/dist-packages (from requests>=2.23.0->-r requirements.txt (line 10)) (3.0.4)\n",
            "Requirement already satisfied: urllib3!=1.25.0,!=1.25.1,<1.26,>=1.21.1 in /usr/local/lib/python3.7/dist-packages (from requests>=2.23.0->-r requirements.txt (line 10)) (1.24.3)\n",
            "Requirement already satisfied: certifi>=2017.4.17 in /usr/local/lib/python3.7/dist-packages (from requests>=2.23.0->-r requirements.txt (line 10)) (2022.6.15)\n",
            "Requirement already satisfied: idna<3,>=2.5 in /usr/local/lib/python3.7/dist-packages (from requests>=2.23.0->-r requirements.txt (line 10)) (2.10)\n",
            "Requirement already satisfied: typing-extensions in /usr/local/lib/python3.7/dist-packages (from torch>=1.7.0->-r requirements.txt (line 12)) (4.1.1)\n",
            "Requirement already satisfied: tensorboard-data-server<0.7.0,>=0.6.0 in /usr/local/lib/python3.7/dist-packages (from tensorboard>=2.4.1->-r requirements.txt (line 18)) (0.6.1)\n",
            "Requirement already satisfied: markdown>=2.6.8 in /usr/local/lib/python3.7/dist-packages (from tensorboard>=2.4.1->-r requirements.txt (line 18)) (3.4.1)\n",
            "Requirement already satisfied: grpcio>=1.24.3 in /usr/local/lib/python3.7/dist-packages (from tensorboard>=2.4.1->-r requirements.txt (line 18)) (1.48.1)\n",
            "Requirement already satisfied: google-auth<3,>=1.6.3 in /usr/local/lib/python3.7/dist-packages (from tensorboard>=2.4.1->-r requirements.txt (line 18)) (1.35.0)\n",
            "Requirement already satisfied: protobuf>=3.6.0 in /usr/local/lib/python3.7/dist-packages (from tensorboard>=2.4.1->-r requirements.txt (line 18)) (3.17.3)\n",
            "Requirement already satisfied: werkzeug>=0.11.15 in /usr/local/lib/python3.7/dist-packages (from tensorboard>=2.4.1->-r requirements.txt (line 18)) (1.0.1)\n",
            "Requirement already satisfied: absl-py>=0.4 in /usr/local/lib/python3.7/dist-packages (from tensorboard>=2.4.1->-r requirements.txt (line 18)) (1.2.0)\n",
            "Requirement already satisfied: google-auth-oauthlib<0.5,>=0.4.1 in /usr/local/lib/python3.7/dist-packages (from tensorboard>=2.4.1->-r requirements.txt (line 18)) (0.4.6)\n",
            "Requirement already satisfied: setuptools>=41.0.0 in /usr/local/lib/python3.7/dist-packages (from tensorboard>=2.4.1->-r requirements.txt (line 18)) (57.4.0)\n",
            "Requirement already satisfied: wheel>=0.26 in /usr/local/lib/python3.7/dist-packages (from tensorboard>=2.4.1->-r requirements.txt (line 18)) (0.37.1)\n",
            "Requirement already satisfied: tensorboard-plugin-wit>=1.6.0 in /usr/local/lib/python3.7/dist-packages (from tensorboard>=2.4.1->-r requirements.txt (line 18)) (1.8.1)\n",
            "Requirement already satisfied: pytz>=2017.3 in /usr/local/lib/python3.7/dist-packages (from pandas>=1.1.4->-r requirements.txt (line 23)) (2022.2.1)\n",
            "Requirement already satisfied: rsa<5,>=3.1.4 in /usr/local/lib/python3.7/dist-packages (from google-auth<3,>=1.6.3->tensorboard>=2.4.1->-r requirements.txt (line 18)) (4.9)\n",
            "Requirement already satisfied: six>=1.9.0 in /usr/local/lib/python3.7/dist-packages (from google-auth<3,>=1.6.3->tensorboard>=2.4.1->-r requirements.txt (line 18)) (1.15.0)\n",
            "Requirement already satisfied: pyasn1-modules>=0.2.1 in /usr/local/lib/python3.7/dist-packages (from google-auth<3,>=1.6.3->tensorboard>=2.4.1->-r requirements.txt (line 18)) (0.2.8)\n",
            "Requirement already satisfied: cachetools<5.0,>=2.0.0 in /usr/local/lib/python3.7/dist-packages (from google-auth<3,>=1.6.3->tensorboard>=2.4.1->-r requirements.txt (line 18)) (4.2.4)\n",
            "Requirement already satisfied: requests-oauthlib>=0.7.0 in /usr/local/lib/python3.7/dist-packages (from google-auth-oauthlib<0.5,>=0.4.1->tensorboard>=2.4.1->-r requirements.txt (line 18)) (1.3.1)\n",
            "Requirement already satisfied: importlib-metadata>=4.4 in /usr/local/lib/python3.7/dist-packages (from markdown>=2.6.8->tensorboard>=2.4.1->-r requirements.txt (line 18)) (4.12.0)\n",
            "Requirement already satisfied: zipp>=0.5 in /usr/local/lib/python3.7/dist-packages (from importlib-metadata>=4.4->markdown>=2.6.8->tensorboard>=2.4.1->-r requirements.txt (line 18)) (3.8.1)\n",
            "Requirement already satisfied: pyasn1<0.5.0,>=0.4.6 in /usr/local/lib/python3.7/dist-packages (from pyasn1-modules>=0.2.1->google-auth<3,>=1.6.3->tensorboard>=2.4.1->-r requirements.txt (line 18)) (0.4.8)\n",
            "Requirement already satisfied: oauthlib>=3.0.0 in /usr/local/lib/python3.7/dist-packages (from requests-oauthlib>=0.7.0->google-auth-oauthlib<0.5,>=0.4.1->tensorboard>=2.4.1->-r requirements.txt (line 18)) (3.2.0)\n",
            "Requirement already satisfied: pexpect in /usr/local/lib/python3.7/dist-packages (from ipython->-r requirements.txt (line 38)) (4.8.0)\n",
            "Requirement already satisfied: pickleshare in /usr/local/lib/python3.7/dist-packages (from ipython->-r requirements.txt (line 38)) (0.7.5)\n",
            "Requirement already satisfied: traitlets>=4.2 in /usr/local/lib/python3.7/dist-packages (from ipython->-r requirements.txt (line 38)) (5.1.1)\n",
            "Collecting jedi>=0.10\n",
            "  Downloading jedi-0.18.1-py2.py3-none-any.whl (1.6 MB)\n",
            "\u001b[K     |████████████████████████████████| 1.6 MB 6.7 MB/s \n",
            "\u001b[?25hRequirement already satisfied: prompt-toolkit<2.1.0,>=2.0.0 in /usr/local/lib/python3.7/dist-packages (from ipython->-r requirements.txt (line 38)) (2.0.10)\n",
            "Requirement already satisfied: pygments in /usr/local/lib/python3.7/dist-packages (from ipython->-r requirements.txt (line 38)) (2.6.1)\n",
            "Requirement already satisfied: backcall in /usr/local/lib/python3.7/dist-packages (from ipython->-r requirements.txt (line 38)) (0.2.0)\n",
            "Requirement already satisfied: decorator in /usr/local/lib/python3.7/dist-packages (from ipython->-r requirements.txt (line 38)) (4.4.2)\n",
            "Requirement already satisfied: parso<0.9.0,>=0.8.0 in /usr/local/lib/python3.7/dist-packages (from jedi>=0.10->ipython->-r requirements.txt (line 38)) (0.8.3)\n",
            "Requirement already satisfied: wcwidth in /usr/local/lib/python3.7/dist-packages (from prompt-toolkit<2.1.0,>=2.0.0->ipython->-r requirements.txt (line 38)) (0.2.5)\n",
            "Requirement already satisfied: ptyprocess>=0.5 in /usr/local/lib/python3.7/dist-packages (from pexpect->ipython->-r requirements.txt (line 38)) (0.7.0)\n",
            "Installing collected packages: jedi, thop\n",
            "Successfully installed jedi-0.18.1 thop-0.1.1.post2209072238\n"
          ]
        }
      ]
    },
    {
      "cell_type": "markdown",
      "source": [
        "# **Dataset Paths and formatting**"
      ],
      "metadata": {
        "id": "V9g_wZLscA4K"
      }
    },
    {
      "cell_type": "markdown",
      "source": [
        "Creating Dataset Paths for Training, Validation and Testing. Creating Subdirectories for images and labels in each folder."
      ],
      "metadata": {
        "id": "8SMjP4L3cFT1"
      }
    },
    {
      "cell_type": "code",
      "source": [
        "#Creating dataset paths\n",
        "if os.path.exists(\"BurnsDataset\")==False:\n",
        "    \n",
        "    print(\"Preparing to create dataset paths\")\n",
        "    \n",
        "  \n",
        "    os.makedirs(\"BurnsDataset\")\n",
        "    os.chdir(\"BurnsDataset\")\n",
        "    os.makedirs(\"test/images\")\n",
        "    os.makedirs(\"test/labels\")\n",
        "    os.makedirs(\"train/images\")\n",
        "    os.makedirs(\"train/labels\")\n",
        "    os.makedirs(\"val/images\")\n",
        "    os.makedirs(\"val/labels\")\n",
        "    os.chdir(\"..\")"
      ],
      "metadata": {
        "colab": {
          "base_uri": "https://localhost:8080/"
        },
        "id": "GiodCHFUBS8x",
        "outputId": "039c34b3-2ee0-4939-923d-542422b4d4a9"
      },
      "execution_count": 3,
      "outputs": [
        {
          "output_type": "stream",
          "name": "stdout",
          "text": [
            "Preparing to create dataset paths\n"
          ]
        }
      ]
    },
    {
      "cell_type": "code",
      "source": [
        "#Navigating to home directory\n",
        "while os.getcwd()!=\"/content\":\n",
        "  os.chdir(\"..\")\n",
        "print(os.getcwd())"
      ],
      "metadata": {
        "colab": {
          "base_uri": "https://localhost:8080/"
        },
        "id": "S9w2w5NKCzzR",
        "outputId": "1e796f93-3236-4665-f3ab-056d15dcdd2e"
      },
      "execution_count": 4,
      "outputs": [
        {
          "output_type": "stream",
          "name": "stdout",
          "text": [
            "/content\n"
          ]
        }
      ]
    },
    {
      "cell_type": "markdown",
      "source": [
        "Downloading Dataset from kaggle.com. Requires API token to be downloaded and uploaded to drive. Instructions for downloading API token can be found here: https://www.kaggle.com/docs/api"
      ],
      "metadata": {
        "id": "BZUU9-43cOdw"
      }
    },
    {
      "cell_type": "code",
      "source": [
        "\n",
        "if os.path.exists(\"..\\.kaggle\\kaggle.json\")==False:\n",
        "    \n",
        "    print(\"preparing to download dataset\")\n",
        "    time.sleep(2)\n",
        "    !mkdir ~/.kaggle\n",
        "    from google.colab import files\n",
        "    files.upload()\n",
        "    shutil.move(\"kaggle.json\",\"../root/.kaggle/kaggle.json\")\n",
        "    !chmod 600 ~/.kaggle/kaggle.json\n",
        "    !kaggle datasets download -d shubhambaid/skin-burn-dataset\n",
        "    with zipfile.ZipFile(\"skin-burn-dataset.zip\",\"r\") as zip_ref:\n",
        "        zip_ref.extractall(\"BurnsDataset\")\n",
        "    os.remove(\"skin-burn-dataset.zip\")"
      ],
      "metadata": {
        "colab": {
          "base_uri": "https://localhost:8080/",
          "height": 142
        },
        "id": "Xs78t6OtCBRC",
        "outputId": "21b1c83e-cf4d-4407-947e-247314580247"
      },
      "execution_count": 5,
      "outputs": [
        {
          "output_type": "stream",
          "name": "stdout",
          "text": [
            "preparing to download dataset\n"
          ]
        },
        {
          "output_type": "display_data",
          "data": {
            "text/plain": [
              "<IPython.core.display.HTML object>"
            ],
            "text/html": [
              "\n",
              "     <input type=\"file\" id=\"files-9a00a9af-fee7-4263-82ac-e77831b0867b\" name=\"files[]\" multiple disabled\n",
              "        style=\"border:none\" />\n",
              "     <output id=\"result-9a00a9af-fee7-4263-82ac-e77831b0867b\">\n",
              "      Upload widget is only available when the cell has been executed in the\n",
              "      current browser session. Please rerun this cell to enable.\n",
              "      </output>\n",
              "      <script>// Copyright 2017 Google LLC\n",
              "//\n",
              "// Licensed under the Apache License, Version 2.0 (the \"License\");\n",
              "// you may not use this file except in compliance with the License.\n",
              "// You may obtain a copy of the License at\n",
              "//\n",
              "//      http://www.apache.org/licenses/LICENSE-2.0\n",
              "//\n",
              "// Unless required by applicable law or agreed to in writing, software\n",
              "// distributed under the License is distributed on an \"AS IS\" BASIS,\n",
              "// WITHOUT WARRANTIES OR CONDITIONS OF ANY KIND, either express or implied.\n",
              "// See the License for the specific language governing permissions and\n",
              "// limitations under the License.\n",
              "\n",
              "/**\n",
              " * @fileoverview Helpers for google.colab Python module.\n",
              " */\n",
              "(function(scope) {\n",
              "function span(text, styleAttributes = {}) {\n",
              "  const element = document.createElement('span');\n",
              "  element.textContent = text;\n",
              "  for (const key of Object.keys(styleAttributes)) {\n",
              "    element.style[key] = styleAttributes[key];\n",
              "  }\n",
              "  return element;\n",
              "}\n",
              "\n",
              "// Max number of bytes which will be uploaded at a time.\n",
              "const MAX_PAYLOAD_SIZE = 100 * 1024;\n",
              "\n",
              "function _uploadFiles(inputId, outputId) {\n",
              "  const steps = uploadFilesStep(inputId, outputId);\n",
              "  const outputElement = document.getElementById(outputId);\n",
              "  // Cache steps on the outputElement to make it available for the next call\n",
              "  // to uploadFilesContinue from Python.\n",
              "  outputElement.steps = steps;\n",
              "\n",
              "  return _uploadFilesContinue(outputId);\n",
              "}\n",
              "\n",
              "// This is roughly an async generator (not supported in the browser yet),\n",
              "// where there are multiple asynchronous steps and the Python side is going\n",
              "// to poll for completion of each step.\n",
              "// This uses a Promise to block the python side on completion of each step,\n",
              "// then passes the result of the previous step as the input to the next step.\n",
              "function _uploadFilesContinue(outputId) {\n",
              "  const outputElement = document.getElementById(outputId);\n",
              "  const steps = outputElement.steps;\n",
              "\n",
              "  const next = steps.next(outputElement.lastPromiseValue);\n",
              "  return Promise.resolve(next.value.promise).then((value) => {\n",
              "    // Cache the last promise value to make it available to the next\n",
              "    // step of the generator.\n",
              "    outputElement.lastPromiseValue = value;\n",
              "    return next.value.response;\n",
              "  });\n",
              "}\n",
              "\n",
              "/**\n",
              " * Generator function which is called between each async step of the upload\n",
              " * process.\n",
              " * @param {string} inputId Element ID of the input file picker element.\n",
              " * @param {string} outputId Element ID of the output display.\n",
              " * @return {!Iterable<!Object>} Iterable of next steps.\n",
              " */\n",
              "function* uploadFilesStep(inputId, outputId) {\n",
              "  const inputElement = document.getElementById(inputId);\n",
              "  inputElement.disabled = false;\n",
              "\n",
              "  const outputElement = document.getElementById(outputId);\n",
              "  outputElement.innerHTML = '';\n",
              "\n",
              "  const pickedPromise = new Promise((resolve) => {\n",
              "    inputElement.addEventListener('change', (e) => {\n",
              "      resolve(e.target.files);\n",
              "    });\n",
              "  });\n",
              "\n",
              "  const cancel = document.createElement('button');\n",
              "  inputElement.parentElement.appendChild(cancel);\n",
              "  cancel.textContent = 'Cancel upload';\n",
              "  const cancelPromise = new Promise((resolve) => {\n",
              "    cancel.onclick = () => {\n",
              "      resolve(null);\n",
              "    };\n",
              "  });\n",
              "\n",
              "  // Wait for the user to pick the files.\n",
              "  const files = yield {\n",
              "    promise: Promise.race([pickedPromise, cancelPromise]),\n",
              "    response: {\n",
              "      action: 'starting',\n",
              "    }\n",
              "  };\n",
              "\n",
              "  cancel.remove();\n",
              "\n",
              "  // Disable the input element since further picks are not allowed.\n",
              "  inputElement.disabled = true;\n",
              "\n",
              "  if (!files) {\n",
              "    return {\n",
              "      response: {\n",
              "        action: 'complete',\n",
              "      }\n",
              "    };\n",
              "  }\n",
              "\n",
              "  for (const file of files) {\n",
              "    const li = document.createElement('li');\n",
              "    li.append(span(file.name, {fontWeight: 'bold'}));\n",
              "    li.append(span(\n",
              "        `(${file.type || 'n/a'}) - ${file.size} bytes, ` +\n",
              "        `last modified: ${\n",
              "            file.lastModifiedDate ? file.lastModifiedDate.toLocaleDateString() :\n",
              "                                    'n/a'} - `));\n",
              "    const percent = span('0% done');\n",
              "    li.appendChild(percent);\n",
              "\n",
              "    outputElement.appendChild(li);\n",
              "\n",
              "    const fileDataPromise = new Promise((resolve) => {\n",
              "      const reader = new FileReader();\n",
              "      reader.onload = (e) => {\n",
              "        resolve(e.target.result);\n",
              "      };\n",
              "      reader.readAsArrayBuffer(file);\n",
              "    });\n",
              "    // Wait for the data to be ready.\n",
              "    let fileData = yield {\n",
              "      promise: fileDataPromise,\n",
              "      response: {\n",
              "        action: 'continue',\n",
              "      }\n",
              "    };\n",
              "\n",
              "    // Use a chunked sending to avoid message size limits. See b/62115660.\n",
              "    let position = 0;\n",
              "    do {\n",
              "      const length = Math.min(fileData.byteLength - position, MAX_PAYLOAD_SIZE);\n",
              "      const chunk = new Uint8Array(fileData, position, length);\n",
              "      position += length;\n",
              "\n",
              "      const base64 = btoa(String.fromCharCode.apply(null, chunk));\n",
              "      yield {\n",
              "        response: {\n",
              "          action: 'append',\n",
              "          file: file.name,\n",
              "          data: base64,\n",
              "        },\n",
              "      };\n",
              "\n",
              "      let percentDone = fileData.byteLength === 0 ?\n",
              "          100 :\n",
              "          Math.round((position / fileData.byteLength) * 100);\n",
              "      percent.textContent = `${percentDone}% done`;\n",
              "\n",
              "    } while (position < fileData.byteLength);\n",
              "  }\n",
              "\n",
              "  // All done.\n",
              "  yield {\n",
              "    response: {\n",
              "      action: 'complete',\n",
              "    }\n",
              "  };\n",
              "}\n",
              "\n",
              "scope.google = scope.google || {};\n",
              "scope.google.colab = scope.google.colab || {};\n",
              "scope.google.colab._files = {\n",
              "  _uploadFiles,\n",
              "  _uploadFilesContinue,\n",
              "};\n",
              "})(self);\n",
              "</script> "
            ]
          },
          "metadata": {}
        },
        {
          "output_type": "stream",
          "name": "stdout",
          "text": [
            "Saving kaggle.json to kaggle.json\n",
            "Downloading skin-burn-dataset.zip to /content\n",
            " 72% 12.0M/16.6M [00:00<00:00, 49.5MB/s]\n",
            "100% 16.6M/16.6M [00:00<00:00, 58.7MB/s]\n"
          ]
        }
      ]
    },
    {
      "cell_type": "code",
      "source": [
        "os.chdir(\"/content\")"
      ],
      "metadata": {
        "id": "Y7VWAtXqgIzI"
      },
      "execution_count": 6,
      "outputs": []
    },
    {
      "cell_type": "markdown",
      "source": [
        "Finding number of valid/usable images in the dataset."
      ],
      "metadata": {
        "id": "f0MmdJf0G2Li"
      }
    },
    {
      "cell_type": "code",
      "source": [
        "#Dataset formatting\n",
        "temp_len= int(len(os.listdir(\"BurnsDataset\")))\n",
        "print(temp_len)\n",
        "#Dataset formatting\n",
        "os.chdir(\"BurnsDataset\")\n",
        "print(\"preparing to format data\")\n",
        "#Removing unlabelled images from dataset\n",
        "#Counting number of images in new dataset\n",
        "number_img = 0\n",
        "text_img =0\n",
        "for i in range (0,int(temp_len)+1):\n",
        "  string1= str(i)\n",
        "  if os.path.exists(\"img\"+string1+\".jpg\")==True:\n",
        "      number_img=number_img+1\n",
        "\n",
        "print(\"There are {} images in your dataset\".format(str(number_img)))"
      ],
      "metadata": {
        "id": "VvF4RoWVc_gz",
        "colab": {
          "base_uri": "https://localhost:8080/"
        },
        "outputId": "ccc040eb-d2c2-408e-c59b-5b6e8f46ca41"
      },
      "execution_count": 7,
      "outputs": [
        {
          "output_type": "stream",
          "name": "stdout",
          "text": [
            "2671\n",
            "preparing to format data\n",
            "There are 1225 images in your dataset\n"
          ]
        }
      ]
    },
    {
      "cell_type": "markdown",
      "source": [
        "Defining Ratios for Test:Validation:Train data. \n",
        "\n",
        "*Note: For improved training results, increase the ratio for 'Train' data.*"
      ],
      "metadata": {
        "id": "8D78gz0jcecm"
      }
    },
    {
      "cell_type": "code",
      "source": [
        "    print(\"preparing to format data\")\n",
        "    test_ratio=float(input(\"Please enter the ratio for your test data (note test, val, train data must sum to 10)\"))\n",
        "    val_ratio=float(input(\"Please enter the ratio for your val data (note test, val, train data must sum to 10)\"))\n",
        "    train_ratio=float(input(\"Please enter the ratio for your train data (note test, val, train data must sum to 10)\"))\n",
        "    while test_ratio+val_ratio+train_ratio !=10:\n",
        "        print(\" test, val, train data must sum to 10\")\n",
        "        test_ratio=float(input(\"Please enter the ratio for your test data (note test, val, train data must sum to 10)\"))\n",
        "        val_ratio=float(input(\"Please enter the ratio for your val data (note test, val, train data must sum to 10)\"))\n",
        "        train_ratio=float(input(\"Please enter the ratio for your train data (note test, val, train data must sum to 10)\"))\n",
        "    print(\"splitting into \" +str(test_ratio)+\":\"+str(val_ratio)+\":\" +str(train_ratio)+\" for test:val:train\")\n",
        "    time.sleep(2)\n",
        "    test_num= number_img//(float(1/(test_ratio/10)))\n",
        "    val_num= number_img//(float(1/(val_ratio/10)))\n",
        "    train_num= number_img//(float(1/(train_ratio/10)))"
      ],
      "metadata": {
        "id": "n-gcSaZYFlZp",
        "colab": {
          "base_uri": "https://localhost:8080/"
        },
        "outputId": "4aca4c40-dc73-44ae-d9f1-80127714a483"
      },
      "execution_count": 9,
      "outputs": [
        {
          "output_type": "stream",
          "name": "stdout",
          "text": [
            "preparing to format data\n",
            "Please enter the ratio for your test data (note test, val, train data must sum to 10)0.5\n",
            "Please enter the ratio for your val data (note test, val, train data must sum to 10)1.5\n",
            "Please enter the ratio for your train data (note test, val, train data must sum to 10)8\n",
            "splitting into 0.5:1.5:8.0 for test:val:train\n"
          ]
        }
      ]
    },
    {
      "cell_type": "markdown",
      "source": [
        "Moving images and associated labels to test,train and validation folders"
      ],
      "metadata": {
        "id": "KMQRk04JPWKo"
      }
    },
    {
      "cell_type": "code",
      "source": [
        "    while os.getcwd()!=\"/content\":\n",
        "      os.chdir(\"..\")\n",
        "    print(os.getcwd())\n",
        "# create a list of files in burns dataset and appending it to a .txt file. This allows  \n",
        "    allFiles=[]\n",
        "    for entry in os.listdir(\"BurnsDataset\"):\n",
        "        if \".jpg\" in entry:\n",
        "            allFiles.append(entry)\n",
        "        if \".jpeg\" in entry:\n",
        "            allFiles.append(entry)\n",
        "    with open(\"allfiles.txt\",\"w\") as w:\n",
        "        w.write(str(allFiles))\n",
        "    w.close\n",
        "    te_num=0\n",
        "    va_num=0\n",
        "    tr_num=0\n",
        "    os.chdir(\"BurnsDataset\")\n",
        "    print(\"appending files to test folder: \\n {}\".format(os.getcwd()))\n",
        "    time.sleep(2)\n",
        "    for i in range(0,len(allFiles)):\n",
        "        if i in range(0,int(test_num)):\n",
        "            te_num=te_num+1\n",
        "            entry_file= allFiles[i]\n",
        "            if \".jpg\" in entry_file:\n",
        "                shutil.move(entry_file, \"test\")\n",
        "                shutil.move(str(entry_file).replace(\".jpg\",\".txt\"), \"test\")\n",
        "            elif \".jpeg\" in entry_file:\n",
        "                shutil.move(entry_file, \"test\")\n",
        "                shutil.move(str(entry_file).replace(\".jpeg\",\".txt\"),\"test\")\n",
        "        os.chdir(\"test\")\n",
        "        for filename in os.listdir():\n",
        "            if \".jpg\" in filename:\n",
        "                shutil.move(filename,\"images\")\n",
        "            elif \".txt\" in filename:\n",
        "                shutil.move(filename,\"labels\")\n",
        "            elif \".jpeg\" in filename:\n",
        "                shutil.move(filename,\"images\")\n",
        "        os.chdir(\"..\")\n",
        "    print(\"te_num={}\".format(te_num))\n",
        "    print(\"appending files to validation folder: \\n {}\".format(os.getcwd()))\n",
        "    time.sleep(2)\n",
        "    for i in range(0,len(allFiles)):\n",
        "        if i in range(int(test_num),int(val_num*2)):\n",
        "            va_num=va_num+1\n",
        "            entry_file= allFiles[i]\n",
        "            if \".jpg\" in entry_file:\n",
        "                shutil.move(entry_file, \"val\")\n",
        "                shutil.move(str(entry_file).replace(\".jpg\",\".txt\"), \"val\")\n",
        "            elif \".jpeg\" in entry_file:\n",
        "                shutil.move(entry_file, \"val\")\n",
        "                shutil.move(str(entry_file).replace(\".jpeg\",\".txt\"), \"val\")\n",
        "        os.chdir(\"val\")\n",
        "        for filename in os.listdir():\n",
        "            if \".jpg\" in filename:\n",
        "                shutil.move(filename,\"images\")\n",
        "            elif \".txt\" in filename:\n",
        "                shutil.move(filename,\"labels\")\n",
        "            elif \".jpeg\" in filename:\n",
        "                shutil.move(filename,\"images\")\n",
        "        os.chdir(\"..\")\n",
        "    print(\"va_num={}\".format(va_num))\n",
        "    print(\"appending files to train folder: \\n {}\".format(os.getcwd()))\n",
        "    time.sleep(2)\n",
        "    for i in range(0,len(allFiles)):\n",
        "        if i in range(int(val_num*2),len(allFiles)):\n",
        "            tr_num=tr_num+1\n",
        "            entry_file= allFiles[i]\n",
        "            if \".jpg\" in entry_file:\n",
        "                shutil.move(entry_file, \"train\")\n",
        "                shutil.move(str(entry_file).replace(\".jpg\",\".txt\"), \"train\")\n",
        "            elif \".jpeg\" in entry_file:\n",
        "                shutil.move(entry_file, \"train\")\n",
        "                shutil.move(str(entry_file).replace(\".jpeg\",\".txt\"), \"train\")\n",
        "        os.chdir(\"train\")\n",
        "        for filename in os.listdir():\n",
        "            if \".jpg\" in filename:\n",
        "                shutil.move(filename,\"images\")\n",
        "            elif \".txt\" in filename:\n",
        "                shutil.move(filename,\"labels\")\n",
        "            elif \".jpeg\" in filename:\n",
        "                shutil.move(filename,\"images\")\n",
        "        os.chdir(\"..\")\n",
        "    for file in os.listdir():\n",
        "        if \".txt\" in file:\n",
        "            os.remove(file)\n",
        "    print(\"Dataset Successfully Sorted\")"
      ],
      "metadata": {
        "id": "1eZXsFAsMz4R",
        "colab": {
          "base_uri": "https://localhost:8080/"
        },
        "outputId": "a89d73a8-d3d3-4d08-81bf-49101f214f1f"
      },
      "execution_count": 10,
      "outputs": [
        {
          "output_type": "stream",
          "name": "stdout",
          "text": [
            "/content\n",
            "appending files to test folder: \n",
            " /content/BurnsDataset\n",
            "te_num=61\n",
            "appending files to validation folder: \n",
            " /content/BurnsDataset\n",
            "va_num=305\n",
            "appending files to train folder: \n",
            " /content/BurnsDataset\n",
            "Dataset Successfully Sorted\n"
          ]
        }
      ]
    },
    {
      "cell_type": "markdown",
      "source": [
        "#**Defining Custom Architecture and defining data pathways**"
      ],
      "metadata": {
        "id": "ibcfknxXHcBl"
      }
    },
    {
      "cell_type": "markdown",
      "source": [
        "Creating Custom Yaml file for data paths"
      ],
      "metadata": {
        "id": "8X7nmmA8TTIH"
      }
    },
    {
      "cell_type": "code",
      "source": [
        "\n",
        "while os.getcwd()!=\"/content\":\n",
        "  os.chdir(\"..\")\n",
        "print(os.getcwd())\n",
        "if os.path.exists(\"yolov5/data/custom.yaml\") == False:\n",
        "    print(\"Creating custom yaml file:\")\n",
        "    time.sleep(2)\n",
        "    with open('custom.yaml', 'w+') as file:\n",
        "        file.write(\n",
        "\"\"\"\n",
        "path: ../BurnsDataset\n",
        "train: train/images\n",
        "test: test/images\n",
        "val: val/images\n",
        "nc: 3\n",
        "names: [\"1st Degree\",\"2nd Degree\",\"3rd Degree\"]\n",
        "\"\"\"\n",
        "        )\n",
        "        file.close()\n",
        "    shutil.move(\"custom.yaml\",\"yolov5/data/custom.yaml\")"
      ],
      "metadata": {
        "id": "defa4rhqJXo2",
        "colab": {
          "base_uri": "https://localhost:8080/"
        },
        "outputId": "9458c2d1-5c81-4239-a434-7800346842be"
      },
      "execution_count": 11,
      "outputs": [
        {
          "output_type": "stream",
          "name": "stdout",
          "text": [
            "/content\n",
            "Creating custom yaml file:\n"
          ]
        }
      ]
    },
    {
      "cell_type": "markdown",
      "source": [
        "Defining Custom Architecture in a yaml file"
      ],
      "metadata": {
        "id": "l2mfgGTFILW-"
      }
    },
    {
      "cell_type": "code",
      "source": [
        "num_classes = 3\n",
        "##write custom model .yaml\n",
        "with open('custom_yolov5s.yaml', 'w') as f:\n",
        "  # parameters\n",
        "  f.write('nc: ' + str(num_classes) + '\\n')\n",
        "  #f.write('nc: ' + str(len(class_labels)) + '\\n')\n",
        "  f.write('depth_multiple: 0.33'  + '\\n') # model depth multiple\n",
        "  f.write('width_multiple: 0.50'  + '\\n')  # layer channel multiple\n",
        "  f.write('\\n')\n",
        "  f.write('anchors:' + '\\n')\n",
        "  f.write('  - [10,13, 16,30, 33,23] ' + '\\n')\n",
        "  f.write('  - [30,61, 62,45, 59,119]' + '\\n')\n",
        "  f.write('  - [116,90, 156,198, 373,326] ' + '\\n')\n",
        "  f.write('\\n')\n",
        "\n",
        "  f.write('backbone:' + '\\n')\n",
        "  f.write('  [[-1, 1, Focus, [64, 3]],' + '\\n') #0-P1/2\n",
        "  f.write('   [-1, 1, Conv, [128, 3, 2]],' + '\\n')# 1-P2/4\n",
        "  f.write('   [-1, 3, BottleneckCSP, [128]],' + '\\n')\n",
        "  f.write('   [-1, 1, Conv, [256, 3, 2]],' + '\\n')# 3-P3/8\n",
        "  f.write('   [-1, 9, BottleneckCSP, [128]],' + '\\n')\n",
        "  f.write('   [-1, 1, Conv, [512, 3, 2]], ' + '\\n')# 5-P4/16\n",
        "  f.write('   [-1, 9, BottleneckCSP, [256]],' + '\\n')\n",
        "  f.write('   [-1, 1, Conv, [1024, 3, 2]],' + '\\n')# 7-P5/32\n",
        "  f.write('   [-1, 1, SPP, [1024, [5, 9, 13]]],' + '\\n')\n",
        "  f.write('   [-1, 3, BottleneckCSP, [1024,False]],' + '\\n') # 9\n",
        "  f.write('  ]' + '\\n')\n",
        "  f.write('\\n')\n",
        "\n",
        "  f.write('head:'  + '\\n')\n",
        "  f.write('  [[-1, 1, Conv, [512, 1, 1]],'  + '\\n')\n",
        "  f.write('   [-1, 1, nn.Upsample, [None, 2,\\'nearest\\']],' + '\\n')\n",
        "  f.write('   [[-1, 6], 1, Concat, [1]],' + '\\n')#Cat Backbone P4\n",
        "  f.write('   [-1, 3, BottleneckCSP, [512, False]],' + '\\n')# 13\n",
        "  f.write('\\n' )\n",
        "  f.write('   [-1, 1, Conv, [256, 1, 1]],'  + '\\n')\n",
        "  f.write('   [-1, 1, nn.Upsample, [None, 2, \\'nearest\\']],' + '\\n')\n",
        "  f.write('   [[-1, 4], 1, Concat, [1]],' + '\\n')# cat backbone P3\n",
        "  f.write('   [-1, 3, BottleneckCSP, [256, False]],' + '\\n') # 17 (P3/8-small)\n",
        "  f.write('\\n' )\n",
        "  f.write('   [-1, 1, Conv, [256, 3, 2]],' + '\\n')\n",
        "  f.write('   [[-1, 14], 1, Concat, [1]],' + '\\n')# cat head P4\n",
        "  f.write('   [-1, 3, BottleneckCSP, [512, False]],' + '\\n')# 23 (P5/32-large)\n",
        "  f.write('\\n' )\n",
        "  f.write('   [-1, 1, Conv, [512, 3, 2]],' + '\\n')\n",
        "  f.write('   [[-1, 10], 1, Concat, [1]],' + '\\n')# cat head P5\n",
        "  f.write('   [-1, 3, BottleneckCSP, [1024, False]],' + '\\n')# 23 (P5/32-large)\n",
        "  f.write('\\n' )\n",
        "  f.write('   [[17, 20, 23], 1, Detect, [nc, anchors]],' + '\\n')# Detect(P3, P4, P5)\n",
        "  f.write('  ]' + '\\n')\n",
        "\n",
        "print('custom model config written!')\n",
        "shutil.move(\"custom_yolov5s.yaml\", \"/content/yolov5/models/custom_yolov5s.yaml\")"
      ],
      "metadata": {
        "id": "mf7Ix_YuPCG8",
        "colab": {
          "base_uri": "https://localhost:8080/",
          "height": 53
        },
        "outputId": "54542564-5335-4a68-fc64-2c069479e172"
      },
      "execution_count": 12,
      "outputs": [
        {
          "output_type": "stream",
          "name": "stdout",
          "text": [
            "custom model config written!\n"
          ]
        },
        {
          "output_type": "execute_result",
          "data": {
            "text/plain": [
              "'/content/yolov5/models/custom_yolov5s.yaml'"
            ],
            "application/vnd.google.colaboratory.intrinsic+json": {
              "type": "string"
            }
          },
          "metadata": {},
          "execution_count": 12
        }
      ]
    },
    {
      "cell_type": "code",
      "source": [
        "print(os.getcwd())"
      ],
      "metadata": {
        "id": "GuGZ2QiAYKAR"
      },
      "execution_count": null,
      "outputs": []
    },
    {
      "cell_type": "code",
      "source": [
        "#Changing Directory to facilitate training\n",
        "while os.getcwd()!=\"/content\":\n",
        "  os.chdir(\"..\")\n",
        "os.chdir(\"yolov5\")\n",
        "print(os.getcwd())"
      ],
      "metadata": {
        "id": "guAv2vtPx31D",
        "colab": {
          "base_uri": "https://localhost:8080/"
        },
        "outputId": "1dae5ded-54d9-4b16-8cae-ad1ee8ad6167"
      },
      "execution_count": 13,
      "outputs": [
        {
          "output_type": "stream",
          "name": "stdout",
          "text": [
            "/content/yolov5\n"
          ]
        }
      ]
    },
    {
      "cell_type": "markdown",
      "source": [
        "# **Training Model**"
      ],
      "metadata": {
        "id": "WuYmGiqlIfoF"
      }
    },
    {
      "cell_type": "code",
      "source": [
        "#Training custom model\n",
        "!python train.py --data custom.yaml --cfg custom_yolov5s.yaml --weights '' --batch-size 32 --epochs 10 --img 640 --cache "
      ],
      "metadata": {
        "id": "7oa-iPKvXhWU"
      },
      "execution_count": null,
      "outputs": []
    },
    {
      "cell_type": "code",
      "source": [
        "#Hyperparameter optimisation of custom model (must be done after initial training has completed)\n",
        "!python train.py --data custom.yaml --resume /content/yolov5/runs/train/exp5/weights/last.pt --batch-size 16 --epochs 1 --img 640 --cache --hyp hyp.scratch-high.yaml --evolve"
      ],
      "metadata": {
        "id": "pxMCVyCvtPi5"
      },
      "execution_count": null,
      "outputs": []
    },
    {
      "cell_type": "code",
      "source": [
        "#Training using pre-trained weights from YOLOV5 repository\n",
        "# !python train.py --data custom.yaml --weights yolov5s.pt --batch-size 32 --epochs 100 --img 640 --cache "
      ],
      "metadata": {
        "id": "5GP8hVTRsQEu"
      },
      "execution_count": null,
      "outputs": []
    },
    {
      "cell_type": "markdown",
      "source": [
        "# **Testing model**"
      ],
      "metadata": {
        "id": "fsv_psZwIoGK"
      }
    },
    {
      "cell_type": "markdown",
      "source": [
        "Detecting through webcam. Note: unavailable on colab, must download weights and yolov5 repository locally."
      ],
      "metadata": {
        "id": "fY-XAdCTPzvS"
      }
    },
    {
      "cell_type": "code",
      "source": [
        "#!python detect.py --source 0 --weights runs/train/exp/weights/best.pt"
      ],
      "metadata": {
        "id": "i3dh0YWwcNCO"
      },
      "execution_count": null,
      "outputs": []
    },
    {
      "cell_type": "markdown",
      "source": [
        "Detecting a custom image: Image must be downloaded first"
      ],
      "metadata": {
        "id": "xI5FfSAkQxAm"
      }
    },
    {
      "cell_type": "code",
      "source": [
        "if os.path.exists(\"/content/yolov5/Test_images\")==False:\n",
        "  os.mkdir(\"Test_images\")\n",
        "  os.chdir(\"Test_images\")\n",
        "  from google.colab import files\n",
        "  files.upload()\n",
        "  for file in os.listdir():\n",
        "    os.rename(file,\"test_img.jpg\")\n",
        "os.chdir(\"/content/yolov5\")\n",
        "!python detect.py --source /content/yolov5/Test_images/test_img.jpg --weights runs/train/exp/weights/best.pt\n",
        "shutil.rmtree(\"/content/yolov5/Test_images\")"
      ],
      "metadata": {
        "colab": {
          "base_uri": "https://localhost:8080/",
          "height": 232
        },
        "id": "a5Fy4V2HQEN-",
        "outputId": "13454663-c5d8-46bc-8b7a-8a0113c217db"
      },
      "execution_count": 38,
      "outputs": [
        {
          "output_type": "display_data",
          "data": {
            "text/plain": [
              "<IPython.core.display.HTML object>"
            ],
            "text/html": [
              "\n",
              "     <input type=\"file\" id=\"files-cc69397d-55f8-4be0-a12f-f138e11e7d68\" name=\"files[]\" multiple disabled\n",
              "        style=\"border:none\" />\n",
              "     <output id=\"result-cc69397d-55f8-4be0-a12f-f138e11e7d68\">\n",
              "      Upload widget is only available when the cell has been executed in the\n",
              "      current browser session. Please rerun this cell to enable.\n",
              "      </output>\n",
              "      <script>// Copyright 2017 Google LLC\n",
              "//\n",
              "// Licensed under the Apache License, Version 2.0 (the \"License\");\n",
              "// you may not use this file except in compliance with the License.\n",
              "// You may obtain a copy of the License at\n",
              "//\n",
              "//      http://www.apache.org/licenses/LICENSE-2.0\n",
              "//\n",
              "// Unless required by applicable law or agreed to in writing, software\n",
              "// distributed under the License is distributed on an \"AS IS\" BASIS,\n",
              "// WITHOUT WARRANTIES OR CONDITIONS OF ANY KIND, either express or implied.\n",
              "// See the License for the specific language governing permissions and\n",
              "// limitations under the License.\n",
              "\n",
              "/**\n",
              " * @fileoverview Helpers for google.colab Python module.\n",
              " */\n",
              "(function(scope) {\n",
              "function span(text, styleAttributes = {}) {\n",
              "  const element = document.createElement('span');\n",
              "  element.textContent = text;\n",
              "  for (const key of Object.keys(styleAttributes)) {\n",
              "    element.style[key] = styleAttributes[key];\n",
              "  }\n",
              "  return element;\n",
              "}\n",
              "\n",
              "// Max number of bytes which will be uploaded at a time.\n",
              "const MAX_PAYLOAD_SIZE = 100 * 1024;\n",
              "\n",
              "function _uploadFiles(inputId, outputId) {\n",
              "  const steps = uploadFilesStep(inputId, outputId);\n",
              "  const outputElement = document.getElementById(outputId);\n",
              "  // Cache steps on the outputElement to make it available for the next call\n",
              "  // to uploadFilesContinue from Python.\n",
              "  outputElement.steps = steps;\n",
              "\n",
              "  return _uploadFilesContinue(outputId);\n",
              "}\n",
              "\n",
              "// This is roughly an async generator (not supported in the browser yet),\n",
              "// where there are multiple asynchronous steps and the Python side is going\n",
              "// to poll for completion of each step.\n",
              "// This uses a Promise to block the python side on completion of each step,\n",
              "// then passes the result of the previous step as the input to the next step.\n",
              "function _uploadFilesContinue(outputId) {\n",
              "  const outputElement = document.getElementById(outputId);\n",
              "  const steps = outputElement.steps;\n",
              "\n",
              "  const next = steps.next(outputElement.lastPromiseValue);\n",
              "  return Promise.resolve(next.value.promise).then((value) => {\n",
              "    // Cache the last promise value to make it available to the next\n",
              "    // step of the generator.\n",
              "    outputElement.lastPromiseValue = value;\n",
              "    return next.value.response;\n",
              "  });\n",
              "}\n",
              "\n",
              "/**\n",
              " * Generator function which is called between each async step of the upload\n",
              " * process.\n",
              " * @param {string} inputId Element ID of the input file picker element.\n",
              " * @param {string} outputId Element ID of the output display.\n",
              " * @return {!Iterable<!Object>} Iterable of next steps.\n",
              " */\n",
              "function* uploadFilesStep(inputId, outputId) {\n",
              "  const inputElement = document.getElementById(inputId);\n",
              "  inputElement.disabled = false;\n",
              "\n",
              "  const outputElement = document.getElementById(outputId);\n",
              "  outputElement.innerHTML = '';\n",
              "\n",
              "  const pickedPromise = new Promise((resolve) => {\n",
              "    inputElement.addEventListener('change', (e) => {\n",
              "      resolve(e.target.files);\n",
              "    });\n",
              "  });\n",
              "\n",
              "  const cancel = document.createElement('button');\n",
              "  inputElement.parentElement.appendChild(cancel);\n",
              "  cancel.textContent = 'Cancel upload';\n",
              "  const cancelPromise = new Promise((resolve) => {\n",
              "    cancel.onclick = () => {\n",
              "      resolve(null);\n",
              "    };\n",
              "  });\n",
              "\n",
              "  // Wait for the user to pick the files.\n",
              "  const files = yield {\n",
              "    promise: Promise.race([pickedPromise, cancelPromise]),\n",
              "    response: {\n",
              "      action: 'starting',\n",
              "    }\n",
              "  };\n",
              "\n",
              "  cancel.remove();\n",
              "\n",
              "  // Disable the input element since further picks are not allowed.\n",
              "  inputElement.disabled = true;\n",
              "\n",
              "  if (!files) {\n",
              "    return {\n",
              "      response: {\n",
              "        action: 'complete',\n",
              "      }\n",
              "    };\n",
              "  }\n",
              "\n",
              "  for (const file of files) {\n",
              "    const li = document.createElement('li');\n",
              "    li.append(span(file.name, {fontWeight: 'bold'}));\n",
              "    li.append(span(\n",
              "        `(${file.type || 'n/a'}) - ${file.size} bytes, ` +\n",
              "        `last modified: ${\n",
              "            file.lastModifiedDate ? file.lastModifiedDate.toLocaleDateString() :\n",
              "                                    'n/a'} - `));\n",
              "    const percent = span('0% done');\n",
              "    li.appendChild(percent);\n",
              "\n",
              "    outputElement.appendChild(li);\n",
              "\n",
              "    const fileDataPromise = new Promise((resolve) => {\n",
              "      const reader = new FileReader();\n",
              "      reader.onload = (e) => {\n",
              "        resolve(e.target.result);\n",
              "      };\n",
              "      reader.readAsArrayBuffer(file);\n",
              "    });\n",
              "    // Wait for the data to be ready.\n",
              "    let fileData = yield {\n",
              "      promise: fileDataPromise,\n",
              "      response: {\n",
              "        action: 'continue',\n",
              "      }\n",
              "    };\n",
              "\n",
              "    // Use a chunked sending to avoid message size limits. See b/62115660.\n",
              "    let position = 0;\n",
              "    do {\n",
              "      const length = Math.min(fileData.byteLength - position, MAX_PAYLOAD_SIZE);\n",
              "      const chunk = new Uint8Array(fileData, position, length);\n",
              "      position += length;\n",
              "\n",
              "      const base64 = btoa(String.fromCharCode.apply(null, chunk));\n",
              "      yield {\n",
              "        response: {\n",
              "          action: 'append',\n",
              "          file: file.name,\n",
              "          data: base64,\n",
              "        },\n",
              "      };\n",
              "\n",
              "      let percentDone = fileData.byteLength === 0 ?\n",
              "          100 :\n",
              "          Math.round((position / fileData.byteLength) * 100);\n",
              "      percent.textContent = `${percentDone}% done`;\n",
              "\n",
              "    } while (position < fileData.byteLength);\n",
              "  }\n",
              "\n",
              "  // All done.\n",
              "  yield {\n",
              "    response: {\n",
              "      action: 'complete',\n",
              "    }\n",
              "  };\n",
              "}\n",
              "\n",
              "scope.google = scope.google || {};\n",
              "scope.google.colab = scope.google.colab || {};\n",
              "scope.google.colab._files = {\n",
              "  _uploadFiles,\n",
              "  _uploadFilesContinue,\n",
              "};\n",
              "})(self);\n",
              "</script> "
            ]
          },
          "metadata": {}
        },
        {
          "output_type": "stream",
          "name": "stdout",
          "text": [
            "Saving img182.jpg to img182.jpg\n",
            "\u001b[34m\u001b[1mdetect: \u001b[0mweights=['runs/train/exp/weights/best.pt'], source=/content/yolov5/Test_images/test_img.jpg, data=data/coco128.yaml, imgsz=[640, 640], conf_thres=0.25, iou_thres=0.45, max_det=1000, device=, view_img=False, save_txt=False, save_conf=False, save_crop=False, nosave=False, classes=None, agnostic_nms=False, augment=False, visualize=False, update=False, project=runs/detect, name=exp, exist_ok=False, line_thickness=3, hide_labels=False, hide_conf=False, half=False, dnn=False\n",
            "YOLOv5 🚀 v6.2-155-g489920a Python-3.7.14 torch-1.12.1+cu113 CUDA:0 (Tesla T4, 15110MiB)\n",
            "\n",
            "Fusing layers... \n",
            "custom_YOLOv5s summary: 182 layers, 5893864 parameters, 0 gradients\n",
            "image 1/1 /content/yolov5/Test_images/test_img.jpg: 480x640 Done. (0.013s)\n",
            "Speed: 0.5ms pre-process, 13.4ms inference, 0.3ms NMS per image at shape (1, 3, 640, 640)\n",
            "Results saved to \u001b[1mruns/detect/exp8\u001b[0m\n"
          ]
        }
      ]
    }
  ]
}
{
  "nbformat": 4,
  "nbformat_minor": 0,
  "metadata": {
    "colab": {
      "provenance": [],
      "collapsed_sections": [],
      "authorship_tag": "ABX9TyN0pDS/vhZ4x2qX0iCQz78E",
      "include_colab_link": true
    },
    "kernelspec": {
      "name": "python3",
      "display_name": "Python 3"
    },
    "language_info": {
      "name": "python"
    },
    "accelerator": "TPU",
    "gpuClass": "standard"
  },
  "cells": [
    {
      "cell_type": "markdown",
      "metadata": {
        "id": "view-in-github",
        "colab_type": "text"
      },
      "source": [
        "<a href=\"https://colab.research.google.com/github/KieranPereira/SkinBurnClassification/blob/main/Studentship_Final_Code.ipynb\" target=\"_parent\"><img src=\"https://colab.research.google.com/assets/colab-badge.svg\" alt=\"Open In Colab\"/></a>"
      ]
    },
    {
      "cell_type": "code",
      "execution_count": null,
      "metadata": {
        "colab": {
          "base_uri": "https://localhost:8080/"
        },
        "id": "wlVLI6B38FIU",
        "outputId": "fe69cd4e-cf23-45d2-eccb-6962e72a18b5"
      },
      "outputs": [
        {
          "output_type": "stream",
          "name": "stdout",
          "text": [
            "Looking in indexes: https://pypi.org/simple, https://us-python.pkg.dev/colab-wheels/public/simple/\n",
            "Requirement already satisfied: kaggle in /usr/local/lib/python3.7/dist-packages (1.5.12)\n",
            "Requirement already satisfied: urllib3 in /usr/local/lib/python3.7/dist-packages (from kaggle) (1.24.3)\n",
            "Requirement already satisfied: tqdm in /usr/local/lib/python3.7/dist-packages (from kaggle) (4.64.0)\n",
            "Requirement already satisfied: six>=1.10 in /usr/local/lib/python3.7/dist-packages (from kaggle) (1.15.0)\n",
            "Requirement already satisfied: python-slugify in /usr/local/lib/python3.7/dist-packages (from kaggle) (6.1.2)\n",
            "Requirement already satisfied: certifi in /usr/local/lib/python3.7/dist-packages (from kaggle) (2022.6.15)\n",
            "Requirement already satisfied: requests in /usr/local/lib/python3.7/dist-packages (from kaggle) (2.23.0)\n",
            "Requirement already satisfied: python-dateutil in /usr/local/lib/python3.7/dist-packages (from kaggle) (2.8.2)\n",
            "Requirement already satisfied: text-unidecode>=1.3 in /usr/local/lib/python3.7/dist-packages (from python-slugify->kaggle) (1.3)\n",
            "Requirement already satisfied: idna<3,>=2.5 in /usr/local/lib/python3.7/dist-packages (from requests->kaggle) (2.10)\n",
            "Requirement already satisfied: chardet<4,>=3.0.2 in /usr/local/lib/python3.7/dist-packages (from requests->kaggle) (3.0.4)\n"
          ]
        }
      ],
      "source": [
        "#Installing Dependencies\n",
        "import torch\n",
        "import os\n",
        "import shutil\n",
        "import zipfile\n",
        "import time\n",
        "import yaml\n",
        "%pip install kaggle"
      ]
    },
    {
      "cell_type": "code",
      "source": [
        "#Cloning yolov5 repository and installing additional dependencies\n",
        "if os.path.exists(\"yolov5\")==False:\n",
        "\n",
        "    print(\"preparing to clone yolov5 repository\")\n",
        "    time.sleep(1)\n",
        "\n",
        "    !git clone https://github.com/ultralytics/yolov5\n",
        "    os.chdir(\"yolov5\")\n",
        "    #Installing Dependencies\n",
        "\n",
        "    print(\"preparing to install dependencies\")\n",
        "    time.sleep(1)\n",
        "\n",
        "    %pip install -r requirements.txt\n",
        "    os.chdir(\"..\")\n"
      ],
      "metadata": {
        "id": "d2yYNZNl_PTA"
      },
      "execution_count": null,
      "outputs": []
    },
    {
      "cell_type": "code",
      "source": [
        "#Creating dataset paths\n",
        "if os.path.exists(\"BurnsDataset\")==False:\n",
        "    \n",
        "    print(\"preparing to create dataset paths\")\n",
        "    \n",
        "  \n",
        "    os.makedirs(\"BurnsDataset\")\n",
        "    os.chdir(\"BurnsDataset\")\n",
        "    os.makedirs(\"test/images\")\n",
        "    os.makedirs(\"test/labels\")\n",
        "    os.makedirs(\"train/images\")\n",
        "    os.makedirs(\"train/labels\")\n",
        "    os.makedirs(\"val/images\")\n",
        "    os.makedirs(\"val/labels\")\n",
        "    os.chdir(\"..\")"
      ],
      "metadata": {
        "colab": {
          "base_uri": "https://localhost:8080/"
        },
        "id": "GiodCHFUBS8x",
        "outputId": "b2d18b48-509a-4ed7-c9f1-6d83daf41370"
      },
      "execution_count": null,
      "outputs": [
        {
          "output_type": "stream",
          "name": "stdout",
          "text": [
            "preparing to create dataset paths\n"
          ]
        }
      ]
    },
    {
      "cell_type": "code",
      "source": [
        "while os.getcwd()!=\"/content\":\n",
        "  os.chdir(\"..\")\n",
        "print(os.getcwd())"
      ],
      "metadata": {
        "colab": {
          "base_uri": "https://localhost:8080/"
        },
        "id": "S9w2w5NKCzzR",
        "outputId": "75fc778a-f550-4840-a3c8-e48dfde24ca7"
      },
      "execution_count": null,
      "outputs": [
        {
          "output_type": "stream",
          "name": "stdout",
          "text": [
            "/content\n"
          ]
        }
      ]
    },
    {
      "cell_type": "code",
      "source": [
        "#Downloading Dataset from kaggle.com. Requires Kaggle API token to be downloaded from website (you must create an account for this)\n",
        "if os.path.exists(\"..\\.kaggle\\kaggle.json\")==False:\n",
        "    \n",
        "    print(\"preparing to download dataset\")\n",
        "    time.sleep(2)\n",
        "    !mkdir ~/.kaggle\n",
        "    from google.colab import files\n",
        "    files.upload()\n",
        "    shutil.move(\"kaggle.json\",\"../root/.kaggle/kaggle.json\")\n",
        "    !chmod 600 ~/.kaggle/kaggle.json\n",
        "    !kaggle datasets download -d shubhambaid/skin-burn-dataset\n",
        "    with zipfile.ZipFile(\"skin-burn-dataset.zip\",\"r\") as zip_ref:\n",
        "        zip_ref.extractall(\"BurnsDataset\")\n",
        "    os.remove(\"skin-burn-dataset.zip\")"
      ],
      "metadata": {
        "colab": {
          "resources": {
            "http://localhost:8080/nbextensions/google.colab/files.js": {
              "data": "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",
              "ok": true,
              "headers": [
                [
                  "content-type",
                  "application/javascript"
                ]
              ],
              "status": 200,
              "status_text": ""
            }
          },
          "base_uri": "https://localhost:8080/",
          "height": 142
        },
        "id": "Xs78t6OtCBRC",
        "outputId": "514ece8d-65c0-4116-cb48-1dd0a600ed3c"
      },
      "execution_count": null,
      "outputs": [
        {
          "output_type": "stream",
          "name": "stdout",
          "text": [
            "preparing to download dataset\n"
          ]
        },
        {
          "output_type": "display_data",
          "data": {
            "text/plain": [
              "<IPython.core.display.HTML object>"
            ],
            "text/html": [
              "\n",
              "     <input type=\"file\" id=\"files-eb2c9f47-eb23-4f75-b772-37cebe43d16e\" name=\"files[]\" multiple disabled\n",
              "        style=\"border:none\" />\n",
              "     <output id=\"result-eb2c9f47-eb23-4f75-b772-37cebe43d16e\">\n",
              "      Upload widget is only available when the cell has been executed in the\n",
              "      current browser session. Please rerun this cell to enable.\n",
              "      </output>\n",
              "      <script src=\"/nbextensions/google.colab/files.js\"></script> "
            ]
          },
          "metadata": {}
        },
        {
          "output_type": "stream",
          "name": "stdout",
          "text": [
            "Saving kaggle.json to kaggle.json\n",
            "Downloading skin-burn-dataset.zip to /content\n",
            " 30% 5.00M/16.6M [00:00<00:00, 37.0MB/s]\n",
            "100% 16.6M/16.6M [00:00<00:00, 84.8MB/s]\n"
          ]
        }
      ]
    },
    {
      "cell_type": "code",
      "source": [
        "    #Dataset formatting\n",
        "    os.chdir(\"BurnsDataset\")\n",
        "    print(\"preparing to format data\")\n",
        "    time.sleep(5)\n",
        "    #Removing unlabelled images from dataset\n",
        "    #Counting number of images in new dataset\n",
        "    number_img = 0\n",
        "    text_img =0\n",
        "    for i in range (0,1441):\n",
        "        string1= str(i)\n",
        "        if os.path.exists(\"img\"+string1+\".jpg\")==True:\n",
        "            number_img=number_img+1\n",
        "    print(\"There are {} images in your dataset\".format(string1))\n",
        "    test_ratio=float(input(\"Please enter the ratio for your test data (note test, val, train data must sum to 10)\"))\n",
        "    val_ratio=float(input(\"Please enter the ratio for your val data (note test, val, train data must sum to 10)\"))\n",
        "    train_ratio=float(input(\"Please enter the ratio for your train data (note test, val, train data must sum to 10)\"))\n",
        "    while test_ratio+val_ratio+train_ratio !=10:\n",
        "        print(\" test, val, train data must sum to 10\")\n",
        "        test_ratio=float(input(\"Please enter the ratio for your test data (note test, val, train data must sum to 10)\"))\n",
        "        val_ratio=float(input(\"Please enter the ratio for your val data (note test, val, train data must sum to 10)\"))\n",
        "        train_ratio=float(input(\"Please enter the ratio for your train data (note test, val, train data must sum to 10)\"))\n",
        "    print(\"splitting into \" +str(test_ratio)+\":\"+str(val_ratio)+\":\" +str(train_ratio)+\" for test:val:train\")\n",
        "    time.sleep(2)\n",
        "    test_num= number_img//(float(1/(test_ratio/10)))\n",
        "    val_num= number_img//(float(1/(val_ratio/10)))\n",
        "    train_num= number_img//(float(1/(train_ratio/10)))\n",
        "    # Creating a function that creates a list of files in a directory\n",
        "    while os.getcwd()!=\"/content\":\n",
        "      os.chdir(\"..\")\n",
        "    print(os.getcwd())\n",
        "# create a list of files in burns dataset\n",
        "# names in the given directory \n",
        "    allFiles=[]\n",
        "    for entry in os.listdir(\"BurnsDataset\"):\n",
        "        if \".jpg\" in entry:\n",
        "            allFiles.append(entry)\n",
        "        if \".jpeg\" in entry:\n",
        "            allFiles.append(entry)\n",
        "    with open(\"allfiles.txt\",\"w\") as w:\n",
        "        w.write(str(allFiles))\n",
        "    w.close\n",
        "    te_num=0\n",
        "    va_num=0\n",
        "    tr_num=0\n",
        "    os.chdir(\"BurnsDataset\")\n",
        "    print(\"appending files to test folder: \\n {}\".format(os.getcwd()))\n",
        "    time.sleep(5)\n",
        "    for i in range(0,len(allFiles)):\n",
        "        if i in range(0,int(test_num)):\n",
        "            te_num=te_num+1\n",
        "            entry_file= allFiles[i]\n",
        "            if \".jpg\" in entry_file:\n",
        "                shutil.move(entry_file, \"test\")\n",
        "                shutil.move(str(entry_file).replace(\".jpg\",\".txt\"), \"test\")\n",
        "            elif \".jpeg\" in entry_file:\n",
        "                shutil.move(entry_file, \"test\")\n",
        "                shutil.move(str(entry_file).replace(\".jpeg\",\".txt\"),\"test\")\n",
        "        os.chdir(\"test\")\n",
        "        for filename in os.listdir():\n",
        "            if \".jpg\" in filename:\n",
        "                shutil.move(filename,\"images\")\n",
        "            elif \".txt\" in filename:\n",
        "                shutil.move(filename,\"labels\")\n",
        "            elif \".jpeg\" in filename:\n",
        "                shutil.move(filename,\"images\")\n",
        "        os.chdir(\"..\")\n",
        "    print(\"te_num={}\".format(te_num))\n",
        "    print(\"appending files to validation folder: \\n {}\".format(os.getcwd()))\n",
        "    time.sleep(5)\n",
        "    for i in range(0,len(allFiles)):\n",
        "        if i in range(int(test_num),int(val_num*2)):\n",
        "            va_num=va_num+1\n",
        "            entry_file= allFiles[i]\n",
        "            if \".jpg\" in entry_file:\n",
        "                shutil.move(entry_file, \"val\")\n",
        "                shutil.move(str(entry_file).replace(\".jpg\",\".txt\"), \"val\")\n",
        "            elif \".jpeg\" in entry_file:\n",
        "                shutil.move(entry_file, \"val\")\n",
        "                shutil.move(str(entry_file).replace(\".jpeg\",\".txt\"), \"val\")\n",
        "        os.chdir(\"val\")\n",
        "        for filename in os.listdir():\n",
        "            if \".jpg\" in filename:\n",
        "                shutil.move(filename,\"images\")\n",
        "            elif \".txt\" in filename:\n",
        "                shutil.move(filename,\"labels\")\n",
        "            elif \".jpeg\" in filename:\n",
        "                shutil.move(filename,\"images\")\n",
        "        os.chdir(\"..\")\n",
        "    print(\"va_num={}\".format(va_num))\n",
        "    print(\"appending files to train folder: \\n {}\".format(os.getcwd()))\n",
        "    time.sleep(5)\n",
        "    for i in range(0,len(allFiles)):\n",
        "        if i in range(int(val_num*2),len(allFiles)):\n",
        "            tr_num=tr_num+1\n",
        "            entry_file= allFiles[i]\n",
        "            if \".jpg\" in entry_file:\n",
        "                shutil.move(entry_file, \"train\")\n",
        "                shutil.move(str(entry_file).replace(\".jpg\",\".txt\"), \"train\")\n",
        "            elif \".jpeg\" in entry_file:\n",
        "                shutil.move(entry_file, \"train\")\n",
        "                shutil.move(str(entry_file).replace(\".jpeg\",\".txt\"), \"train\")\n",
        "        os.chdir(\"train\")\n",
        "        for filename in os.listdir():\n",
        "            if \".jpg\" in filename:\n",
        "                shutil.move(filename,\"images\")\n",
        "            elif \".txt\" in filename:\n",
        "                shutil.move(filename,\"labels\")\n",
        "            elif \".jpeg\" in filename:\n",
        "                shutil.move(filename,\"images\")\n",
        "        os.chdir(\"..\")\n",
        "    for file in os.listdir():\n",
        "        if \".txt\" in file:\n",
        "            os.remove(file)\n",
        "    print(\"Dataset Successfully Sorted\")"
      ],
      "metadata": {
        "colab": {
          "base_uri": "https://localhost:8080/"
        },
        "id": "n-gcSaZYFlZp",
        "outputId": "a7071801-b25d-48ef-a180-5280619ef05f"
      },
      "execution_count": null,
      "outputs": [
        {
          "output_type": "stream",
          "name": "stdout",
          "text": [
            "preparing to format data\n",
            "There are 1440 images in your dataset\n",
            "Please enter the ratio for your test data (note test, val, train data must sum to 10)0.5\n",
            "Please enter the ratio for your val data (note test, val, train data must sum to 10)1.5\n",
            "Please enter the ratio for your train data (note test, val, train data must sum to 10)8\n",
            "splitting into 0.5:1.5:8.0 for test:val:train\n",
            "/content\n",
            "appending files to test folder: \n",
            " /content/BurnsDataset\n",
            "te_num=61\n",
            "appending files to validation folder: \n",
            " /content/BurnsDataset\n",
            "va_num=305\n",
            "appending files to train folder: \n",
            " /content/BurnsDataset\n",
            "Dataset Successfully Sorted\n"
          ]
        }
      ]
    },
    {
      "cell_type": "code",
      "source": [
        "#Creating Custom Yaml file for data paths\n",
        "while os.getcwd()!=\"/content\":\n",
        "  os.chdir(\"..\")\n",
        "print(os.getcwd())\n",
        "if os.path.exists(\"yolov5/data/custom.yaml\") == False:\n",
        "    print(\"Creating custom yaml file:\")\n",
        "    time.sleep(2)\n",
        "    with open('custom.yaml', 'w+') as file:\n",
        "        file.write(\n",
        "\"\"\"\n",
        "path: ../BurnsDataset\n",
        "train: train/images\n",
        "test: test/images\n",
        "val: val/images\n",
        "nc: 3\n",
        "names: [\"1st Degree\",\"2nd Degree\",\"3rd Degree\"]\n",
        "\"\"\"\n",
        "        )\n",
        "        file.close()\n",
        "    shutil.move(\"custom.yaml\",\"yolov5/data/custom.yaml\")"
      ],
      "metadata": {
        "colab": {
          "base_uri": "https://localhost:8080/"
        },
        "id": "defa4rhqJXo2",
        "outputId": "b0540b70-f426-4752-d41c-ec771f698886"
      },
      "execution_count": null,
      "outputs": [
        {
          "output_type": "stream",
          "name": "stdout",
          "text": [
            "/content\n",
            "Creating custom yaml file:\n"
          ]
        }
      ]
    },
    {
      "cell_type": "code",
      "source": [
        "num_classes = 3\n",
        "##write custom model .yaml\n",
        "with open('custom_yolov5s.yaml', 'w') as f:\n",
        "  # parameters\n",
        "  f.write('nc: ' + str(num_classes) + '\\n')\n",
        "  #f.write('nc: ' + str(len(class_labels)) + '\\n')\n",
        "  f.write('depth_multiple: 0.33'  + '\\n') # model depth multiple\n",
        "  f.write('width_multiple: 0.50'  + '\\n')  # layer channel multiple\n",
        "  f.write('\\n')\n",
        "  f.write('anchors:' + '\\n')\n",
        "  f.write('  - [10,13, 16,30, 33,23] ' + '\\n')\n",
        "  f.write('  - [30,61, 62,45, 59,119]' + '\\n')\n",
        "  f.write('  - [116,90, 156,198, 373,326] ' + '\\n')\n",
        "  f.write('\\n')\n",
        "\n",
        "  f.write('backbone:' + '\\n')\n",
        "  f.write('  [[-1, 1, Focus, [64, 3]],' + '\\n') #0-P1/2\n",
        "  f.write('   [-1, 1, Conv, [128, 3, 2]],' + '\\n')# 1-P2/4\n",
        "  f.write('   [-1, 3, BottleneckCSP, [128]],' + '\\n')\n",
        "  f.write('   [-1, 1, Conv, [256, 3, 2]],' + '\\n')# 3-P3/8\n",
        "  f.write('   [-1, 9, BottleneckCSP, [128]],' + '\\n')\n",
        "  f.write('   [-1, 1, Conv, [512, 3, 2]], ' + '\\n')# 5-P4/16\n",
        "  f.write('   [-1, 9, BottleneckCSP, [256]],' + '\\n')\n",
        "  f.write('   [-1, 1, Conv, [1024, 3, 2]],' + '\\n')# 7-P5/32\n",
        "  f.write('   [-1, 1, SPP, [1024, [5, 9, 13]]],' + '\\n')\n",
        "  f.write('   [-1, 3, BottleneckCSP, [1024,False]],' + '\\n') # 9\n",
        "  f.write('  ]' + '\\n')\n",
        "  f.write('\\n')\n",
        "\n",
        "  f.write('head:'  + '\\n')\n",
        "  f.write('  [[-1, 1, Conv, [512, 1, 1]],'  + '\\n')\n",
        "  f.write('   [-1, 1, nn.Upsample, [None, 2,\\'nearest\\']],' + '\\n')\n",
        "  f.write('   [[-1, 6], 1, Concat, [1]],' + '\\n')#Cat Backbone P4\n",
        "  f.write('   [-1, 3, BottleneckCSP, [512, False]],' + '\\n')# 13\n",
        "  f.write('\\n' )\n",
        "  f.write('   [-1, 1, Conv, [256, 1, 1]],'  + '\\n')\n",
        "  f.write('   [-1, 1, nn.Upsample, [None, 2, \\'nearest\\']],' + '\\n')\n",
        "  f.write('   [[-1, 4], 1, Concat, [1]],' + '\\n')# cat backbone P3\n",
        "  f.write('   [-1, 3, BottleneckCSP, [256, False]],' + '\\n') # 17 (P3/8-small)\n",
        "  f.write('\\n' )\n",
        "  f.write('   [-1, 1, Conv, [256, 3, 2]],' + '\\n')\n",
        "  f.write('   [[-1, 14], 1, Concat, [1]],' + '\\n')# cat head P4\n",
        "  f.write('   [-1, 3, BottleneckCSP, [512, False]],' + '\\n')# 23 (P5/32-large)\n",
        "  f.write('\\n' )\n",
        "  f.write('   [-1, 1, Conv, [512, 3, 2]],' + '\\n')\n",
        "  f.write('   [[-1, 10], 1, Concat, [1]],' + '\\n')# cat head P5\n",
        "  f.write('   [-1, 3, BottleneckCSP, [1024, False]],' + '\\n')# 23 (P5/32-large)\n",
        "  f.write('\\n' )\n",
        "  f.write('   [[17, 20, 23], 1, Detect, [nc, anchors]],' + '\\n')# Detect(P3, P4, P5)\n",
        "  f.write('  ]' + '\\n')\n",
        "\n",
        "print('custom model config written!')\n",
        "shutil.move(\"custom_yolov5s.yaml\", \"/content/yolov5/models/custom_yolov5s.yaml\")"
      ],
      "metadata": {
        "colab": {
          "base_uri": "https://localhost:8080/"
        },
        "id": "mf7Ix_YuPCG8",
        "outputId": "10c385e3-3004-469c-d142-e5bf1c877fcd"
      },
      "execution_count": null,
      "outputs": [
        {
          "output_type": "stream",
          "name": "stdout",
          "text": [
            "custom model config written!\n"
          ]
        }
      ]
    },
    {
      "cell_type": "code",
      "source": [
        "print(os.getcwd())"
      ],
      "metadata": {
        "colab": {
          "base_uri": "https://localhost:8080/"
        },
        "id": "GuGZ2QiAYKAR",
        "outputId": "d7ae192f-5fd0-4796-ab2a-cdf31512627d"
      },
      "execution_count": null,
      "outputs": [
        {
          "output_type": "stream",
          "name": "stdout",
          "text": [
            "/content\n"
          ]
        }
      ]
    },
    {
      "cell_type": "code",
      "source": [
        "#Changing Directory to facilitate training\n",
        "while os.getcwd()!=\"/content\":\n",
        "  os.chdir(\"..\")\n",
        "os.chdir(\"yolov5\")\n",
        "print(os.getcwd())"
      ],
      "metadata": {
        "colab": {
          "base_uri": "https://localhost:8080/"
        },
        "id": "guAv2vtPx31D",
        "outputId": "d15a1ebf-734c-49e7-c75a-2e16778fb141"
      },
      "execution_count": null,
      "outputs": [
        {
          "output_type": "stream",
          "name": "stdout",
          "text": [
            "/content/yolov5\n"
          ]
        }
      ]
    },
    {
      "cell_type": "code",
      "source": [
        "#Training custom model\n",
        "!python train.py --data custom.yaml --cfg custom_yolov5s.yaml --weights '' --batch-size 64 --epochs 600 --img 640 --cache "
      ],
      "metadata": {
        "id": "7oa-iPKvXhWU"
      },
      "execution_count": null,
      "outputs": []
    },
    {
      "cell_type": "code",
      "source": [
        "#Hyperparameter optimisation of custom model (must be done after initial training has completed)\n",
        "!python train.py --data custom.yaml --resume /content/yolov5/runs/train/exp5/weights/last.pt --batch-size 64 --epochs 600 --img 640 --cache --hyp hyp.scratch-high.yaml --evolve"
      ],
      "metadata": {
        "id": "pxMCVyCvtPi5"
      },
      "execution_count": null,
      "outputs": []
    },
    {
      "cell_type": "code",
      "source": [
        "#Training using pre-trained weights from YOLOV5 repository\n",
        "!python train.py --data custom.yaml --weights yolov5s.pt --batch-size 32 --epochs 100 --img 640 --cache "
      ],
      "metadata": {
        "id": "5GP8hVTRsQEu"
      },
      "execution_count": null,
      "outputs": []
    },
    {
      "cell_type": "markdown",
      "source": [],
      "metadata": {
        "id": "MMma_vUs_tzP"
      }
    },
    {
      "cell_type": "code",
      "source": [],
      "metadata": {
        "id": "hILh2UOitl3j"
      },
      "execution_count": null,
      "outputs": []
    },
    {
      "cell_type": "code",
      "source": [],
      "metadata": {
        "id": "Xc0lU4tBrcpm"
      },
      "execution_count": null,
      "outputs": []
    }
  ]
}